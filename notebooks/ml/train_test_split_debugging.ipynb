{
 "cells": [
  {
   "cell_type": "code",
   "execution_count": 1,
   "id": "eb14a0c7-c665-4671-bc71-508a1999b7cc",
   "metadata": {},
   "outputs": [],
   "source": [
    "%load_ext autoreload\n",
    "%autoreload 2"
   ]
  },
  {
   "cell_type": "markdown",
   "id": "d97e649b-5579-438f-8743-826c94356990",
   "metadata": {},
   "source": [
    "# Introduction and Objective\n",
    "## Splitting the data into train, val, and test\n",
    "\n",
    "Note! the Isfahan Uni of Med Science data (dataset_1) are excluded from this round of analysis. We include that \n",
    "dataset when we have their metadata avilable so that we can split them by stratification on the subjects' age."
   ]
  },
  {
   "cell_type": "code",
   "execution_count": 2,
   "id": "9ac9eb5f-e4f7-4a51-ad13-637b556c0bde",
   "metadata": {},
   "outputs": [],
   "source": [
    "import numpy as np\n",
    "import yaml\n",
    "import os\n",
    "import matplotlib.pyplot as plt\n",
    "import matplotlib.ticker as ticker\n",
    "import pandas as pd\n",
    "from datetime import datetime"
   ]
  },
  {
   "cell_type": "code",
   "execution_count": 3,
   "id": "2d821050-b28a-464b-8246-722f02532cc4",
   "metadata": {},
   "outputs": [
    {
     "name": "stderr",
     "output_type": "stream",
     "text": [
      "Global seed set to 100\n",
      "/home/samehr/Desktop/cephal/cvmt/venv/lib/python3.8/site-packages/tqdm/auto.py:21: TqdmWarning: IProgress not found. Please update jupyter and ipywidgets. See https://ipywidgets.readthedocs.io/en/stable/user_install.html\n",
      "  from .autonotebook import tqdm as notebook_tqdm\n",
      "2023-09-20 21:03:10,169\tINFO util.py:159 -- Missing packages: ['ipywidgets']. Run `pip install -U ipywidgets`, then restart the notebook server for rich notebook output.\n"
     ]
    }
   ],
   "source": [
    "from cvmt.utils import nested_dict_to_easydict\n",
    "from cvmt.ml.utils import split_filenames\n",
    "from cvmt.ml.utils import stratify_dataset_4\n",
    "from cvmt.data.prep import merge_metadata_tables"
   ]
  },
  {
   "cell_type": "code",
   "execution_count": 4,
   "id": "f1189e53-3665-4c31-b101-71fde8a57767",
   "metadata": {},
   "outputs": [],
   "source": [
    "pd.set_option('display.max_rows', 2000)\n",
    "pd.set_option('display.max_columns', None)"
   ]
  },
  {
   "cell_type": "code",
   "execution_count": 5,
   "id": "fcfd6f9f",
   "metadata": {},
   "outputs": [],
   "source": [
    "os.chdir('../../')"
   ]
  },
  {
   "cell_type": "markdown",
   "id": "07021848-d7f9-4539-bc5d-1666e39b68c8",
   "metadata": {},
   "source": [
    "# load parameters"
   ]
  },
  {
   "cell_type": "code",
   "execution_count": 6,
   "id": "738e8cbe-ee09-49d4-8322-ad992a984885",
   "metadata": {},
   "outputs": [],
   "source": [
    "with open(\"configs/params.yaml\") as f:\n",
    "    params = yaml.safe_load(f)\n",
    "    params = nested_dict_to_easydict(params)"
   ]
  },
  {
   "cell_type": "code",
   "execution_count": 7,
   "id": "c5cec521-f139-4359-9400-fe0b1fe6cf64",
   "metadata": {},
   "outputs": [
    {
     "name": "stdout",
     "output_type": "stream",
     "text": [
      "{'RAW_DATA_DIRECTORY': 'data/raw', 'INTERMEDIATE_DATA_DIRECTORY': 'data/intermediate', 'PRIMARY_DATA_DIRECTORY': 'data/primary', 'ARTIFACTS_DATA_DIRECTORY': 'artifacts', 'RAW': {'DATASET_1': {'RAW_ZIP_FILE_NAME': 'radiography-20221212T190109Z-001.zip', 'RAW_ZIP_NEW_ANNOT_FILE_NAME': 'label_edited-20230122T143005Z-001.zip', 'INTERMEDIATE_DIR_NAME': 'dataset_1', 'UNWANTED_JSON_FIELDS': ['imageData']}, 'DATASET_3': {'RAW_RAR_FILE_NAME': 'RawImage.rar', 'RAW_DIR_NAME_TEMP': 'dataset_3_bmp', 'RAW_DIR_NAME': 'dataset_3_raw_data'}}, 'INTERM': {'UNWANTED_JSON_FIELDS': ['imageData', 'imagePath'], 'N_PROCESSES': 3, 'DATASET_1': {'DIR_NAME': 'dataset_1-20230919T192724Z-001', 'IMG_DIR_NAME': ['image'], 'V_LANDMARKS_DIR_NAME': ['label'], 'F_LANDMARKS_DIR_NAME': None}, 'DATASET_2': {'DIR_NAME': 'dataset_2-20230919T192724Z-001', 'IMG_DIR_NAME': ['image'], 'V_LANDMARKS_DIR_NAME': ['label'], 'F_LANDMARKS_DIR_NAME': None}, 'DATASET_3': {'DIR_NAME': 'dataset_3-20230919T192724Z-001', 'IMG_DIR_NAME': ['training/image', 'test1/image', 'test2/image'], 'V_LANDMARKS_DIR_NAME': ['training/label', 'test1/label', 'test2/label'], 'F_LANDMARKS_DIR_NAME': 'AnnotationsByMD/400_senior'}, 'DATASET_4': {'DIR_NAME': 'dataset_4-20230919T192724Z-001', 'IMG_DIR_NAME': ['image'], 'V_LANDMARKS_DIR_NAME': ['label'], 'F_LANDMARKS_DIR_NAME': None, 'AGE_DATA_TABLE_NAME': 'dataset_4_age.csv'}}, 'PRIMARY': {'DATASET_1': {'EDGE_DETECT_SIGMA': 3}, 'DATASET_2': {'EDGE_DETECT_SIGMA': 3}, 'DATASET_3': {'EDGE_DETECT_SIGMA': 3}, 'DATASET_4': {'EDGE_DETECT_SIGMA': 3}}, 'ARTIFACTS_GRAPHS_DIR_NAME': 'sample_graphs', 'TRAIN': {'METADATA_TABLE_NAME': 'metadata.hdf5', 'DATASETS_TO_INCLUDE': ['dataset_1', 'dataset_2', 'dataset_3', 'dataset_4'], 'TARGET_IMAGE_SIZE': [256, 256], 'GAUSSIAN_COORD2HEATMAP_STD': 3, 'MULTIPLE_TASKS': [{'TASK_ID': 3, 'BATCH_SIZE': 16, 'SHUFFLE': False}, {'TASK_ID': 4, 'BATCH_SIZE': 16, 'SHUFFLE': False}], 'SINGLE_TASK': {'TASK_ID': 3, 'BATCH_SIZE': 16, 'SHUFFLE': False}, 'MAX_EPOCHS': 6}, 'MODEL': {'DEVICE': 'cuda', 'PARAMS': {'backbone_encoder': 'efficientnet-b0', 'backbone_weights': 'imagenet', 'freeze_backbone': True, 'enc_chan_multiplier': 1, 'dec_chan_multiplier': 1, 'enc_out_chans': [4, 8, 16, 32, 64], 'dec_out_chans': [64, 32, 16, 8, 4], 'in_channels': 1, 'out_channels1': 1, 'out_channels2': 1, 'out_channels3': 13, 'out_channels4': 19}}, 'WANDB': {'INIT': {'project': 'cephal-landmark-detection', 'notes': 'First try!', 'tags': ['baseline', 'efficientnet-b0']}, 'CHECKPOINTING': {'dir': 'artifacts/artifacts'}}}\n"
     ]
    }
   ],
   "source": [
    "print(params)"
   ]
  },
  {
   "cell_type": "markdown",
   "id": "3d180e6b-1525-4929-a7d9-a28fbb8724a3",
   "metadata": {},
   "source": [
    "# recreate the metadata table from individual dataset's metadata\n",
    "\n",
    "Uncomment the line below with caution!"
   ]
  },
  {
   "cell_type": "code",
   "execution_count": 8,
   "id": "a9f2ab63-544d-4739-a130-8557a9f3c481",
   "metadata": {},
   "outputs": [],
   "source": [
    "# merge_metadata_tables(params)"
   ]
  },
  {
   "cell_type": "markdown",
   "id": "8217ec1b-27c1-4a4c-9f3a-eef6d4cf369e",
   "metadata": {},
   "source": [
    "# load the metadata table and perform the splitting"
   ]
  },
  {
   "cell_type": "code",
   "execution_count": 9,
   "id": "bf6c585d-316f-4489-9821-f864f594bcb3",
   "metadata": {},
   "outputs": [],
   "source": [
    "metadata_table = pd.read_hdf(\n",
    "    os.path.join(params.PRIMARY_DATA_DIRECTORY, params.TRAIN.METADATA_TABLE_NAME),\n",
    ")"
   ]
  },
  {
   "cell_type": "code",
   "execution_count": 10,
   "id": "c729de7a",
   "metadata": {},
   "outputs": [
    {
     "data": {
      "text/plain": [
       "(879, 18)"
      ]
     },
     "execution_count": 10,
     "metadata": {},
     "output_type": "execute_result"
    }
   ],
   "source": [
    "metadata_table.shape"
   ]
  },
  {
   "cell_type": "code",
   "execution_count": 11,
   "id": "90a98de8-e50c-4d13-8cfb-7b063c97c510",
   "metadata": {},
   "outputs": [
    {
     "data": {
      "text/html": [
       "<div>\n",
       "<style scoped>\n",
       "    .dataframe tbody tr th:only-of-type {\n",
       "        vertical-align: middle;\n",
       "    }\n",
       "\n",
       "    .dataframe tbody tr th {\n",
       "        vertical-align: top;\n",
       "    }\n",
       "\n",
       "    .dataframe thead th {\n",
       "        text-align: right;\n",
       "    }\n",
       "</style>\n",
       "<table border=\"1\" class=\"dataframe\">\n",
       "  <thead>\n",
       "    <tr style=\"text-align: right;\">\n",
       "      <th></th>\n",
       "      <th>valid_v_annots</th>\n",
       "      <th>valid_f_annots</th>\n",
       "      <th>edges_present</th>\n",
       "      <th>harmonized_id</th>\n",
       "      <th>source_image_filename</th>\n",
       "      <th>dataset</th>\n",
       "      <th>dev_set</th>\n",
       "      <th>v_annots_2_rows</th>\n",
       "      <th>v_annots_2_cols</th>\n",
       "      <th>v_annots_3_rows</th>\n",
       "      <th>v_annots_3_cols</th>\n",
       "      <th>v_annots_4_rows</th>\n",
       "      <th>v_annots_4_cols</th>\n",
       "      <th>f_annots_rows</th>\n",
       "      <th>f_annots_cols</th>\n",
       "      <th>age</th>\n",
       "      <th>grouping_factor</th>\n",
       "      <th>split</th>\n",
       "    </tr>\n",
       "  </thead>\n",
       "  <tbody>\n",
       "    <tr>\n",
       "      <th>0</th>\n",
       "      <td>True</td>\n",
       "      <td>False</td>\n",
       "      <td>True</td>\n",
       "      <td>1bdf9d5179eec7208edd</td>\n",
       "      <td>45.jpg</td>\n",
       "      <td>dataset_1</td>\n",
       "      <td>NaN</td>\n",
       "      <td>3.0</td>\n",
       "      <td>2.0</td>\n",
       "      <td>5.0</td>\n",
       "      <td>2.0</td>\n",
       "      <td>5.0</td>\n",
       "      <td>2.0</td>\n",
       "      <td>NaN</td>\n",
       "      <td>NaN</td>\n",
       "      <td>NaN</td>\n",
       "      <td>dataset_1</td>\n",
       "      <td>train</td>\n",
       "    </tr>\n",
       "    <tr>\n",
       "      <th>1</th>\n",
       "      <td>True</td>\n",
       "      <td>False</td>\n",
       "      <td>True</td>\n",
       "      <td>49dedc874eac6533ca11</td>\n",
       "      <td>92.jpg</td>\n",
       "      <td>dataset_1</td>\n",
       "      <td>NaN</td>\n",
       "      <td>3.0</td>\n",
       "      <td>2.0</td>\n",
       "      <td>5.0</td>\n",
       "      <td>2.0</td>\n",
       "      <td>5.0</td>\n",
       "      <td>2.0</td>\n",
       "      <td>NaN</td>\n",
       "      <td>NaN</td>\n",
       "      <td>NaN</td>\n",
       "      <td>dataset_1</td>\n",
       "      <td>train</td>\n",
       "    </tr>\n",
       "    <tr>\n",
       "      <th>2</th>\n",
       "      <td>True</td>\n",
       "      <td>False</td>\n",
       "      <td>True</td>\n",
       "      <td>edbb9dff04c293f29a70</td>\n",
       "      <td>43.jpg</td>\n",
       "      <td>dataset_1</td>\n",
       "      <td>NaN</td>\n",
       "      <td>3.0</td>\n",
       "      <td>2.0</td>\n",
       "      <td>5.0</td>\n",
       "      <td>2.0</td>\n",
       "      <td>5.0</td>\n",
       "      <td>2.0</td>\n",
       "      <td>NaN</td>\n",
       "      <td>NaN</td>\n",
       "      <td>NaN</td>\n",
       "      <td>dataset_1</td>\n",
       "      <td>val</td>\n",
       "    </tr>\n",
       "    <tr>\n",
       "      <th>3</th>\n",
       "      <td>True</td>\n",
       "      <td>False</td>\n",
       "      <td>True</td>\n",
       "      <td>4342864503ac482f59f1</td>\n",
       "      <td>7.jpg</td>\n",
       "      <td>dataset_1</td>\n",
       "      <td>NaN</td>\n",
       "      <td>3.0</td>\n",
       "      <td>2.0</td>\n",
       "      <td>5.0</td>\n",
       "      <td>2.0</td>\n",
       "      <td>5.0</td>\n",
       "      <td>2.0</td>\n",
       "      <td>NaN</td>\n",
       "      <td>NaN</td>\n",
       "      <td>NaN</td>\n",
       "      <td>dataset_1</td>\n",
       "      <td>val</td>\n",
       "    </tr>\n",
       "    <tr>\n",
       "      <th>4</th>\n",
       "      <td>True</td>\n",
       "      <td>False</td>\n",
       "      <td>True</td>\n",
       "      <td>afa4faf2dd1c5d823e85</td>\n",
       "      <td>121.jpg</td>\n",
       "      <td>dataset_1</td>\n",
       "      <td>NaN</td>\n",
       "      <td>3.0</td>\n",
       "      <td>2.0</td>\n",
       "      <td>5.0</td>\n",
       "      <td>2.0</td>\n",
       "      <td>5.0</td>\n",
       "      <td>2.0</td>\n",
       "      <td>NaN</td>\n",
       "      <td>NaN</td>\n",
       "      <td>NaN</td>\n",
       "      <td>dataset_1</td>\n",
       "      <td>train</td>\n",
       "    </tr>\n",
       "  </tbody>\n",
       "</table>\n",
       "</div>"
      ],
      "text/plain": [
       "   valid_v_annots  valid_f_annots  edges_present         harmonized_id  \\\n",
       "0            True           False           True  1bdf9d5179eec7208edd   \n",
       "1            True           False           True  49dedc874eac6533ca11   \n",
       "2            True           False           True  edbb9dff04c293f29a70   \n",
       "3            True           False           True  4342864503ac482f59f1   \n",
       "4            True           False           True  afa4faf2dd1c5d823e85   \n",
       "\n",
       "  source_image_filename    dataset dev_set  v_annots_2_rows  v_annots_2_cols  \\\n",
       "0                45.jpg  dataset_1     NaN              3.0              2.0   \n",
       "1                92.jpg  dataset_1     NaN              3.0              2.0   \n",
       "2                43.jpg  dataset_1     NaN              3.0              2.0   \n",
       "3                 7.jpg  dataset_1     NaN              3.0              2.0   \n",
       "4               121.jpg  dataset_1     NaN              3.0              2.0   \n",
       "\n",
       "   v_annots_3_rows  v_annots_3_cols  v_annots_4_rows  v_annots_4_cols  \\\n",
       "0              5.0              2.0              5.0              2.0   \n",
       "1              5.0              2.0              5.0              2.0   \n",
       "2              5.0              2.0              5.0              2.0   \n",
       "3              5.0              2.0              5.0              2.0   \n",
       "4              5.0              2.0              5.0              2.0   \n",
       "\n",
       "  f_annots_rows f_annots_cols  age grouping_factor  split  \n",
       "0           NaN           NaN  NaN       dataset_1  train  \n",
       "1           NaN           NaN  NaN       dataset_1  train  \n",
       "2           NaN           NaN  NaN       dataset_1    val  \n",
       "3           NaN           NaN  NaN       dataset_1    val  \n",
       "4           NaN           NaN  NaN       dataset_1  train  "
      ]
     },
     "execution_count": 11,
     "metadata": {},
     "output_type": "execute_result"
    }
   ],
   "source": [
    "metadata_table.head(5)"
   ]
  },
  {
   "cell_type": "code",
   "execution_count": 12,
   "id": "d4c29462-185a-4e11-898c-9f4b683d5b3e",
   "metadata": {},
   "outputs": [
    {
     "data": {
      "text/html": [
       "<div>\n",
       "<style scoped>\n",
       "    .dataframe tbody tr th:only-of-type {\n",
       "        vertical-align: middle;\n",
       "    }\n",
       "\n",
       "    .dataframe tbody tr th {\n",
       "        vertical-align: top;\n",
       "    }\n",
       "\n",
       "    .dataframe thead th {\n",
       "        text-align: right;\n",
       "    }\n",
       "</style>\n",
       "<table border=\"1\" class=\"dataframe\">\n",
       "  <thead>\n",
       "    <tr style=\"text-align: right;\">\n",
       "      <th></th>\n",
       "      <th>count</th>\n",
       "      <th>unique</th>\n",
       "      <th>top</th>\n",
       "      <th>freq</th>\n",
       "    </tr>\n",
       "    <tr>\n",
       "      <th>split</th>\n",
       "      <th></th>\n",
       "      <th></th>\n",
       "      <th></th>\n",
       "      <th></th>\n",
       "    </tr>\n",
       "  </thead>\n",
       "  <tbody>\n",
       "    <tr>\n",
       "      <th>test</th>\n",
       "      <td>178</td>\n",
       "      <td>4</td>\n",
       "      <td>dataset_3</td>\n",
       "      <td>79</td>\n",
       "    </tr>\n",
       "    <tr>\n",
       "      <th>train</th>\n",
       "      <td>511</td>\n",
       "      <td>4</td>\n",
       "      <td>dataset_3</td>\n",
       "      <td>235</td>\n",
       "    </tr>\n",
       "    <tr>\n",
       "      <th>undefined</th>\n",
       "      <td>22</td>\n",
       "      <td>4</td>\n",
       "      <td>dataset_2</td>\n",
       "      <td>10</td>\n",
       "    </tr>\n",
       "    <tr>\n",
       "      <th>val</th>\n",
       "      <td>168</td>\n",
       "      <td>4</td>\n",
       "      <td>dataset_3</td>\n",
       "      <td>78</td>\n",
       "    </tr>\n",
       "  </tbody>\n",
       "</table>\n",
       "</div>"
      ],
      "text/plain": [
       "          count unique        top freq\n",
       "split                                 \n",
       "test        178      4  dataset_3   79\n",
       "train       511      4  dataset_3  235\n",
       "undefined    22      4  dataset_2   10\n",
       "val         168      4  dataset_3   78"
      ]
     },
     "execution_count": 12,
     "metadata": {},
     "output_type": "execute_result"
    }
   ],
   "source": [
    "metadata_table.groupby('split')['dataset'].describe()"
   ]
  },
  {
   "cell_type": "code",
   "execution_count": 13,
   "id": "ab31160b-eaf4-49c0-ae87-a693734da74e",
   "metadata": {},
   "outputs": [
    {
     "data": {
      "text/plain": [
       "dataset_3           400\n",
       "dataset_1           142\n",
       "dataset_4_age_12    125\n",
       "dataset_4_age_14    116\n",
       "dataset_2            79\n",
       "dataset_4_age_18      7\n",
       "dataset_4_age_16      6\n",
       "dataset_4             2\n",
       "dataset_4_age_10      2\n",
       "Name: grouping_factor, dtype: int64"
      ]
     },
     "execution_count": 13,
     "metadata": {},
     "output_type": "execute_result"
    }
   ],
   "source": [
    "metadata_table.grouping_factor.value_counts()"
   ]
  },
  {
   "cell_type": "code",
   "execution_count": 14,
   "id": "a791d96e-cec3-4b9d-8cbf-8d9dd4731183",
   "metadata": {},
   "outputs": [],
   "source": [
    "selected_samples = metadata_table.loc[\n",
    "    (metadata_table['dataset'].isin(params.TRAIN.DATASETS_TO_INCLUDE)) & (\n",
    "        metadata_table['valid_v_annots'] == True\n",
    "    ),\n",
    "    ['harmonized_id', 'dataset', 'source_image_filename', 'split', 'grouping_factor']\n",
    "]"
   ]
  },
  {
   "cell_type": "code",
   "execution_count": 15,
   "id": "11da07f1-2bbe-48b6-8cf0-4620d524ccb0",
   "metadata": {},
   "outputs": [
    {
     "data": {
      "text/plain": [
       "(857, 5)"
      ]
     },
     "execution_count": 15,
     "metadata": {},
     "output_type": "execute_result"
    }
   ],
   "source": [
    "selected_samples.shape"
   ]
  },
  {
   "cell_type": "code",
   "execution_count": 16,
   "id": "459355d8-e3dd-4031-89f3-b0f6313ceafd",
   "metadata": {},
   "outputs": [
    {
     "data": {
      "text/html": [
       "<div>\n",
       "<style scoped>\n",
       "    .dataframe tbody tr th:only-of-type {\n",
       "        vertical-align: middle;\n",
       "    }\n",
       "\n",
       "    .dataframe tbody tr th {\n",
       "        vertical-align: top;\n",
       "    }\n",
       "\n",
       "    .dataframe thead th {\n",
       "        text-align: right;\n",
       "    }\n",
       "</style>\n",
       "<table border=\"1\" class=\"dataframe\">\n",
       "  <thead>\n",
       "    <tr style=\"text-align: right;\">\n",
       "      <th></th>\n",
       "      <th>harmonized_id</th>\n",
       "      <th>dataset</th>\n",
       "      <th>source_image_filename</th>\n",
       "      <th>split</th>\n",
       "      <th>grouping_factor</th>\n",
       "    </tr>\n",
       "  </thead>\n",
       "  <tbody>\n",
       "    <tr>\n",
       "      <th>count</th>\n",
       "      <td>857</td>\n",
       "      <td>857</td>\n",
       "      <td>857</td>\n",
       "      <td>857</td>\n",
       "      <td>857</td>\n",
       "    </tr>\n",
       "    <tr>\n",
       "      <th>unique</th>\n",
       "      <td>857</td>\n",
       "      <td>4</td>\n",
       "      <td>719</td>\n",
       "      <td>3</td>\n",
       "      <td>9</td>\n",
       "    </tr>\n",
       "    <tr>\n",
       "      <th>top</th>\n",
       "      <td>1bdf9d5179eec7208edd</td>\n",
       "      <td>dataset_3</td>\n",
       "      <td>45.jpg</td>\n",
       "      <td>train</td>\n",
       "      <td>dataset_3</td>\n",
       "    </tr>\n",
       "    <tr>\n",
       "      <th>freq</th>\n",
       "      <td>1</td>\n",
       "      <td>392</td>\n",
       "      <td>2</td>\n",
       "      <td>511</td>\n",
       "      <td>392</td>\n",
       "    </tr>\n",
       "  </tbody>\n",
       "</table>\n",
       "</div>"
      ],
      "text/plain": [
       "               harmonized_id    dataset source_image_filename  split  \\\n",
       "count                    857        857                   857    857   \n",
       "unique                   857          4                   719      3   \n",
       "top     1bdf9d5179eec7208edd  dataset_3                45.jpg  train   \n",
       "freq                       1        392                     2    511   \n",
       "\n",
       "       grouping_factor  \n",
       "count              857  \n",
       "unique               9  \n",
       "top          dataset_3  \n",
       "freq               392  "
      ]
     },
     "execution_count": 16,
     "metadata": {},
     "output_type": "execute_result"
    }
   ],
   "source": [
    "selected_samples.describe()"
   ]
  },
  {
   "cell_type": "code",
   "execution_count": 17,
   "id": "3768ba06-9481-444c-a806-74f11bfe3b82",
   "metadata": {},
   "outputs": [
    {
     "data": {
      "text/html": [
       "<div>\n",
       "<style scoped>\n",
       "    .dataframe tbody tr th:only-of-type {\n",
       "        vertical-align: middle;\n",
       "    }\n",
       "\n",
       "    .dataframe tbody tr th {\n",
       "        vertical-align: top;\n",
       "    }\n",
       "\n",
       "    .dataframe thead th {\n",
       "        text-align: right;\n",
       "    }\n",
       "</style>\n",
       "<table border=\"1\" class=\"dataframe\">\n",
       "  <thead>\n",
       "    <tr style=\"text-align: right;\">\n",
       "      <th></th>\n",
       "      <th>count</th>\n",
       "      <th>unique</th>\n",
       "      <th>top</th>\n",
       "      <th>freq</th>\n",
       "    </tr>\n",
       "    <tr>\n",
       "      <th>split</th>\n",
       "      <th></th>\n",
       "      <th></th>\n",
       "      <th></th>\n",
       "      <th></th>\n",
       "    </tr>\n",
       "  </thead>\n",
       "  <tbody>\n",
       "    <tr>\n",
       "      <th>test</th>\n",
       "      <td>178</td>\n",
       "      <td>4</td>\n",
       "      <td>dataset_3</td>\n",
       "      <td>79</td>\n",
       "    </tr>\n",
       "    <tr>\n",
       "      <th>train</th>\n",
       "      <td>511</td>\n",
       "      <td>4</td>\n",
       "      <td>dataset_3</td>\n",
       "      <td>235</td>\n",
       "    </tr>\n",
       "    <tr>\n",
       "      <th>undefined</th>\n",
       "      <td>22</td>\n",
       "      <td>4</td>\n",
       "      <td>dataset_2</td>\n",
       "      <td>10</td>\n",
       "    </tr>\n",
       "    <tr>\n",
       "      <th>val</th>\n",
       "      <td>168</td>\n",
       "      <td>4</td>\n",
       "      <td>dataset_3</td>\n",
       "      <td>78</td>\n",
       "    </tr>\n",
       "  </tbody>\n",
       "</table>\n",
       "</div>"
      ],
      "text/plain": [
       "          count unique        top freq\n",
       "split                                 \n",
       "test        178      4  dataset_3   79\n",
       "train       511      4  dataset_3  235\n",
       "undefined    22      4  dataset_2   10\n",
       "val         168      4  dataset_3   78"
      ]
     },
     "execution_count": 17,
     "metadata": {},
     "output_type": "execute_result"
    }
   ],
   "source": [
    "metadata_table.groupby('split')['dataset'].describe()"
   ]
  },
  {
   "cell_type": "code",
   "execution_count": 18,
   "id": "387d90a6-2d02-42b5-ab38-9aff87be4ce9",
   "metadata": {},
   "outputs": [
    {
     "data": {
      "image/png": "[encoded data removed]",
      "text/plain": [
       "<Figure size 640x480 with 1 Axes>"
      ]
     },
     "metadata": {},
     "output_type": "display_data"
    }
   ],
   "source": [
    "grouped_split_dataset = metadata_table.groupby(['split','dataset']).size().unstack().plot(kind='bar', legend=True) # apply(lambda x: len(x))"
   ]
  },
  {
   "cell_type": "markdown",
   "id": "168c9565-8a60-4947-8604-28528e806467",
   "metadata": {},
   "source": [
    "# Export the malformed v_annots files"
   ]
  },
  {
   "cell_type": "code",
   "execution_count": 19,
   "id": "547fcf42-114a-4ab8-9a5a-48d9416e96cf",
   "metadata": {},
   "outputs": [],
   "source": [
    "malformed = metadata_table.loc[metadata_table['valid_v_annots']==False, ['dataset', 'source_image_filename']].reset_index(drop=True)"
   ]
  },
  {
   "cell_type": "code",
   "execution_count": 20,
   "id": "99938ede-05c8-4b61-997d-413026b17e16",
   "metadata": {},
   "outputs": [
    {
     "data": {
      "text/html": [
       "<div>\n",
       "<style scoped>\n",
       "    .dataframe tbody tr th:only-of-type {\n",
       "        vertical-align: middle;\n",
       "    }\n",
       "\n",
       "    .dataframe tbody tr th {\n",
       "        vertical-align: top;\n",
       "    }\n",
       "\n",
       "    .dataframe thead th {\n",
       "        text-align: right;\n",
       "    }\n",
       "</style>\n",
       "<table border=\"1\" class=\"dataframe\">\n",
       "  <thead>\n",
       "    <tr style=\"text-align: right;\">\n",
       "      <th></th>\n",
       "      <th>dataset</th>\n",
       "      <th>source_image_filename</th>\n",
       "    </tr>\n",
       "  </thead>\n",
       "  <tbody>\n",
       "    <tr>\n",
       "      <th>0</th>\n",
       "      <td>dataset_1</td>\n",
       "      <td>31.jpg</td>\n",
       "    </tr>\n",
       "    <tr>\n",
       "      <th>1</th>\n",
       "      <td>dataset_2</td>\n",
       "      <td>1001.jpg</td>\n",
       "    </tr>\n",
       "    <tr>\n",
       "      <th>2</th>\n",
       "      <td>dataset_2</td>\n",
       "      <td>1034.jpg</td>\n",
       "    </tr>\n",
       "    <tr>\n",
       "      <th>3</th>\n",
       "      <td>dataset_2</td>\n",
       "      <td>1064.jpg</td>\n",
       "    </tr>\n",
       "    <tr>\n",
       "      <th>4</th>\n",
       "      <td>dataset_2</td>\n",
       "      <td>1056.jpg</td>\n",
       "    </tr>\n",
       "    <tr>\n",
       "      <th>5</th>\n",
       "      <td>dataset_2</td>\n",
       "      <td>1070.jpg</td>\n",
       "    </tr>\n",
       "    <tr>\n",
       "      <th>6</th>\n",
       "      <td>dataset_2</td>\n",
       "      <td>1030.jpg</td>\n",
       "    </tr>\n",
       "    <tr>\n",
       "      <th>7</th>\n",
       "      <td>dataset_2</td>\n",
       "      <td>1012.jpg</td>\n",
       "    </tr>\n",
       "    <tr>\n",
       "      <th>8</th>\n",
       "      <td>dataset_2</td>\n",
       "      <td>1042.jpg</td>\n",
       "    </tr>\n",
       "    <tr>\n",
       "      <th>9</th>\n",
       "      <td>dataset_2</td>\n",
       "      <td>1031.jpg</td>\n",
       "    </tr>\n",
       "    <tr>\n",
       "      <th>10</th>\n",
       "      <td>dataset_2</td>\n",
       "      <td>1026.jpg</td>\n",
       "    </tr>\n",
       "    <tr>\n",
       "      <th>11</th>\n",
       "      <td>dataset_3</td>\n",
       "      <td>124.jpeg</td>\n",
       "    </tr>\n",
       "    <tr>\n",
       "      <th>12</th>\n",
       "      <td>dataset_3</td>\n",
       "      <td>059.jpeg</td>\n",
       "    </tr>\n",
       "    <tr>\n",
       "      <th>13</th>\n",
       "      <td>dataset_3</td>\n",
       "      <td>057.jpeg</td>\n",
       "    </tr>\n",
       "    <tr>\n",
       "      <th>14</th>\n",
       "      <td>dataset_3</td>\n",
       "      <td>105.jpeg</td>\n",
       "    </tr>\n",
       "    <tr>\n",
       "      <th>15</th>\n",
       "      <td>dataset_3</td>\n",
       "      <td>186.jpeg</td>\n",
       "    </tr>\n",
       "    <tr>\n",
       "      <th>16</th>\n",
       "      <td>dataset_3</td>\n",
       "      <td>317.jpeg</td>\n",
       "    </tr>\n",
       "    <tr>\n",
       "      <th>17</th>\n",
       "      <td>dataset_3</td>\n",
       "      <td>359.jpeg</td>\n",
       "    </tr>\n",
       "    <tr>\n",
       "      <th>18</th>\n",
       "      <td>dataset_3</td>\n",
       "      <td>352.jpeg</td>\n",
       "    </tr>\n",
       "    <tr>\n",
       "      <th>19</th>\n",
       "      <td>dataset_4</td>\n",
       "      <td>5.jpg</td>\n",
       "    </tr>\n",
       "    <tr>\n",
       "      <th>20</th>\n",
       "      <td>dataset_4</td>\n",
       "      <td>49.jpg</td>\n",
       "    </tr>\n",
       "    <tr>\n",
       "      <th>21</th>\n",
       "      <td>dataset_4</td>\n",
       "      <td>46.jpg</td>\n",
       "    </tr>\n",
       "  </tbody>\n",
       "</table>\n",
       "</div>"
      ],
      "text/plain": [
       "      dataset source_image_filename\n",
       "0   dataset_1                31.jpg\n",
       "1   dataset_2              1001.jpg\n",
       "2   dataset_2              1034.jpg\n",
       "3   dataset_2              1064.jpg\n",
       "4   dataset_2              1056.jpg\n",
       "5   dataset_2              1070.jpg\n",
       "6   dataset_2              1030.jpg\n",
       "7   dataset_2              1012.jpg\n",
       "8   dataset_2              1042.jpg\n",
       "9   dataset_2              1031.jpg\n",
       "10  dataset_2              1026.jpg\n",
       "11  dataset_3              124.jpeg\n",
       "12  dataset_3              059.jpeg\n",
       "13  dataset_3              057.jpeg\n",
       "14  dataset_3              105.jpeg\n",
       "15  dataset_3              186.jpeg\n",
       "16  dataset_3              317.jpeg\n",
       "17  dataset_3              359.jpeg\n",
       "18  dataset_3              352.jpeg\n",
       "19  dataset_4                 5.jpg\n",
       "20  dataset_4                49.jpg\n",
       "21  dataset_4                46.jpg"
      ]
     },
     "execution_count": 20,
     "metadata": {},
     "output_type": "execute_result"
    }
   ],
   "source": [
    "malformed"
   ]
  },
  {
   "cell_type": "code",
   "execution_count": 21,
   "id": "18b64fed-1b73-46fe-8e3b-f0fad39625a9",
   "metadata": {},
   "outputs": [],
   "source": [
    "# today_str = datetime.today().strftime('%Y-%m-%d')\n",
    "# malformed.to_csv(f\"notebooks/ml/v_annots_malformed_{today_str}.csv\", sep=';')"
   ]
  },
  {
   "cell_type": "code",
   "execution_count": null,
   "id": "9602a606-2caf-429a-a094-f1dc8dd6488a",
   "metadata": {},
   "outputs": [],
   "source": []
  }
 ],
 "metadata": {
  "kernelspec": {
   "display_name": "Python 3 (ipykernel)",
   "language": "python",
   "name": "python3"
  },
  "language_info": {
   "codemirror_mode": {
    "name": "ipython",
    "version": 3
   },
   "file_extension": ".py",
   "mimetype": "text/x-python",
   "name": "python",
   "nbconvert_exporter": "python",
   "pygments_lexer": "ipython3",
   "version": "3.8.10"
  }
 },
 "nbformat": 4,
 "nbformat_minor": 5
}
