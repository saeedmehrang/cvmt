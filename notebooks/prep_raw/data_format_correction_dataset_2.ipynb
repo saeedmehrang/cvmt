{
 "cells": [
  {
   "cell_type": "code",
   "execution_count": 1,
   "id": "221fc8b1-350e-4f97-b15d-69a78ad54a02",
   "metadata": {},
   "outputs": [],
   "source": [
    "%load_ext autoreload\n",
    "%autoreload 2"
   ]
  },
  {
   "cell_type": "code",
   "execution_count": 2,
   "id": "d429a278-0f47-4036-9d69-121908a34970",
   "metadata": {},
   "outputs": [],
   "source": [
    "import json\n",
    "import os\n",
    "import yaml\n",
    "import shutil\n",
    "import time\n",
    "from PIL import Image\n",
    "import numpy as np"
   ]
  },
  {
   "cell_type": "markdown",
   "id": "bc80f270-fa25-480b-aee9-ee252c3ff9ea",
   "metadata": {},
   "source": [
    "# Note!\n",
    "unrar the folder for ISBI challenge data using either `7zip` in windows or `unrar` package in ubuntu before running this notebook! Also, make sure that you change the name of the extracted directory to `dataset_2`. The original directory name is `RawImage` which needs to be changed to `dataset_2`.\n"
   ]
  },
  {
   "cell_type": "code",
   "execution_count": 3,
   "id": "960ee554-7769-49f9-8123-163f58eb2883",
   "metadata": {},
   "outputs": [],
   "source": [
    "with open(\"../code_configs/params.yaml\") as f:\n",
    "    params = yaml.safe_load(f)"
   ]
  },
  {
   "cell_type": "code",
   "execution_count": 4,
   "id": "29bfa6cd-87ae-4e00-95ea-4e72851ac157",
   "metadata": {},
   "outputs": [
    {
     "data": {
      "text/plain": [
       "{'RAW_DATA_DIRECTORY': '../data/raw',\n",
       " 'PRIMARY_DATA_DIRECTORY': '../data/primary',\n",
       " 'DATASET_1_RAW_ZIP_FILE_NAME': 'radiography-20221212T190109Z-001.zip',\n",
       " 'DATASET_1_RAW_DIR_NAME': 'dataset_1',\n",
       " 'DATASET_2_RAW_RAR_FILE_NAME': 'RawImage.rar',\n",
       " 'DATASET_2_RAW_DIR_NAME_TEMP': 'dataset_3_bmp',\n",
       " 'DATASET_2_RAW_DIR_NAME': 'dataset_3_raw_data'}"
      ]
     },
     "execution_count": 4,
     "metadata": {},
     "output_type": "execute_result"
    }
   ],
   "source": [
    "params"
   ]
  },
  {
   "cell_type": "markdown",
   "id": "b1814535-77a6-4dfc-880a-97543aefbb6d",
   "metadata": {},
   "source": [
    "# Extract the rar file"
   ]
  },
  {
   "cell_type": "code",
   "execution_count": 5,
   "id": "00a2003f-b4c2-4fb9-8be2-c822af63bc93",
   "metadata": {},
   "outputs": [],
   "source": [
    "dataset_2_rar_file_path = os.path.join(\n",
    "    params['RAW_DATA_DIRECTORY'],\n",
    "    params['DATASET_2_RAW_RAR_FILE_NAME'],\n",
    ")\n",
    "\n",
    "dataset_2_rar_extract_dest_path = os.path.join(\n",
    "    params['RAW_DATA_DIRECTORY'],\n",
    "    params['DATASET_2_RAW_DIR_NAME_TEMP'],\n",
    ")\n",
    "\n",
    "dataset_2_rar_extract_dest_path += '/'"
   ]
  },
  {
   "cell_type": "code",
   "execution_count": 6,
   "id": "c212f30e-c750-45a3-860f-53289bd16312",
   "metadata": {
    "scrolled": true,
    "tags": []
   },
   "outputs": [],
   "source": [
    "!unrar x -inul {dataset_2_rar_file_path} {dataset_2_rar_extract_dest_path}"
   ]
  },
  {
   "cell_type": "markdown",
   "id": "6e02bb64-d1e0-48ba-ab26-e03c5d2fcc24",
   "metadata": {},
   "source": [
    "# start the process of conversion of bmp to jpeg"
   ]
  },
  {
   "cell_type": "markdown",
   "id": "faeb7a38-c8ca-425b-a9c5-d6c7ece5f8cd",
   "metadata": {},
   "source": [
    "## get the name of the subfolders in params['DATASET_2_RAW_DIR_NAME_TEMP']"
   ]
  },
  {
   "cell_type": "code",
   "execution_count": 7,
   "id": "0d27a0c9-3091-40b1-8f11-b157d94259cd",
   "metadata": {},
   "outputs": [],
   "source": [
    "dataset_2_temp_path = os.path.join(\n",
    "    params['RAW_DATA_DIRECTORY'],\n",
    "    params['DATASET_2_RAW_DIR_NAME_TEMP'],\n",
    "    params['DATASET_2_RAW_RAR_FILE_NAME'].split('.')[0],\n",
    ")\n",
    "sub_dirs = os.listdir(dataset_2_temp_path)"
   ]
  },
  {
   "cell_type": "code",
   "execution_count": 8,
   "id": "8947e1ce-8807-4c25-b28e-bdb0214ce9ef",
   "metadata": {},
   "outputs": [
    {
     "data": {
      "text/plain": [
       "['TrainingData', 'Test1Data', 'Test2Data']"
      ]
     },
     "execution_count": 8,
     "metadata": {},
     "output_type": "execute_result"
    }
   ],
   "source": [
    "sub_dirs"
   ]
  },
  {
   "cell_type": "markdown",
   "id": "7b377eca-9145-481a-86df-c3bc281dfb2f",
   "metadata": {},
   "source": [
    "# Create a new empty directory to store the jpeg files of images"
   ]
  },
  {
   "cell_type": "code",
   "execution_count": 9,
   "id": "ac4b418f-a19f-4da2-811d-d61efa31bd17",
   "metadata": {},
   "outputs": [],
   "source": [
    "dataset_2_dest_path = os.path.join(\n",
    "    params['RAW_DATA_DIRECTORY'],\n",
    "    params['DATASET_2_RAW_DIR_NAME'],\n",
    ")"
   ]
  },
  {
   "cell_type": "code",
   "execution_count": 10,
   "id": "3337b841-42af-42c5-b8c9-1fd9754e0e30",
   "metadata": {},
   "outputs": [],
   "source": [
    "if not os.path.exists(dataset_2_dest_path):\n",
    "    os.makedirs(dataset_2_dest_path)\n",
    "else:\n",
    "    print('The directory {} exists! Please remove it and try again!'.format(dataset_2_dest_path))"
   ]
  },
  {
   "cell_type": "code",
   "execution_count": 11,
   "id": "66b03503-a458-4145-915b-4b679c5922e6",
   "metadata": {},
   "outputs": [],
   "source": [
    "for sub_dir in sub_dirs:\n",
    "    sub_dir_path = os.path.join(\n",
    "        dataset_2_dest_path,\n",
    "        sub_dir,\n",
    "    )\n",
    "    if not os.path.exists(sub_dir_path):\n",
    "        os.makedirs(sub_dir_path)\n",
    "    else:\n",
    "        print('The directory {} exists! Please remove it and try again!'.format(sub_dir_path))"
   ]
  },
  {
   "cell_type": "markdown",
   "id": "8cf89f26-7df4-4360-9053-a0c82342d7e2",
   "metadata": {},
   "source": [
    "# Save bmp files as jpeg files and remove the original bmp files after that"
   ]
  },
  {
   "cell_type": "code",
   "execution_count": 12,
   "id": "a0354c93-62de-483f-81ad-a2758356bc5e",
   "metadata": {},
   "outputs": [
    {
     "name": "stdout",
     "output_type": "stream",
     "text": [
      "Source directory:\n",
      "../data/raw/dataset_3_bmp/RawImage/TrainingData\n",
      "There are 150 bmp images in the source directory\n",
      "Destination directory:\n",
      "../data/raw/dataset_3_raw_data/TrainingData\n",
      "There are 150 bmp images in the destination directory\n",
      "\n",
      "Source directory:\n",
      "../data/raw/dataset_3_bmp/RawImage/Test1Data\n",
      "There are 150 bmp images in the source directory\n",
      "Destination directory:\n",
      "../data/raw/dataset_3_raw_data/Test1Data\n",
      "There are 150 bmp images in the destination directory\n",
      "\n",
      "Source directory:\n",
      "../data/raw/dataset_3_bmp/RawImage/Test2Data\n",
      "There are 100 bmp images in the source directory\n",
      "Destination directory:\n",
      "../data/raw/dataset_3_raw_data/Test2Data\n",
      "There are 100 bmp images in the destination directory\n",
      "\n"
     ]
    }
   ],
   "source": [
    "for sub_dir in sub_dirs:\n",
    "    source_sub_dir_path = os.path.join(dataset_2_temp_path, sub_dir)\n",
    "    dest_sub_dir_path = os.path.join(dataset_2_dest_path, sub_dir)\n",
    "    images_name = os.listdir(source_sub_dir_path)\n",
    "    print('Source directory:')\n",
    "    print(source_sub_dir_path)\n",
    "    print('There are {} bmp images in the source directory'.format(len(images_name)))\n",
    "    images_converted = []\n",
    "    for image_name in images_name:\n",
    "        bmp_image_path = os.path.join(source_sub_dir_path, image_name)\n",
    "        jpg_image_path = os.path.join(dest_sub_dir_path, image_name.split('.')[0] + '.jpeg')\n",
    "        img = Image.open(bmp_image_path)\n",
    "        img.save(jpg_image_path, 'jpeg', subsampling=0, quality=95)\n",
    "        images_converted.append(image_name)\n",
    "    \n",
    "    print('Destination directory:')\n",
    "    print(dest_sub_dir_path)\n",
    "    images_name = os.listdir(dest_sub_dir_path)\n",
    "    print('There are {} bmp images in the destination directory'.format(len(images_name)))\n",
    "    print()"
   ]
  },
  {
   "cell_type": "markdown",
   "id": "2acedda6-8888-4c7b-80ae-9f23bc238eed",
   "metadata": {},
   "source": [
    "# remove the temporary bmp images"
   ]
  },
  {
   "cell_type": "code",
   "execution_count": 13,
   "id": "07633487-a64b-47c2-a9db-41887ac4e8f6",
   "metadata": {},
   "outputs": [],
   "source": [
    "shutil.rmtree(dataset_2_rar_extract_dest_path)"
   ]
  }
 ],
 "metadata": {
  "kernelspec": {
   "display_name": "Python 3 (ipykernel)",
   "language": "python",
   "name": "python3"
  },
  "language_info": {
   "codemirror_mode": {
    "name": "ipython",
    "version": 3
   },
   "file_extension": ".py",
   "mimetype": "text/x-python",
   "name": "python",
   "nbconvert_exporter": "python",
   "pygments_lexer": "ipython3",
   "version": "3.8.0"
  }
 },
 "nbformat": 4,
 "nbformat_minor": 5
}
