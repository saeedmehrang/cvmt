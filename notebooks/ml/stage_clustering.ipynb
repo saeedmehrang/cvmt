{
 "cells": [
  {
   "cell_type": "code",
   "execution_count": null,
   "id": "d452a37b-6cee-4fad-a297-890db5dba0bc",
   "metadata": {},
   "outputs": [],
   "source": [
    "%load_ext autoreload\n",
    "%autoreload 2"
   ]
  },
  {
   "cell_type": "code",
   "execution_count": null,
   "id": "507ccfc0-7847-4b53-a9f4-150046c6ef61",
   "metadata": {},
   "outputs": [],
   "source": [
    "import pandas as pd\n",
    "import numpy as np\n",
    "import os\n",
    "from typing import *\n",
    "\n",
    "from cvmt.utils import (load_yaml_params, nested_dict_to_easydict)\n",
    "from cvmt.utils import (\n",
    "    img_coord_2_cartesian_coord,\n",
    "    translate_landmarks,\n",
    "    rotate_landmarks,\n",
    "    plot_landmarks,\n",
    "    normalize_coords,\n",
    "    plot_image_and_vertebral_landmarks,\n",
    ")\n",
    "\n",
    "from cvmt.ml.utils import download_wandb_model_checkpoint\n",
    "from cvmt.ml.trainer import create_dataloader, max_indices_4d_tensor\n",
    "from cvmt.inference.inference import load_pretrained_model_eval_mode\n",
    "import torch\n",
    "from sklearn.cluster import KMeans, DBSCAN, SpectralClustering\n",
    "import matplotlib.pyplot as plt\n",
    "\n",
    "from sklearn.decomposition import PCA\n",
    "from sklearn.preprocessing import StandardScaler, MinMaxScaler"
   ]
  },
  {
   "cell_type": "code",
   "execution_count": null,
   "id": "e5b099be-1708-4a5f-bf49-25869e7af144",
   "metadata": {},
   "outputs": [],
   "source": [
    "pd.set_option('display.max_rows', 500)\n",
    "pd.set_option('display.max_columns', 100)"
   ]
  },
  {
   "cell_type": "code",
   "execution_count": null,
   "id": "b304bc59-1fbc-4613-b98a-5a71462bf2fe",
   "metadata": {},
   "outputs": [],
   "source": [
    "def post_process_vertebral_landmarks(\n",
    "    landmarks: np.ndarray,\n",
    "    swap_x_y: bool = False,\n",
    "    plot: bool = False,\n",
    "    retrieve_orig_position: bool = False,\n",
    ") -> np.ndarray:\n",
    "    \"\"\"Rotate, translate, and normalize the vertebral landmarks. The\n",
    "    normalization is done with respect to the distance between the 2\n",
    "    points at the left and right of the base of each shape.\n",
    "    \"\"\"\n",
    "    c2, c3, c4 = landmarks[0:3].copy(), landmarks[3:8].copy(), landmarks[8:].copy()\n",
    "    c2_cart = img_coord_2_cartesian_coord(c2, swap_x_y) \n",
    "    c2_ref_index_tr = 0\n",
    "    c2_trns = translate_landmarks(c2_cart, ref_index=c2_ref_index_tr)\n",
    "    c2_ref_index_rot = 2\n",
    "    c2_trns_rot = rotate_landmarks(c2_trns, ref_index=c2_ref_index_rot)\n",
    "    c2_trns_rot_nr = 2\n",
    "    c2_trns_rot_n = normalize_coords(\n",
    "        landmarks=c2_trns_rot,\n",
    "        ref_index=c2_trns_rot_nr,\n",
    "        height_wise=False,\n",
    "    )\n",
    "    if plot:\n",
    "        plot_landmarks(c2_trns_rot_n)\n",
    "    c3_cart = img_coord_2_cartesian_coord(c3, swap_x_y)\n",
    "    c3_ref_index_tr = 1\n",
    "    c3_trns = translate_landmarks(c3_cart, ref_index=c3_ref_index_tr)\n",
    "    c3_ref_index_rot = 3\n",
    "    c3_trns_rot = rotate_landmarks(c3_trns, ref_index=c3_ref_index_rot)\n",
    "    c3_ref_index_nr = 3\n",
    "    c3_trns_rot_n = normalize_coords(\n",
    "        landmarks=c3_trns_rot,\n",
    "        ref_index=c3_ref_index_nr,\n",
    "        height_wise=False,\n",
    "    )\n",
    "    if plot:\n",
    "        plot_landmarks(c3_trns_rot_n)\n",
    "    c4_cart = img_coord_2_cartesian_coord(c4, swap_x_y)\n",
    "    c4_ref_index_tr = 1\n",
    "    c4_trns = translate_landmarks(c4_cart, ref_index=c4_ref_index_tr)\n",
    "    c4_ref_index_rot = 3\n",
    "    c4_trns_rot = rotate_landmarks(c4_trns, ref_index=c4_ref_index_rot)\n",
    "    c4_ref_index_nr = 3\n",
    "    c4_trns_rot_n = normalize_coords(\n",
    "        landmarks=c4_trns_rot,\n",
    "        ref_index=c4_ref_index_nr,\n",
    "        height_wise=False,\n",
    "    )\n",
    "    if plot:\n",
    "        plot_landmarks(c4_trns_rot_n)\n",
    "    # retrieve the original distance of the vertebrae\n",
    "    if retrieve_orig_position:\n",
    "        c24_cart_dist = (\n",
    "            np.abs(\n",
    "                c2_cart[c2_ref_index_tr, 1] - c4_cart[c4_ref_index_tr, 1]\n",
    "            )/c4_trns_rot[c4_ref_index_nr, 0]\n",
    "        )\n",
    "        c34_cart_dist = (\n",
    "            np.abs(\n",
    "                c3_cart[c3_ref_index_tr, 1] - c4_cart[c4_ref_index_tr, 1]\n",
    "            )/c4_trns_rot[c4_ref_index_nr, 0]\n",
    "        )\n",
    "        c2_trns_rot_n[:,1] = c2_trns_rot_n[:,1] + c24_cart_dist\n",
    "        c3_trns_rot_n[:,1] = c3_trns_rot_n[:,1] + c34_cart_dist\n",
    "    normalized_landmarks = np.vstack((c2_trns_rot_n, c3_trns_rot_n, c4_trns_rot_n))\n",
    "    return normalized_landmarks"
   ]
  },
  {
   "cell_type": "code",
   "execution_count": null,
   "id": "54f3f77f-ec0a-4c35-b9ed-bad99f7bc380",
   "metadata": {},
   "outputs": [],
   "source": [
    "def cartesian_to_polar(coords):\n",
    "    \"\"\"Transform cartesian coordiantes to polar coordinates.\"\"\"\n",
    "    r = np.sqrt(coords[..., 0]**2 + coords[..., 1]**2)\n",
    "    theta = np.arctan2(coords[..., 1], coords[..., 0])\n",
    "    return np.stack((r, theta), axis=-1)\n",
    "\n",
    "\n",
    "def polygon_center_of_mass(\n",
    "    arr: np.ndarray,\n",
    ") -> np.ndarray:\n",
    "    \"\"\"Calculate mean of the coordinate arrays along axis 0\"\"\"\n",
    "    return np.mean(arr, axis=0)\n",
    "\n",
    "\n",
    "def vertebral_center_of_masses(\n",
    "    arr: np.ndarray,\n",
    ") -> np.ndarray:\n",
    "    \"\"\"Calculate center of masses of each of the three vertebrae\"\"\"\n",
    "    cm_c2 = polygon_center_of_mass(arr[:3,:])\n",
    "    cm_c3 = polygon_center_of_mass(arr[3:8,:])\n",
    "    cm_c4 = polygon_center_of_mass(arr[8:,:])\n",
    "    return np.stack((cm_c2, cm_c3, cm_c4), axis=0)\n",
    "\n",
    "\n",
    "def vertebral_features(\n",
    "    arr: np.ndarray,\n",
    ") -> Tuple[float]:\n",
    "    \"\"\"Calculate the 7 features described below,\n",
    "        - the heights of C3 and C4 vertical edges (4 features)\n",
    "        - the concavity of C2, C3, and C4 (3 features)\n",
    "    \"\"\"\n",
    "    c2_conc = arr[1,1]\n",
    "    c3_conc = arr[5,1]\n",
    "    c4_conc = arr[10,1]\n",
    "    \n",
    "    c3_1 = arr[3,1] - arr[4,1]\n",
    "    c3_2 = arr[7,1] - arr[6,1]\n",
    "    \n",
    "    c4_1 = arr[8,1] - arr[9,1]\n",
    "    c4_2 = arr[12,1] - arr[11,1]\n",
    "    return c2_conc, c3_conc, c4_conc, c3_1, c3_2, c4_1, c4_2"
   ]
  },
  {
   "cell_type": "markdown",
   "id": "37ed58d5-4b38-4cf0-8a29-3b1ac8a97fe6",
   "metadata": {},
   "source": [
    "# Stage Clustering\n",
    "\n",
    "In this notebook, we see how we can utilize the nominal patterns of the different stages that were\n",
    "reported by McNamara and Franchi into a clustering tasks. The nominal patterns serve as the\n",
    "characteristics of the cluster centers."
   ]
  },
  {
   "cell_type": "code",
   "execution_count": null,
   "id": "2b3cb6c9-dafc-4b35-9bec-c34bb7c104d0",
   "metadata": {},
   "outputs": [],
   "source": [
    "os.chdir(\"../../\")\n",
    "!source configs/.env"
   ]
  },
  {
   "cell_type": "markdown",
   "id": "9682d4a9-8f88-4900-af6d-0db7679fc948",
   "metadata": {},
   "source": [
    "## Load parameters"
   ]
  },
  {
   "cell_type": "code",
   "execution_count": null,
   "id": "89f820bc-3ef9-44b3-a033-4c8736b41a85",
   "metadata": {},
   "outputs": [],
   "source": [
    "CONFIG_PARAMS_PATH = \"configs/params.yaml\"\n",
    "\n",
    "params = nested_dict_to_easydict(\n",
    "    load_yaml_params(CONFIG_PARAMS_PATH)\n",
    ")"
   ]
  },
  {
   "cell_type": "markdown",
   "id": "6759bcf6-4ebd-43a3-bcd4-2f15737315ca",
   "metadata": {},
   "source": [
    "## Load model"
   ]
  },
  {
   "cell_type": "code",
   "execution_count": null,
   "id": "551f6746-1ab5-4086-9b01-2ddc4cba99b2",
   "metadata": {},
   "outputs": [],
   "source": [
    "checkpoint_path, model_id = download_wandb_model_checkpoint(\n",
    "    wandb_checkpoint_uri= params.VERIFY.WANDB_CHECKPOINT_REFERENCE_NAME\n",
    ")\n",
    "print(checkpoint_path)"
   ]
  },
  {
   "cell_type": "code",
   "execution_count": null,
   "id": "b03bb215-7f0d-459c-bc15-5fc571565e1f",
   "metadata": {},
   "outputs": [],
   "source": [
    "use_pretrain = True\n",
    "\n",
    "task_config = params.TRAIN.V_LANDMARK_TASK\n",
    "task_id = task_config.TASK_ID\n",
    "\n",
    "loss_name = params.TRAIN.LOSS_NAME\n",
    "model_params = params.MODEL.PARAMS\n",
    "transforms_params = params.INFERENCE.TRANSFORMS"
   ]
  },
  {
   "cell_type": "code",
   "execution_count": null,
   "id": "b9c912fb-86d4-43f8-b4b3-0de382ada563",
   "metadata": {},
   "outputs": [],
   "source": [
    "model, device = load_pretrained_model_eval_mode(\n",
    "    model_params=model_params,\n",
    "    use_pretrain=use_pretrain,\n",
    "    checkpoint_path=checkpoint_path,\n",
    "    task_id=task_id,\n",
    "    loss_name=loss_name,\n",
    ")"
   ]
  },
  {
   "cell_type": "markdown",
   "id": "b596520e-96fa-421e-a014-92ccca7d0362",
   "metadata": {},
   "source": [
    "## Load and process cluster centers"
   ]
  },
  {
   "cell_type": "code",
   "execution_count": null,
   "id": "cf31d3b8-5808-4228-85b0-10d9b4548ebb",
   "metadata": {},
   "outputs": [],
   "source": [
    "cluster_centers = []\n",
    "cluster_center_features = []\n",
    "for i in range(1,7):\n",
    "    cs_df = pd.read_csv(\n",
    "        os.path.join(\n",
    "            params.INTERMEDIATE_DATA_DIRECTORY, \"stages_nominal_patterns\", f\"cs{i}.csv\"\n",
    "        ),\n",
    "        header=None,\n",
    "        names=['index', 'x', 'y']\n",
    "    )\n",
    "    cs = cs_df.iloc[:, 1:].to_numpy()\n",
    "    normalized_landmarks = post_process_vertebral_landmarks(\n",
    "        landmarks=cs, swap_x_y=False, plot=False, retrieve_orig_position=False,\n",
    "    )\n",
    "    cluster_centers.append(normalized_landmarks)\n",
    "    # cluster_centers_cms.append(vertebral_center_of_masses(normalized_landmarks))\n",
    "    cluster_center_features.append(vertebral_features(normalized_landmarks))"
   ]
  },
  {
   "cell_type": "code",
   "execution_count": null,
   "id": "cf0ac668-0ecc-4de7-9585-f0988a3f23b9",
   "metadata": {},
   "outputs": [],
   "source": [
    "print(np.array(cluster_center_features))"
   ]
  },
  {
   "cell_type": "code",
   "execution_count": null,
   "id": "95e410aa-ffcb-418c-8910-7b66b7205eaf",
   "metadata": {},
   "outputs": [],
   "source": [
    "scaler = MinMaxScaler()\n",
    "cluster_centers_features_normalized = scaler.fit_transform(cluster_center_features)"
   ]
  },
  {
   "cell_type": "code",
   "execution_count": null,
   "id": "91de6c3e-98fe-4694-ae91-5f064ade1cfd",
   "metadata": {},
   "outputs": [],
   "source": [
    "print(cluster_centers_features_normalized)"
   ]
  },
  {
   "cell_type": "markdown",
   "id": "a03fcf1f-87d4-4a9d-8516-97b9e255ba50",
   "metadata": {},
   "source": [
    "## Load training and validation set data, predict, and process the landmarks"
   ]
  },
  {
   "cell_type": "code",
   "execution_count": null,
   "id": "b3c1c50d-bd78-4bd3-a735-e04cd579c035",
   "metadata": {},
   "outputs": [],
   "source": [
    "# train dataloader\n",
    "train_dataloader = create_dataloader(\n",
    "    task_id=task_id,\n",
    "    batch_size=1,\n",
    "    split='train',\n",
    "    shuffle=False,\n",
    "    params=params,\n",
    "    sampler_n_samples=None,\n",
    ")\n",
    "# val dataloader\n",
    "val_dataloader = create_dataloader(\n",
    "    task_id=task_id,\n",
    "    batch_size=1,\n",
    "    split='val',\n",
    "    shuffle=False,\n",
    "    params=params,\n",
    "    sampler_n_samples=None,\n",
    ")"
   ]
  },
  {
   "cell_type": "code",
   "execution_count": null,
   "id": "3bf15284-5969-4848-ab6e-e67c92c377ba",
   "metadata": {},
   "outputs": [],
   "source": [
    "train_set = []\n",
    "train_set_features = []\n",
    "for i, batch in enumerate(train_dataloader):\n",
    "    images, targets = batch['image'], batch['v_landmarks']\n",
    "    images = images.to(device)\n",
    "    targets = targets.to(device)\n",
    "    # Pass images through the model\n",
    "    with torch.no_grad():\n",
    "        lmks = model(images, task_id=task_id)\n",
    "    # turn heatmaps to coordinates\n",
    "    lmks = max_indices_4d_tensor(lmks)\n",
    "    lmks = lmks.squeeze()\n",
    "    lmks = lmks.cpu().numpy()\n",
    "    # process coordinates\n",
    "    normalized_landmarks = post_process_vertebral_landmarks(\n",
    "        landmarks=lmks, swap_x_y=True, plot=False,retrieve_orig_position=False,)\n",
    "    train_set.append(normalized_landmarks)\n",
    "    # train_set_cms.append(vertebral_center_of_masses(normalized_landmarks))\n",
    "    train_set_features.append(vertebral_features(normalized_landmarks))"
   ]
  },
  {
   "cell_type": "code",
   "execution_count": null,
   "id": "a46bc95d-b19d-41e0-8c7f-0e16be3a0ee7",
   "metadata": {},
   "outputs": [],
   "source": [
    "val_set = []\n",
    "val_set_features = []\n",
    "for i, batch in enumerate(val_dataloader):\n",
    "    images, targets = batch['image'], batch['v_landmarks']\n",
    "    images = images.to(device)\n",
    "    targets = targets.to(device)\n",
    "    # Pass images through the model\n",
    "    with torch.no_grad():\n",
    "        lmks = model(images, task_id=task_id)\n",
    "    # turn heatmaps to coordinates\n",
    "    lmks = max_indices_4d_tensor(lmks)\n",
    "    lmks = lmks.squeeze()\n",
    "    lmks = lmks.cpu().numpy()\n",
    "    # process coordinates\n",
    "    normalized_landmarks = post_process_vertebral_landmarks(\n",
    "        landmarks=lmks, swap_x_y=True, plot=False,retrieve_orig_position=False,)\n",
    "    val_set.append(normalized_landmarks)\n",
    "    # val_set_cms.append(vertebral_center_of_masses(normalized_landmarks))\n",
    "    val_set_features.append(vertebral_features(normalized_landmarks))"
   ]
  },
  {
   "cell_type": "markdown",
   "id": "112b9d20-3527-4b65-83ee-6cfcd518818c",
   "metadata": {},
   "source": [
    "## flatten coordinate arrays"
   ]
  },
  {
   "cell_type": "markdown",
   "id": "c75199b6-17ab-49e2-b517-fae682ef1795",
   "metadata": {},
   "source": [
    "### coordinates of the landmarks"
   ]
  },
  {
   "cell_type": "raw",
   "id": "ceb4ecf0-640c-41ca-be18-9bf8abf65076",
   "metadata": {},
   "source": [
    "train_set = np.array(train_set)\n",
    "val_set = np.array(val_set)\n",
    "cluster_centers = np.array(cluster_centers)\n",
    "\n",
    "train_set_fl = train_set.reshape(train_set.shape[0], -1)\n",
    "val_set_fl = val_set.reshape(val_set.shape[0], -1)\n",
    "cluster_centers_fl = cluster_centers.reshape(cluster_centers.shape[0], -1)"
   ]
  },
  {
   "cell_type": "markdown",
   "id": "d9d52977-b79d-4ca7-8983-cf8eec0f767d",
   "metadata": {},
   "source": [
    "### center of masses"
   ]
  },
  {
   "cell_type": "raw",
   "id": "b639dd52-da6b-48f3-8a9e-bcb0bf6c31bb",
   "metadata": {},
   "source": [
    "train_set_cms = np.array(train_set_cms)\n",
    "val_set_cms = np.array(val_set_cms)\n",
    "cluster_centers_cms = np.array(cluster_centers_cms)\n",
    "\n",
    "train_set_cms_fl = train_set_cms.reshape(train_set_cms.shape[0], -1)\n",
    "val_set_cms_fl = val_set_cms.reshape(val_set_cms.shape[0], -1)\n",
    "cluster_centers_cms_fl = cluster_centers_cms.reshape(cluster_centers_cms.shape[0], -1)"
   ]
  },
  {
   "cell_type": "markdown",
   "id": "c51b7a82-982c-4a7e-bf1f-f17402f30471",
   "metadata": {},
   "source": [
    "#### discard the x coordinate values of center of masses"
   ]
  },
  {
   "cell_type": "raw",
   "id": "9c150732-8b66-423f-a3c2-2aaa83e19e4a",
   "metadata": {},
   "source": [
    "train_set_cms_fl_y = train_set_cms_fl[:, 0::2]\n",
    "val_set_cms_fl_y = val_set_cms_fl[:, 0::2]\n",
    "cluster_centers_cms_fl_y = cluster_centers_cms_fl[:, 0::2]"
   ]
  },
  {
   "cell_type": "markdown",
   "id": "7339a46e-7b0b-401b-99e7-74c46c4cd89a",
   "metadata": {},
   "source": [
    "# Polar coordinates"
   ]
  },
  {
   "cell_type": "raw",
   "id": "6c8c190d-b7be-4fe9-8815-b0e8c71b7097",
   "metadata": {},
   "source": [
    "train_set_polar = train_set_polar.reshape(train_set_polar.shape[0], -1)\n",
    "val_set_polar = val_set_polar.reshape(val_set_polar.shape[0], -1)\n",
    "cluster_centers_polar = cluster_centers_polar.reshape(cluster_centers_polar.shape[0], -1)\n",
    "\n",
    "fig, axs = plt.subplots(2,1, figsize=(5,5))\n",
    "for i, c in enumerate(cluster_centers_polar):\n",
    "    axs[0].plot(c[:,0], label=f\"cs{i}\")\n",
    "    axs[1].plot(c[:,1], label=f\"cs{i}\")\n",
    "axs[0].set_title('r')\n",
    "axs[1].set_title('theta')\n",
    "plt.tight_layout()\n",
    "plt.legend(bbox_to_anchor=(1.04, 1), loc=\"upper left\")\n",
    "plt.show()"
   ]
  },
  {
   "cell_type": "markdown",
   "id": "05454475-f0c4-48aa-aca1-55578922fb42",
   "metadata": {},
   "source": [
    "# Fit to PCA"
   ]
  },
  {
   "cell_type": "raw",
   "id": "1d55e0fb-c219-48fc-90f7-4c62583614fd",
   "metadata": {},
   "source": [
    "pca = PCA(n_components=3)  # you can change the number of components\n",
    "\n",
    "# Fit and transform the data\n",
    "clusters_pca = pca.fit_transform(cluster_centers_fl)"
   ]
  },
  {
   "cell_type": "raw",
   "id": "168a44fe-d4f7-4b72-bd65-d4873bb24c19",
   "metadata": {},
   "source": [
    "fig = plt.figure()\n",
    "ax = fig.add_subplot(projection='3d')\n",
    "for i, c_pca in enumerate(clusters_pca):\n",
    "    ax.scatter(c_pca[0] , c_pca[1], c_pca[2], label=str(i))\n",
    "plt.legend()"
   ]
  },
  {
   "cell_type": "raw",
   "id": "86d2a3dc-af26-4c20-b699-74248ef92a7b",
   "metadata": {},
   "source": [
    "pca.explained_variance_ratio_.sum()"
   ]
  },
  {
   "cell_type": "raw",
   "id": "55c56aad-adc7-4a21-aff5-a7cceceda8e9",
   "metadata": {},
   "source": [
    "val_set_pca = pca.transform(val_set_fl)\n",
    "train_set_pca = pca.transform(train_set_fl)"
   ]
  },
  {
   "cell_type": "markdown",
   "id": "8ef26b99-ec12-4c56-80af-1404ea227e38",
   "metadata": {},
   "source": [
    "# Fit PCA coordinates to the KMeans"
   ]
  },
  {
   "cell_type": "raw",
   "id": "10a9c882-9e15-40a6-960e-02538e9d955e",
   "metadata": {},
   "source": [
    "# Define initial cluster centers\n",
    "init_centers = np.array(clusters_pca)\n",
    "\n",
    "# Create KMeans object with initial centers\n",
    "kmeans = KMeans(n_clusters=6, init=init_centers, n_init=1)\n",
    "\n",
    "# Fit the model to your data\n",
    "kmeans.fit(train_set_pca)"
   ]
  },
  {
   "cell_type": "raw",
   "id": "cdc3e498-3613-4849-a468-8dfa59131e73",
   "metadata": {},
   "source": [
    "train_set_clusters = kmeans.predict(train_set_pca)\n",
    "np.unique(train_set_clusters, return_counts=True)"
   ]
  },
  {
   "cell_type": "raw",
   "id": "7094e5d2-e464-4041-9e33-5d31304fa863",
   "metadata": {},
   "source": [
    "val_set_clusters = kmeans.predict(val_set_pca)\n",
    "np.unique(val_set_clusters, return_counts=True)"
   ]
  },
  {
   "cell_type": "markdown",
   "id": "164abb84-62ac-47f3-b0c6-7804a59ac72a",
   "metadata": {},
   "source": [
    "# Fit raw flattened coordinates to the KMeans"
   ]
  },
  {
   "cell_type": "raw",
   "id": "b4ae58c1-b7ec-42f0-9ecc-40d8a94811b5",
   "metadata": {},
   "source": [
    "# Define initial cluster centers\n",
    "init_centers = np.array(cluster_centers_fl)\n",
    "\n",
    "# Create KMeans object with initial centers\n",
    "kmeans = KMeans(n_clusters=6, init=init_centers, n_init=1)\n",
    "\n",
    "# Fit the model to your data\n",
    "kmeans.fit(train_set_fl)"
   ]
  },
  {
   "cell_type": "raw",
   "id": "cca2f6a5-5723-4788-bf0b-7ac7a16a65da",
   "metadata": {},
   "source": [
    "train_set_clusters = kmeans.predict(train_set_fl)\n",
    "np.unique(train_set_clusters, return_counts=True)"
   ]
  },
  {
   "cell_type": "raw",
   "id": "272afade-5ae0-4e54-98d5-938337993527",
   "metadata": {},
   "source": [
    "val_set_clusters = kmeans.predict(val_set_fl)\n",
    "np.unique(val_set_clusters, return_counts=True)"
   ]
  },
  {
   "cell_type": "markdown",
   "id": "65ad6e24-8516-4971-88d9-5df578eada54",
   "metadata": {},
   "source": [
    "# Fit clusters' center of masses to KMeans"
   ]
  },
  {
   "cell_type": "raw",
   "id": "0859712d-f7de-41fe-960f-b488cddb8567",
   "metadata": {},
   "source": [
    "# Define initial cluster centers\n",
    "init_centers = np.array(cluster_centers_cms_fl_y)\n",
    "\n",
    "# Create KMeans object with initial centers\n",
    "kmeans = KMeans(n_clusters=6, init=init_centers, n_init=1)\n",
    "\n",
    "# Fit the model to your data\n",
    "kmeans.fit(train_set_cms_fl_y)"
   ]
  },
  {
   "cell_type": "raw",
   "id": "aaf73d8d-b969-44f9-af72-31badd8711f0",
   "metadata": {},
   "source": [
    "train_set_clusters = kmeans.predict(train_set_cms_fl_y)\n",
    "np.unique(train_set_clusters, return_counts=True)"
   ]
  },
  {
   "cell_type": "raw",
   "id": "9eda9059-13f8-4a9d-a159-fb4c01cf8abe",
   "metadata": {},
   "source": [
    "val_set_clusters = kmeans.predict(val_set_cms_fl_y)\n",
    "np.unique(val_set_clusters, return_counts=True)"
   ]
  },
  {
   "cell_type": "markdown",
   "id": "dc39d2c7-cabc-47d4-9d3e-876d7f4de671",
   "metadata": {},
   "source": [
    "# Fit features to KMeans"
   ]
  },
  {
   "cell_type": "code",
   "execution_count": null,
   "id": "46f96ca6-81a9-42bd-bf5f-39f8a14388f0",
   "metadata": {},
   "outputs": [],
   "source": [
    "scaler = MinMaxScaler()\n",
    "train_set_features_normalized = scaler.fit_transform(train_set_features)\n",
    "val_set_features_normalized = scaler.transform(val_set_features)"
   ]
  },
  {
   "cell_type": "code",
   "execution_count": null,
   "id": "c418dea2-6cb9-42bb-8cf1-93b5c90f829a",
   "metadata": {},
   "outputs": [],
   "source": [
    "# Get the number of features\n",
    "num_features = train_set_features_normalized.shape[1]\n",
    "\n",
    "# Create subplots\n",
    "fig, axes = plt.subplots(nrows=num_features, ncols=1, figsize=(8, 2*num_features))\n",
    "\n",
    "# Plot each feature separately\n",
    "for i in range(num_features):\n",
    "    axes[i].hist(train_set_features_normalized[:, i], bins=30, color='blue', alpha=0.7)\n",
    "    axes[i].set_title(f'Feature {i + 1}')\n",
    "    axes[i].set_xlabel('Value')\n",
    "    axes[i].set_ylabel('Frequency')\n",
    "\n",
    "plt.tight_layout()\n",
    "plt.show()"
   ]
  },
  {
   "cell_type": "code",
   "execution_count": null,
   "id": "1e96b38f-abe9-44dd-a27b-db4c65dc48f6",
   "metadata": {},
   "outputs": [],
   "source": [
    "# Create DBSCAN object with initial centers\n",
    "dbscan = SpectralClustering(\n",
    "    n_clusters=6,\n",
    "    assign_labels='discretize',\n",
    "    random_state=0,\n",
    ")\n",
    "\n",
    "# Fit the model to your data\n",
    "dbscan.fit(train_set_features_normalized)"
   ]
  },
  {
   "cell_type": "code",
   "execution_count": null,
   "id": "f3b11b2e-cb23-41dd-aa0f-15369975ca53",
   "metadata": {},
   "outputs": [],
   "source": [
    "train_set_clusters = dbscan.fit_predict(train_set_features_normalized)\n",
    "np.unique(train_set_clusters, return_counts=True)"
   ]
  },
  {
   "cell_type": "code",
   "execution_count": null,
   "id": "73322ab9-3aaa-434d-a298-0ec55e7a6299",
   "metadata": {},
   "outputs": [],
   "source": [
    "val_set_clusters = dbscan.fit_predict(val_set_features_normalized)\n",
    "np.unique(val_set_clusters, return_counts=True)"
   ]
  },
  {
   "cell_type": "markdown",
   "id": "91b5f483-9ddc-4c64-8742-fe6e5498c637",
   "metadata": {},
   "source": [
    "## Plot landmarks and corresponding clusters"
   ]
  },
  {
   "cell_type": "code",
   "execution_count": null,
   "id": "f7bbc0e2-dd17-46b6-99ac-8792a8ea78c9",
   "metadata": {},
   "outputs": [],
   "source": [
    "# val dataloader\n",
    "val_dataloader = create_dataloader(\n",
    "    task_id=task_id,\n",
    "    batch_size=1,\n",
    "    split='val',\n",
    "    shuffle=False,\n",
    "    params=params,\n",
    "    sampler_n_samples=None,\n",
    ")\n",
    "\n",
    "for i, batch in enumerate(val_dataloader):\n",
    "    images, targets = batch['image'], batch['v_landmarks']\n",
    "    images = images.to(device)\n",
    "    with torch.no_grad():\n",
    "        lmks = model(images, task_id=task_id)\n",
    "    # turn heatmaps to coordinates\n",
    "    image = images.detach().cpu().numpy()[0,0,...]\n",
    "    lmks = max_indices_4d_tensor(lmks)\n",
    "    lmks = lmks.squeeze()\n",
    "    lmks = lmks.cpu().numpy()\n",
    "    lmks_flipped = np.flip(lmks.copy(),1)\n",
    "    lmks_flipped[:,1] = -1 * lmks_flipped[:,1]\n",
    "    clss = val_set_clusters[i]\n",
    "    if i % 10 == 0:\n",
    "        print(clss+1)\n",
    "        plot_landmarks(lmks_flipped)\n",
    "        plot_image_and_vertebral_landmarks(\n",
    "            img_name=\"\",\n",
    "            model_id=\"\",\n",
    "            landmarks=lmks,\n",
    "            image=image,\n",
    "        )\n"
   ]
  },
  {
   "cell_type": "code",
   "execution_count": null,
   "id": "54d21393-5d42-4517-9199-269eedc6c186",
   "metadata": {
    "scrolled": true,
    "tags": []
   },
   "outputs": [],
   "source": [
    "display(pd.DataFrame(val_set_clusters),)"
   ]
  }
 ],
 "metadata": {
  "kernelspec": {
   "display_name": "Python 3 (ipykernel)",
   "language": "python",
   "name": "python3"
  },
  "language_info": {
   "codemirror_mode": {
    "name": "ipython",
    "version": 3
   },
   "file_extension": ".py",
   "mimetype": "text/x-python",
   "name": "python",
   "nbconvert_exporter": "python",
   "pygments_lexer": "ipython3",
   "version": "3.10.13"
  }
 },
 "nbformat": 4,
 "nbformat_minor": 5
}
