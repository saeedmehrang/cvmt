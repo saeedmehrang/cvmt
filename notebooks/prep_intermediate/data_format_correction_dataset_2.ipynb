{
 "cells": [
  {
   "cell_type": "markdown",
   "id": "1f3eedd3-76bc-44e4-b502-2c5c6fabe394",
   "metadata": {},
   "source": [
    "# Introduction and objective\n",
    "\n",
    "In this notebooks we would like to read the image and annotations data of dataset 2 and save them into a high performance data structure which allows fast write/read at the time of training a deep neural network"
   ]
  },
  {
   "cell_type": "code",
   "execution_count": 1,
   "id": "f762a514-baa5-4bf8-8a2b-651e3090a606",
   "metadata": {},
   "outputs": [],
   "source": [
    "%load_ext autoreload\n",
    "%autoreload 2"
   ]
  },
  {
   "cell_type": "code",
   "execution_count": 2,
   "id": "3479f9fb-8713-48a3-9b7c-a13f00d3b66f",
   "metadata": {},
   "outputs": [],
   "source": [
    "import json\n",
    "import os\n",
    "import yaml\n",
    "import shutil\n",
    "import glob\n",
    "from typing import List, Dict, Tuple, Union, Any\n",
    "from numbers import Number\n",
    "import h5py\n",
    "from PIL import Image\n",
    "import numpy as np"
   ]
  },
  {
   "cell_type": "code",
   "execution_count": 3,
   "id": "2911d77e-3e04-4810-8032-6a76c5c405cd",
   "metadata": {},
   "outputs": [],
   "source": [
    "from utils import harmonize_hdf5, read_harmonized_hdf5"
   ]
  },
  {
   "cell_type": "markdown",
   "id": "28fd6cbe-4cb3-4387-91ff-36a5a066f2e1",
   "metadata": {},
   "source": [
    "## current directory"
   ]
  },
  {
   "cell_type": "code",
   "execution_count": 4,
   "id": "d7de3874-4525-41c8-b73b-3f6f5bc711d6",
   "metadata": {},
   "outputs": [
    {
     "name": "stdout",
     "output_type": "stream",
     "text": [
      "/home/samehr/Desktop/cephal/cvmt/notebooks/prep_intermediate\n"
     ]
    }
   ],
   "source": [
    "print(os.getcwd())"
   ]
  },
  {
   "cell_type": "markdown",
   "id": "eb11444b-546b-441a-942d-ec61868bdc54",
   "metadata": {},
   "source": [
    "## load parameters"
   ]
  },
  {
   "cell_type": "code",
   "execution_count": 5,
   "id": "6f89b419-1157-4fab-bcda-f0cedbdf51a0",
   "metadata": {},
   "outputs": [],
   "source": [
    "with open(\"../../code_configs/params.yaml\") as f:\n",
    "    params = yaml.safe_load(f)"
   ]
  },
  {
   "cell_type": "code",
   "execution_count": 6,
   "id": "333f7b0c-0f14-4181-8d7f-5bd62157867a",
   "metadata": {},
   "outputs": [
    {
     "name": "stdout",
     "output_type": "stream",
     "text": [
      "{'RAW_DATA_DIRECTORY': '../../data/raw', 'INTERMEDIATE_DATA_DIRECTORY': '../../data/intermediate', 'PRIMARY_DATA_DIRECTORY': '../../data/primary', 'DATASET_1_RAW_ZIP_FILE_NAME': 'radiography-20221212T190109Z-001.zip', 'DATASET_1_RAW_ZIP_NEW_ANNOT_FILE_NAME': 'label_edited-20230122T143005Z-001.zip', 'DATASET_1_INTERMEDIATE_DIR_NAME': 'dataset_1', 'DATASET_1_UNWANTED_JSON_FIELDS': ['imageData'], 'DATASET_3_RAW_RAR_FILE_NAME': 'RawImage.rar', 'DATASET_3_RAW_DIR_NAME_TEMP': 'dataset_3_bmp', 'DATASET_3_RAW_DIR_NAME': 'dataset_3_raw_data', 'UNWANTED_JSON_FIELDS': ['imageData', 'imagePath'], 'DATASET_1_INTERM_DIR_NAME': 'dataset_1_interm_data-20230304T160341Z-001', 'DATASET_1_INTERM_IMG_DIR_NAME': 'image', 'DATASET_1_INTERM_LABEL_DIR_NAME': 'label', 'DATASET_2_INTERM_DIR_NAME': 'dataset_2_interm_data-20230304T160421Z-001', 'DATASET_2_INTERM_IMG_DIR_NAME': 'image', 'DATASET_2_INTERM_LABEL_DIR_NAME': 'label', 'DATASET_3_INTERM_DIR_NAME': 'dataset_3_interm_data-20230304T160433Z-001', 'DATASET_3_INTERM_IMG_DIR_NAME': 'image', 'DATASET_3_INTERM_LABEL_DIR_NAME': 'label'}\n"
     ]
    }
   ],
   "source": [
    "print(params)"
   ]
  },
  {
   "cell_type": "markdown",
   "id": "a052b557-5a93-442d-bda2-6d4416df4114",
   "metadata": {},
   "source": [
    "## create the directory paths"
   ]
  },
  {
   "cell_type": "code",
   "execution_count": 7,
   "id": "b2d96dc4-4358-4ef9-8317-a5ebebe4d5fa",
   "metadata": {},
   "outputs": [],
   "source": [
    "image_dir = os.path.join(\n",
    "    params['INTERMEDIATE_DATA_DIRECTORY'],\n",
    "    params['DATASET_2_INTERM_DIR_NAME'],\n",
    "    params['DATASET_2_INTERM_IMG_DIR_NAME'],\n",
    ")\n",
    "\n",
    "annot_dir = os.path.join(\n",
    "    params['INTERMEDIATE_DATA_DIRECTORY'],\n",
    "    params['DATASET_2_INTERM_DIR_NAME'],\n",
    "    params['DATASET_2_INTERM_LABEL_DIR_NAME'],\n",
    ")"
   ]
  },
  {
   "cell_type": "markdown",
   "id": "9e8987da-68de-400f-83d7-ecbebe30228f",
   "metadata": {},
   "source": [
    "## parse the directory"
   ]
  },
  {
   "cell_type": "code",
   "execution_count": 8,
   "id": "781f3b7c-cf29-48a1-8574-473e29bf6095",
   "metadata": {},
   "outputs": [],
   "source": [
    "image_filenames = os.listdir(image_dir)"
   ]
  },
  {
   "cell_type": "code",
   "execution_count": 9,
   "id": "bb062f89-b665-4ca6-85ea-21a9e1e10a6a",
   "metadata": {},
   "outputs": [],
   "source": [
    "annot_filenames = os.listdir(annot_dir)"
   ]
  },
  {
   "cell_type": "markdown",
   "id": "26fda218-6694-46a0-97df-d98cc4bcaac4",
   "metadata": {},
   "source": [
    "## harmonize all the images and annotations"
   ]
  },
  {
   "cell_type": "code",
   "execution_count": 10,
   "id": "f4f70d21-d8a4-482a-b114-58fda4751447",
   "metadata": {},
   "outputs": [],
   "source": [
    "for image_filename in image_filenames:\n",
    "    harmonize_hdf5(\n",
    "        image_filename=image_filename,\n",
    "        image_dir=image_dir,\n",
    "        annot_dir=annot_dir,\n",
    "    )"
   ]
  },
  {
   "cell_type": "markdown",
   "id": "a3921d79-c6bf-4551-ab6a-535c0a1427bd",
   "metadata": {},
   "source": [
    "## sanity check some of them"
   ]
  },
  {
   "cell_type": "code",
   "execution_count": 12,
   "id": "cb0bf590-243d-42ab-83b2-db9185928976",
   "metadata": {
    "tags": []
   },
   "outputs": [
    {
     "name": "stdout",
     "output_type": "stream",
     "text": [
      "image.shape  (1940, 1255)\n",
      "vertebrate_ids:  ['2', '3', '4']\n",
      "landmarks:  [[  92 1730]\n",
      " [ 188 1733]\n",
      " [ 226 1749]\n",
      " [ 215 1661]\n",
      " [  95 1622]]\n",
      "\n",
      "image.shape  (1940, 1255)\n",
      "vertebrate_ids:  ['2', '3', '4']\n",
      "landmarks:  [[ 106 1603]\n",
      " [  89 1698]\n",
      " [ 130 1696]\n",
      " [ 184 1722]\n",
      " [ 198 1634]]\n",
      "\n",
      "image.shape  (2600, 1692, 3)\n",
      "vertebrate_ids:  ['2', '3', '4']\n",
      "landmarks:  [[ 151 2093]\n",
      " [  81 2205]\n",
      " [ 144 2231]\n",
      " [ 196 2282]\n",
      " [ 242 2167]]\n",
      "\n",
      "image.shape  (2600, 1696, 3)\n",
      "vertebrate_ids:  ['2', '3', '4']\n",
      "landmarks:  [[ 171 2292]\n",
      " [ 131 2439]\n",
      " [ 176 2440]\n",
      " [ 268 2489]\n",
      " [ 297 2371]]\n",
      "\n",
      "image.shape  (1940, 1256)\n",
      "vertebrate_ids:  ['2', '3', '4']\n",
      "landmarks:  [[  73 1541]\n",
      " [  55 1635]\n",
      " [  94 1630]\n",
      " [ 154 1663]\n",
      " [ 163 1575]]\n",
      "\n",
      "image.shape  (2608, 1688, 3)\n",
      "vertebrate_ids:  ['2', '3', '4']\n",
      "landmarks:  [[ 176 2019]\n",
      " [ 142 2139]\n",
      " [ 201 2150]\n",
      " [ 278 2213]\n",
      " [ 301 2082]]\n",
      "\n",
      "image.shape  (1940, 1256)\n",
      "vertebrate_ids:  None\n",
      "landmarks:  None\n",
      "\n",
      "image.shape  (2568, 1684, 3)\n",
      "vertebrate_ids:  ['2', '3', '4']\n",
      "landmarks:  [[ 162 2250]\n",
      " [ 268 2263]\n",
      " [ 314 2293]\n",
      " [ 328 2168]\n",
      " [ 196 2101]]\n",
      "\n"
     ]
    }
   ],
   "source": [
    "i = 0\n",
    "for filepath in glob.glob(os.path.join(params['PRIMARY_DATA_DIRECTORY'], '*.hdf5')):\n",
    "    if i % 10 == 0:\n",
    "        filename = filepath.split('/')[-1]\n",
    "        image, vertebrate_ids, landmarks, label, shape_type = read_harmonized_hdf5(\n",
    "            h5py_filename=filename,\n",
    "        )\n",
    "        print(\"image.shape \", image.shape)\n",
    "        print(\"vertebrate_ids: \", vertebrate_ids)\n",
    "        print(\"landmarks: \", landmarks)\n",
    "        print()\n",
    "    i += 1"
   ]
  }
 ],
 "metadata": {
  "kernelspec": {
   "display_name": "Python 3 (ipykernel)",
   "language": "python",
   "name": "python3"
  },
  "language_info": {
   "codemirror_mode": {
    "name": "ipython",
    "version": 3
   },
   "file_extension": ".py",
   "mimetype": "text/x-python",
   "name": "python",
   "nbconvert_exporter": "python",
   "pygments_lexer": "ipython3",
   "version": "3.8.0"
  }
 },
 "nbformat": 4,
 "nbformat_minor": 5
}
