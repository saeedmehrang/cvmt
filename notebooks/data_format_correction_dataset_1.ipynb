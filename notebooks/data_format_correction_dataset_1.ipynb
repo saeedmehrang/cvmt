{
 "cells": [
  {
   "cell_type": "code",
   "execution_count": 2,
   "id": "1fa20b8d-bd43-4f43-b37d-2e3c253c21fd",
   "metadata": {},
   "outputs": [],
   "source": [
    "%load_ext autoreload\n",
    "%autoreload 2"
   ]
  },
  {
   "cell_type": "code",
   "execution_count": 21,
   "id": "aab0a599-cc71-4466-bf1d-84003ba4a74a",
   "metadata": {},
   "outputs": [],
   "source": [
    "import json\n",
    "import os\n",
    "import yaml\n",
    "import shutil\n",
    "import glob\n",
    "from zipfile import ZipFile\n",
    "from typing import List, Dict"
   ]
  },
  {
   "cell_type": "markdown",
   "id": "21f28ea8-95e0-45c6-883e-5cbb21cfee70",
   "metadata": {},
   "source": [
    "### be aware of your current directory"
   ]
  },
  {
   "cell_type": "code",
   "execution_count": 4,
   "id": "16cd0bf5-7c54-42ac-b693-ca3f35ffa402",
   "metadata": {
    "tags": []
   },
   "outputs": [
    {
     "name": "stdout",
     "output_type": "stream",
     "text": [
      "/home/samehr/Desktop/cephal/cvmt/notebooks\n"
     ]
    }
   ],
   "source": [
    "print(os.getcwd())"
   ]
  },
  {
   "cell_type": "markdown",
   "id": "99f1739a-1942-4cc3-84ff-00830bff0a00",
   "metadata": {},
   "source": [
    "## load parameters"
   ]
  },
  {
   "cell_type": "code",
   "execution_count": 22,
   "id": "b582b36b-5ded-4d46-b94b-aa53a646d06b",
   "metadata": {},
   "outputs": [],
   "source": [
    "with open(\"../code_configs/params.yaml\") as f:\n",
    "    params = yaml.safe_load(f)"
   ]
  },
  {
   "cell_type": "markdown",
   "id": "fe5a3bdf-a87d-45d5-8072-ab838ac30e6d",
   "metadata": {},
   "source": [
    "### unzip the downloaded raw data into `../data/raw` directory"
   ]
  },
  {
   "cell_type": "code",
   "execution_count": 9,
   "id": "c70629b8-1ac6-4887-a947-aa2e0f77b8e0",
   "metadata": {
    "tags": []
   },
   "outputs": [
    {
     "name": "stdout",
     "output_type": "stream",
     "text": [
      "path_to_raw_zip_file:   ../data/raw/radiography-20221212T190109Z-001.zip\n"
     ]
    }
   ],
   "source": [
    "path_to_raw_zip_file = glob.glob(\n",
    "    os.path.join(\n",
    "        params['RAW_DATA_DIRECTORY'],\n",
    "        params['DATASET_1_RAW_ZIP_FILE_NAME'],\n",
    "    )\n",
    ")[0]\n",
    "print(\"path_to_raw_zip_file:  \", path_to_raw_zip_file)"
   ]
  },
  {
   "cell_type": "code",
   "execution_count": 10,
   "id": "7b096e99-38ce-4b6e-a972-3ba7ad42e3c5",
   "metadata": {},
   "outputs": [],
   "source": [
    "with ZipFile(path_to_raw_zip_file, 'r') as f:\n",
    "    f.extractall(params['RAW_DATA_DIRECTORY'])"
   ]
  },
  {
   "cell_type": "markdown",
   "id": "e3a716f6-dec6-4b59-8e56-700119818836",
   "metadata": {},
   "source": [
    "### print the directories inside the `RAW_DATA_DIRECTORY`"
   ]
  },
  {
   "cell_type": "code",
   "execution_count": 14,
   "id": "acb21384-9cdf-4f0d-b8ce-11880621fdcb",
   "metadata": {},
   "outputs": [
    {
     "name": "stdout",
     "output_type": "stream",
     "text": [
      "['radiography', '.ipynb_checkpoints']\n"
     ]
    }
   ],
   "source": [
    "print(\n",
    "    [\n",
    "        d for d in os.listdir(params['RAW_DATA_DIRECTORY']) if os.path.isdir(os.path.join(params['RAW_DATA_DIRECTORY'], d))\n",
    "    ]\n",
    ")\n"
   ]
  },
  {
   "cell_type": "markdown",
   "id": "fd3c001d-46c6-4d56-b189-a10c26d0b279",
   "metadata": {},
   "source": [
    "# Trasnforming to \"intermediate\" stage \n",
    "Start cleaning the data in the directory named `radiography` and put the cleaned data \n",
    "into a new directory named `dataset_1`."
   ]
  },
  {
   "cell_type": "markdown",
   "id": "9e39b4b3-d29e-488c-899f-43fa892ceb9f",
   "metadata": {},
   "source": [
    "## Create the empty directory for `dataset_1`"
   ]
  },
  {
   "cell_type": "code",
   "execution_count": 18,
   "id": "d14fa7ce-7ca0-4fff-8966-4b3c6f3b3d92",
   "metadata": {},
   "outputs": [],
   "source": [
    "interm_dir_path = os.path.join(\n",
    "    params['INTERMEDIATE_DATA_DIRECTORY'],\n",
    "    params['DATASET_1_INTERMEDIATE_DIR_NAME'],\n",
    ")\n",
    "if not os.path.exists(interm_dir_path):\n",
    "    os.makedirs(interm_dir_path)\n",
    "else:\n",
    "    raise FileExistsError(\"The directory with address below exists! \\n {}\".format(interm_dir_path))"
   ]
  },
  {
   "cell_type": "markdown",
   "id": "cd602200-a53c-4989-95c2-7ab315446f21",
   "metadata": {},
   "source": [
    "## clean the json files from unwanted fields"
   ]
  },
  {
   "cell_type": "markdown",
   "id": "c5adc467-c375-49a3-9c91-5ff04932abb1",
   "metadata": {},
   "source": [
    "#### create a list of the sub-directories which are each holding one image data"
   ]
  },
  {
   "cell_type": "code",
   "execution_count": 19,
   "id": "83af099d-2d8a-4321-863d-279f1cba1f48",
   "metadata": {},
   "outputs": [],
   "source": [
    "img_folders = os.listdir(\n",
    "    os.path.join(\n",
    "        params['RAW_DATA_DIRECTORY'],\n",
    "        'radiography',\n",
    "    )\n",
    ")"
   ]
  },
  {
   "cell_type": "markdown",
   "id": "e8b5dc05-88c9-4f02-8f81-cc05bacc7fd9",
   "metadata": {},
   "source": [
    "#### correct the json content and write to the newly created directory inside `../data/intermediate`"
   ]
  },
  {
   "cell_type": "code",
   "execution_count": 23,
   "id": "a64a22b1-57b2-4ffb-b252-7c6db3a33efd",
   "metadata": {},
   "outputs": [],
   "source": [
    "def empty_unwanted_fields_from_json(\n",
    "    unwanted_fields: List[str],\n",
    "    img_folder: str,\n",
    ") -> None:\n",
    "    \"\"\" Empty the unwanted fields in from a dict object which is read\n",
    "    from a json file.\n",
    "    \"\"\"\n",
    "    # create the path to the input json\n",
    "    input_json_file_path = os.path.join(\n",
    "        params['RAW_DATA_DIRECTORY'], 'radiography', img_folder, img_folder+'.json'\n",
    "    )\n",
    "    # read the file\n",
    "    with open(input_json_file_path, 'r') as f:\n",
    "        json_file = json.load(f)\n",
    "    # remove the image data\n",
    "    for field in unwanted_fields:\n",
    "        if field in json_file:\n",
    "            json_file[field] = None\n",
    "    # create the path to the output json\n",
    "    output_json_file_path = os.path.join(\n",
    "        params['INTERMEDIATE_DATA_DIRECTORY'],\n",
    "        params['DATASET_1_INTERMEDIATE_DIR_NAME'],\n",
    "        img_folder+'.json',\n",
    "    )\n",
    "    # write it back to disk\n",
    "    with open(output_json_file_path, 'w') as f:\n",
    "        json.dump(json_file, f)\n",
    "    return None"
   ]
  },
  {
   "cell_type": "code",
   "execution_count": 24,
   "id": "b62a6cbd-6ef9-4db4-a1f2-99d0618aff02",
   "metadata": {
    "tags": []
   },
   "outputs": [
    {
     "name": "stdout",
     "output_type": "stream",
     "text": [
      "[Errno 2] No such file or directory: '../data/raw/radiography/61/61.json'\n",
      "[Errno 2] No such file or directory: '../data/raw/radiography/60/60.json'\n"
     ]
    }
   ],
   "source": [
    "for img_folder in img_folders:\n",
    "    json_correction_errors = []\n",
    "    # correct the json content\n",
    "    try:\n",
    "        empty_unwanted_fields_from_json(\n",
    "            unwanted_fields=params['DATASET_1_UNWANTED_JSON_FIELDS'],\n",
    "            img_folder=img_folder,\n",
    "        )\n",
    "    except Exception as e:\n",
    "        print(e)\n",
    "        json_correction_errors.append(img_folder)"
   ]
  },
  {
   "cell_type": "markdown",
   "id": "ce23286e-4091-4a81-93c8-adc6cf8a0403",
   "metadata": {},
   "source": [
    "## correct the folder structure of images"
   ]
  },
  {
   "cell_type": "code",
   "execution_count": 25,
   "id": "75c2f947-9f00-4f16-9c4e-ddd16878a727",
   "metadata": {},
   "outputs": [],
   "source": [
    "def unravel_image_folder(\n",
    "    img_folder: str,\n",
    ") -> None:\n",
    "    \"\"\" Take out images from within the folders they are stored in. Store\n",
    "    them in the new directory inside \"intermediate\" data directory.\n",
    "    \"\"\"\n",
    "    orig_path = os.path.join(\n",
    "        params['RAW_DATA_DIRECTORY'],\n",
    "        'radiography', \n",
    "        img_folder, \n",
    "        'SR0000', \n",
    "        img_folder+'.jpg'\n",
    "    )\n",
    "    dest_path = os.path.join(\n",
    "        params['INTERMEDIATE_DATA_DIRECTORY'],\n",
    "        params['DATASET_1_INTERMEDIATE_DIR_NAME'],\n",
    "        img_folder+'.jpg'\n",
    "    )\n",
    "    shutil.move(orig_path, dest_path)\n",
    "    return None"
   ]
  },
  {
   "cell_type": "code",
   "execution_count": 26,
   "id": "243e0c34-7459-4f50-90ff-4ab7a1e1911c",
   "metadata": {},
   "outputs": [
    {
     "name": "stdout",
     "output_type": "stream",
     "text": [
      "[Errno 2] No such file or directory: '../data/raw/radiography/61/SR0000/61.jpg'\n",
      "[Errno 2] No such file or directory: '../data/raw/radiography/25/SR0000/25.jpg'\n",
      "[Errno 2] No such file or directory: '../data/raw/radiography/60/SR0000/60.jpg'\n",
      "[Errno 2] No such file or directory: '../data/raw/radiography/24/SR0000/24.jpg'\n",
      "[Errno 2] No such file or directory: '../data/raw/radiography/69/SR0000/69.jpg'\n"
     ]
    }
   ],
   "source": [
    "for img_folder in img_folders:\n",
    "    shutil_errors = []  \n",
    "    # move the image file out of the folder SR0000\n",
    "    try:\n",
    "        unravel_image_folder(img_folder=img_folder)\n",
    "    except Exception as e:\n",
    "        print(e)\n",
    "        shutil_errors.append(img_folder)"
   ]
  }
 ],
 "metadata": {
  "kernelspec": {
   "display_name": "Python 3 (ipykernel)",
   "language": "python",
   "name": "python3"
  },
  "language_info": {
   "codemirror_mode": {
    "name": "ipython",
    "version": 3
   },
   "file_extension": ".py",
   "mimetype": "text/x-python",
   "name": "python",
   "nbconvert_exporter": "python",
   "pygments_lexer": "ipython3",
   "version": "3.8.0"
  }
 },
 "nbformat": 4,
 "nbformat_minor": 5
}
