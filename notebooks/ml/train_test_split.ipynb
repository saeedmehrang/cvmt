{
 "cells": [
  {
   "cell_type": "code",
   "execution_count": 1,
   "id": "eb14a0c7-c665-4671-bc71-508a1999b7cc",
   "metadata": {},
   "outputs": [],
   "source": [
    "%load_ext autoreload\n",
    "%autoreload 2"
   ]
  },
  {
   "attachments": {},
   "cell_type": "markdown",
   "id": "d97e649b-5579-438f-8743-826c94356990",
   "metadata": {},
   "source": [
    "# Introduction and Objective\n",
    "## Splitting the data into train, val, and test\n",
    "\n",
    "Note! the Isfahan Uni of Med Science data (dataset_1) are excluded from this round of analysis. We include that \n",
    "dataset when we have their metadata avilable so that we can split them by stratification on the subjects' age."
   ]
  },
  {
   "cell_type": "code",
   "execution_count": 2,
   "id": "9ac9eb5f-e4f7-4a51-ad13-637b556c0bde",
   "metadata": {},
   "outputs": [],
   "source": [
    "import numpy as np\n",
    "import yaml\n",
    "import os\n",
    "import matplotlib.pyplot as plt\n",
    "import matplotlib.ticker as ticker\n",
    "import pandas as pd"
   ]
  },
  {
   "cell_type": "code",
   "execution_count": 3,
   "id": "2d821050-b28a-464b-8246-722f02532cc4",
   "metadata": {},
   "outputs": [],
   "source": [
    "from utils import split_filenames"
   ]
  },
  {
   "attachments": {},
   "cell_type": "markdown",
   "id": "07021848-d7f9-4539-bc5d-1666e39b68c8",
   "metadata": {},
   "source": [
    "# load parameters"
   ]
  },
  {
   "cell_type": "code",
   "execution_count": 4,
   "id": "738e8cbe-ee09-49d4-8322-ad992a984885",
   "metadata": {},
   "outputs": [],
   "source": [
    "with open(\"../../code_configs/params.yaml\") as f:\n",
    "    params = yaml.safe_load(f)"
   ]
  },
  {
   "cell_type": "code",
   "execution_count": 5,
   "id": "c5cec521-f139-4359-9400-fe0b1fe6cf64",
   "metadata": {},
   "outputs": [
    {
     "name": "stdout",
     "output_type": "stream",
     "text": [
      "{'RAW_DATA_DIRECTORY': '../../data/raw', 'INTERMEDIATE_DATA_DIRECTORY': '../../data/intermediate', 'PRIMARY_DATA_DIRECTORY': '../../data/primary', 'ARTIFACTS_DATA_DIRECTORY': '../../artifacts', 'DATASET_1_RAW_ZIP_FILE_NAME': 'radiography-20221212T190109Z-001.zip', 'DATASET_1_RAW_ZIP_NEW_ANNOT_FILE_NAME': 'label_edited-20230122T143005Z-001.zip', 'DATASET_1_INTERMEDIATE_DIR_NAME': 'dataset_1', 'DATASET_1_UNWANTED_JSON_FIELDS': ['imageData'], 'DATASET_3_RAW_RAR_FILE_NAME': 'RawImage.rar', 'DATASET_3_RAW_DIR_NAME_TEMP': 'dataset_3_bmp', 'DATASET_3_RAW_DIR_NAME': 'dataset_3_raw_data', 'UNWANTED_JSON_FIELDS': ['imageData', 'imagePath'], 'DATASET_1_INTERM_DIR_NAME': 'dataset_1_interm_data-20230513T084705Z-001', 'DATASET_1_INTERM_IMG_DIR_NAME': ['image'], 'DATASET_1_INTERM_V_LANDMARKS_DIR_NAME': ['label'], 'DATASET_1_INTERM_F_LANDMARKS_DIR_NAME': None, 'DATASET_2_INTERM_DIR_NAME': 'dataset_2_interm_data-20230304T160421Z-001', 'DATASET_2_INTERM_IMG_DIR_NAME': ['image'], 'DATASET_2_INTERM_V_LANDMARKS_DIR_NAME': ['label'], 'DATASET_2_INTERM_F_LANDMARKS_DIR_NAME': None, 'DATASET_3_INTERM_DIR_NAME': 'dataset_3_interm_data-20230304T160433Z-001', 'DATASET_3_INTERM_IMG_DIR_NAME': ['training/image', 'test1/image', 'test2/image'], 'DATASET_3_INTERM_V_LANDMARKS_DIR_NAME': ['training/label', 'test1/label', 'test2/label'], 'DATASET_3_INTERM_F_LANDMARKS_DIR_NAME': 'AnnotationsByMD/400_senior', 'DATASET_1_EDGE_DETECT_SIGMA': 3, 'DATASET_2_EDGE_DETECT_SIGMA': 3, 'DATASET_3_EDGE_DETECT_SIGMA': 3, 'ARTIFACTS_GRAPHS_DIR_NAME': 'sample_graphs', 'METADATA_TABLE_NAME': 'metadata.hdf5', 'DATASETS_TO_INCLUDE': ['dataset_2', 'dataset_3'], 'TARGET_IMAGE_SIZE': [256, 256]}\n"
     ]
    }
   ],
   "source": [
    "print(params)"
   ]
  },
  {
   "attachments": {},
   "cell_type": "markdown",
   "id": "8217ec1b-27c1-4a4c-9f3a-eef6d4cf369e",
   "metadata": {},
   "source": [
    "# load the metadata table and perform the splitting"
   ]
  },
  {
   "cell_type": "code",
   "execution_count": 6,
   "id": "bf6c585d-316f-4489-9821-f864f594bcb3",
   "metadata": {},
   "outputs": [],
   "source": [
    "store = pd.HDFStore(\n",
    "    os.path.join(params['PRIMARY_DATA_DIRECTORY'], params['METADATA_TABLE_NAME']),\n",
    "    mode='a',\n",
    ")\n",
    "# read the table into a pandas DataFrame\n",
    "metadata_table = store.select('df')"
   ]
  },
  {
   "cell_type": "code",
   "execution_count": 7,
   "id": "90a98de8-e50c-4d13-8cfb-7b063c97c510",
   "metadata": {},
   "outputs": [
    {
     "data": {
      "text/html": [
       "<div>\n",
       "<style scoped>\n",
       "    .dataframe tbody tr th:only-of-type {\n",
       "        vertical-align: middle;\n",
       "    }\n",
       "\n",
       "    .dataframe tbody tr th {\n",
       "        vertical-align: top;\n",
       "    }\n",
       "\n",
       "    .dataframe thead th {\n",
       "        text-align: right;\n",
       "    }\n",
       "</style>\n",
       "<table border=\"1\" class=\"dataframe\">\n",
       "  <thead>\n",
       "    <tr style=\"text-align: right;\">\n",
       "      <th></th>\n",
       "      <th>source_image_filename</th>\n",
       "      <th>harmonized_id</th>\n",
       "      <th>dataset</th>\n",
       "      <th>dev_set</th>\n",
       "      <th>v_annots_present</th>\n",
       "      <th>f_annots_present</th>\n",
       "      <th>edges_present</th>\n",
       "    </tr>\n",
       "  </thead>\n",
       "  <tbody>\n",
       "    <tr>\n",
       "      <th>0</th>\n",
       "      <td>45.jpg</td>\n",
       "      <td>041281ee7fb89f6835a71c309b3b503e3d5a68fc46a608...</td>\n",
       "      <td>dataset_1</td>\n",
       "      <td>NaN</td>\n",
       "      <td>True</td>\n",
       "      <td>False</td>\n",
       "      <td>True</td>\n",
       "    </tr>\n",
       "    <tr>\n",
       "      <th>1</th>\n",
       "      <td>92.jpg</td>\n",
       "      <td>2cfa37a69916c8a45a51bb8beeb04425e07d2a22f694e0...</td>\n",
       "      <td>dataset_1</td>\n",
       "      <td>NaN</td>\n",
       "      <td>True</td>\n",
       "      <td>False</td>\n",
       "      <td>True</td>\n",
       "    </tr>\n",
       "    <tr>\n",
       "      <th>2</th>\n",
       "      <td>43.jpg</td>\n",
       "      <td>7201dc2be0b97f59a7901004d6496bbe84c440530776db...</td>\n",
       "      <td>dataset_1</td>\n",
       "      <td>NaN</td>\n",
       "      <td>True</td>\n",
       "      <td>False</td>\n",
       "      <td>True</td>\n",
       "    </tr>\n",
       "    <tr>\n",
       "      <th>3</th>\n",
       "      <td>7.jpg</td>\n",
       "      <td>2cd4487c03c72d1016ea0a72d1b21eb987878c90ae9eff...</td>\n",
       "      <td>dataset_1</td>\n",
       "      <td>NaN</td>\n",
       "      <td>True</td>\n",
       "      <td>False</td>\n",
       "      <td>True</td>\n",
       "    </tr>\n",
       "    <tr>\n",
       "      <th>4</th>\n",
       "      <td>121.jpg</td>\n",
       "      <td>27624a6eb37bbc8aafabe2075f423d573b189eae6f23fb...</td>\n",
       "      <td>dataset_1</td>\n",
       "      <td>NaN</td>\n",
       "      <td>True</td>\n",
       "      <td>False</td>\n",
       "      <td>True</td>\n",
       "    </tr>\n",
       "  </tbody>\n",
       "</table>\n",
       "</div>"
      ],
      "text/plain": [
       "  source_image_filename                                      harmonized_id  \\\n",
       "0                45.jpg  041281ee7fb89f6835a71c309b3b503e3d5a68fc46a608...   \n",
       "1                92.jpg  2cfa37a69916c8a45a51bb8beeb04425e07d2a22f694e0...   \n",
       "2                43.jpg  7201dc2be0b97f59a7901004d6496bbe84c440530776db...   \n",
       "3                 7.jpg  2cd4487c03c72d1016ea0a72d1b21eb987878c90ae9eff...   \n",
       "4               121.jpg  27624a6eb37bbc8aafabe2075f423d573b189eae6f23fb...   \n",
       "\n",
       "     dataset dev_set  v_annots_present  f_annots_present  edges_present  \n",
       "0  dataset_1     NaN              True             False           True  \n",
       "1  dataset_1     NaN              True             False           True  \n",
       "2  dataset_1     NaN              True             False           True  \n",
       "3  dataset_1     NaN              True             False           True  \n",
       "4  dataset_1     NaN              True             False           True  "
      ]
     },
     "execution_count": 7,
     "metadata": {},
     "output_type": "execute_result"
    }
   ],
   "source": [
    "metadata_table.head(5)"
   ]
  },
  {
   "cell_type": "code",
   "execution_count": 8,
   "id": "a791d96e-cec3-4b9d-8cbf-8d9dd4731183",
   "metadata": {},
   "outputs": [],
   "source": [
    "selected_samples = metadata_table.loc[\n",
    "    metadata_table['dataset'].isin(params['DATASETS_TO_INCLUDE']),\n",
    "    ['harmonized_id', 'dataset']\n",
    "]"
   ]
  },
  {
   "cell_type": "code",
   "execution_count": 9,
   "id": "67f3e332-0c43-45f5-9ad0-8f2d0b1a3d89",
   "metadata": {},
   "outputs": [
    {
     "data": {
      "text/plain": [
       "(479, 2)"
      ]
     },
     "execution_count": 9,
     "metadata": {},
     "output_type": "execute_result"
    }
   ],
   "source": [
    "selected_samples.shape"
   ]
  },
  {
   "attachments": {},
   "cell_type": "markdown",
   "id": "6921b57c-28fe-44c7-afe3-31678ca58984",
   "metadata": {},
   "source": [
    "# Perform the splitting"
   ]
  },
  {
   "cell_type": "code",
   "execution_count": 10,
   "id": "2e107853-e5fd-476a-904c-79808cbbd306",
   "metadata": {},
   "outputs": [],
   "source": [
    "train_files, val_files, test_files = split_filenames(    \n",
    "    filenames=selected_samples['harmonized_id'].tolist(), \n",
    "    train_ratio=0.6,\n",
    "    val_ratio=0.2,\n",
    "    test_ratio=0.2,\n",
    "    seed=100,\n",
    "    grouping_factor=selected_samples['dataset'].tolist(),\n",
    ")"
   ]
  },
  {
   "attachments": {},
   "cell_type": "markdown",
   "id": "5ec428ef-3662-4584-afbd-16760806bfcd",
   "metadata": {},
   "source": [
    "# store the splits into a table"
   ]
  },
  {
   "cell_type": "code",
   "execution_count": 11,
   "id": "d3d7ab15-617b-4b7c-b963-eca69d03b402",
   "metadata": {},
   "outputs": [],
   "source": [
    "indices_train = np.where(\n",
    "    np.isin(\n",
    "        metadata_table['harmonized_id'].to_numpy(), \n",
    "        train_files,\n",
    "    )\n",
    ")[0]"
   ]
  },
  {
   "cell_type": "code",
   "execution_count": 12,
   "id": "2ecc0cbd-a58e-4f51-8011-d859836eed59",
   "metadata": {},
   "outputs": [],
   "source": [
    "indices_val = np.where(\n",
    "    np.isin(\n",
    "        metadata_table['harmonized_id'].to_numpy(), \n",
    "        val_files,\n",
    "    )\n",
    ")[0]"
   ]
  },
  {
   "cell_type": "code",
   "execution_count": 13,
   "id": "4d89dd2e-97f9-40d7-977c-ad2821e6908c",
   "metadata": {},
   "outputs": [],
   "source": [
    "indices_test = np.where(\n",
    "    np.isin(\n",
    "        metadata_table['harmonized_id'].to_numpy(), \n",
    "        test_files,\n",
    "    )\n",
    ")[0]"
   ]
  },
  {
   "cell_type": "code",
   "execution_count": 14,
   "id": "882acd9f-6211-4569-869f-51af728fafa7",
   "metadata": {},
   "outputs": [],
   "source": [
    "split_arr = np.repeat('undefined', metadata_table.shape[0],)"
   ]
  },
  {
   "cell_type": "code",
   "execution_count": 15,
   "id": "efd6738e-b1d3-4f53-bf9b-ab01d4171511",
   "metadata": {},
   "outputs": [],
   "source": [
    "split_arr[indices_train] = np.repeat('train', indices_train.shape)\n",
    "split_arr[indices_val] = np.repeat('val', indices_val.shape)\n",
    "split_arr[indices_test] = np.repeat('test', indices_test.shape)"
   ]
  },
  {
   "cell_type": "code",
   "execution_count": 16,
   "id": "4d386523-80a2-420c-82f4-d73181f233dd",
   "metadata": {},
   "outputs": [],
   "source": [
    "metadata_table['split'] = split_arr"
   ]
  },
  {
   "attachments": {},
   "cell_type": "markdown",
   "id": "8e772e53-9c52-4b92-9db8-f96e155aa227",
   "metadata": {},
   "source": [
    "# write the new column to the metadata table"
   ]
  },
  {
   "cell_type": "code",
   "execution_count": 17,
   "id": "9e06999d-18d0-43c5-86a6-4f6068c7d375",
   "metadata": {},
   "outputs": [],
   "source": [
    "# write the modified DataFrame back to the HDF5 file\n",
    "store.put('df', metadata_table, format='table', data_columns=True)\n",
    "store.close()"
   ]
  }
 ],
 "metadata": {
  "kernelspec": {
   "display_name": "Python 3 (ipykernel)",
   "language": "python",
   "name": "python3"
  },
  "language_info": {
   "codemirror_mode": {
    "name": "ipython",
    "version": 3
   },
   "file_extension": ".py",
   "mimetype": "text/x-python",
   "name": "python",
   "nbconvert_exporter": "python",
   "pygments_lexer": "ipython3",
   "version": "3.8.10"
  }
 },
 "nbformat": 4,
 "nbformat_minor": 5
}
