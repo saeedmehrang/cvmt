{
 "cells": [
  {
   "cell_type": "code",
   "execution_count": 1,
   "metadata": {},
   "outputs": [],
   "source": [
    "%load_ext autoreload\n",
    "%autoreload 2"
   ]
  },
  {
   "cell_type": "code",
   "execution_count": 9,
   "metadata": {},
   "outputs": [],
   "source": [
    "import pandas as pd\n",
    "import numpy as np\n",
    "import os\n",
    "import glob\n",
    "import yaml\n",
    "from cvmt.utils import load_yaml_params, nested_dict_to_easydict"
   ]
  },
  {
   "cell_type": "code",
   "execution_count": 12,
   "metadata": {},
   "outputs": [],
   "source": [
    "CONFIG_PARAMS_PATH = \"../../configs/params.yaml\"\n"
   ]
  },
  {
   "cell_type": "code",
   "execution_count": 13,
   "metadata": {},
   "outputs": [],
   "source": [
    "params = nested_dict_to_easydict(\n",
    "    load_yaml_params(CONFIG_PARAMS_PATH)\n",
    ")"
   ]
  },
  {
   "cell_type": "code",
   "execution_count": 16,
   "metadata": {},
   "outputs": [],
   "source": [
    "DATASET = \"dataset_1\"\n",
    "metadata_table_1 = pd.read_hdf(\n",
    "    os.path.join(\"../..\", params.PRIMARY_DATA_DIRECTORY, f'metadata_{DATASET}.hdf5'),\n",
    "    key='df',\n",
    ")\n",
    "\n",
    "DATASET = \"dataset_2\"\n",
    "metadata_table_2 = pd.read_hdf(\n",
    "    os.path.join(\"../..\", params.PRIMARY_DATA_DIRECTORY, f'metadata_{DATASET}.hdf5'),\n",
    "    key='df',\n",
    ")\n",
    "\n",
    "DATASET = \"dataset_3\"\n",
    "metadata_table_3 = pd.read_hdf(\n",
    "    os.path.join(\"../..\", params.PRIMARY_DATA_DIRECTORY, f'metadata_{DATASET}.hdf5'),\n",
    "    key='df',\n",
    ")\n"
   ]
  },
  {
   "cell_type": "markdown",
   "metadata": {},
   "source": [
    "## concatenate all datasets' metadata tables"
   ]
  },
  {
   "cell_type": "code",
   "execution_count": 17,
   "metadata": {},
   "outputs": [],
   "source": [
    "metadata_table_all = pd.concat(\n",
    "    [metadata_table_1, metadata_table_2, metadata_table_3],\n",
    "    axis=0,\n",
    ")"
   ]
  },
  {
   "cell_type": "code",
   "execution_count": 18,
   "metadata": {},
   "outputs": [],
   "source": [
    "metadata_table_all.reset_index(drop=True, inplace=True)"
   ]
  },
  {
   "cell_type": "code",
   "execution_count": 19,
   "metadata": {},
   "outputs": [
    {
     "name": "stdout",
     "output_type": "stream",
     "text": [
      "(621, 15)\n"
     ]
    }
   ],
   "source": [
    "print(metadata_table_all.shape)"
   ]
  },
  {
   "cell_type": "markdown",
   "metadata": {},
   "source": [
    "## Sanity check and data row validation\n",
    " check which data rows are not conforming to the expectations. Add a column to the data and denote the validity."
   ]
  },
  {
   "cell_type": "code",
   "execution_count": 8,
   "metadata": {},
   "outputs": [],
   "source": [
    "validty_arr = np.repeat(True, metadata_table_all.shape[0],)"
   ]
  },
  {
   "cell_type": "code",
   "execution_count": 9,
   "metadata": {},
   "outputs": [
    {
     "name": "stdout",
     "output_type": "stream",
     "text": [
      "invalid_indices  [266 335 384 426]\n"
     ]
    }
   ],
   "source": [
    "invalid_rows = metadata_table_all[\n",
    "    (\n",
    "        (metadata_table_all['v_annots_present'] == True) & (\n",
    "        (metadata_table_all['v_annots_2_rows'] != 3) | \n",
    "        (metadata_table_all['v_annots_3_rows'] != 5) | \n",
    "        (metadata_table_all['v_annots_4_rows'] != 5))\n",
    "    ) | (\n",
    "        (metadata_table_all['f_annots_present'] == True) & (\n",
    "        metadata_table_all['f_annots_rows'] != 19)\n",
    "    )\n",
    "]\n",
    "\n",
    "invalid_indices = invalid_rows.index.to_numpy()\n",
    "\n",
    "print(\"invalid_indices \", invalid_indices)"
   ]
  },
  {
   "cell_type": "code",
   "execution_count": 10,
   "metadata": {},
   "outputs": [],
   "source": [
    "validty_arr[invalid_indices] = False"
   ]
  },
  {
   "cell_type": "code",
   "execution_count": 11,
   "metadata": {},
   "outputs": [
    {
     "data": {
      "text/html": [
       "<div>\n",
       "<style scoped>\n",
       "    .dataframe tbody tr th:only-of-type {\n",
       "        vertical-align: middle;\n",
       "    }\n",
       "\n",
       "    .dataframe tbody tr th {\n",
       "        vertical-align: top;\n",
       "    }\n",
       "\n",
       "    .dataframe thead th {\n",
       "        text-align: right;\n",
       "    }\n",
       "</style>\n",
       "<table border=\"1\" class=\"dataframe\">\n",
       "  <thead>\n",
       "    <tr style=\"text-align: right;\">\n",
       "      <th></th>\n",
       "      <th>v_annots_present</th>\n",
       "      <th>f_annots_present</th>\n",
       "      <th>edges_present</th>\n",
       "      <th>f_annots_rows</th>\n",
       "      <th>f_annots_cols</th>\n",
       "      <th>harmonized_id</th>\n",
       "      <th>v_annots_2_rows</th>\n",
       "      <th>v_annots_2_cols</th>\n",
       "      <th>v_annots_3_rows</th>\n",
       "      <th>v_annots_3_cols</th>\n",
       "      <th>v_annots_4_rows</th>\n",
       "      <th>v_annots_4_cols</th>\n",
       "      <th>source_image_filename</th>\n",
       "      <th>dataset</th>\n",
       "      <th>dev_set</th>\n",
       "    </tr>\n",
       "  </thead>\n",
       "  <tbody>\n",
       "    <tr>\n",
       "      <th>266</th>\n",
       "      <td>True</td>\n",
       "      <td>True</td>\n",
       "      <td>True</td>\n",
       "      <td>19</td>\n",
       "      <td>2</td>\n",
       "      <td>d7fc3b01b39c52636257e70c66aadbfac93e06bee24874...</td>\n",
       "      <td>5.0</td>\n",
       "      <td>2.0</td>\n",
       "      <td>NaN</td>\n",
       "      <td>NaN</td>\n",
       "      <td>5.0</td>\n",
       "      <td>2.0</td>\n",
       "      <td>054.jpeg</td>\n",
       "      <td>dataset_3</td>\n",
       "      <td>training</td>\n",
       "    </tr>\n",
       "    <tr>\n",
       "      <th>335</th>\n",
       "      <td>True</td>\n",
       "      <td>True</td>\n",
       "      <td>True</td>\n",
       "      <td>19</td>\n",
       "      <td>2</td>\n",
       "      <td>a07a5a11953b5895737cf2073715be2bb15411bd45ff91...</td>\n",
       "      <td>NaN</td>\n",
       "      <td>NaN</td>\n",
       "      <td>5.0</td>\n",
       "      <td>2.0</td>\n",
       "      <td>5.0</td>\n",
       "      <td>2.0</td>\n",
       "      <td>115.jpeg</td>\n",
       "      <td>dataset_3</td>\n",
       "      <td>training</td>\n",
       "    </tr>\n",
       "    <tr>\n",
       "      <th>384</th>\n",
       "      <td>True</td>\n",
       "      <td>True</td>\n",
       "      <td>True</td>\n",
       "      <td>19</td>\n",
       "      <td>2</td>\n",
       "      <td>2231a08c6ea2c6d93e7706f7ed51710a039e53203b0d9d...</td>\n",
       "      <td>NaN</td>\n",
       "      <td>NaN</td>\n",
       "      <td>5.0</td>\n",
       "      <td>2.0</td>\n",
       "      <td>5.0</td>\n",
       "      <td>2.0</td>\n",
       "      <td>271.jpeg</td>\n",
       "      <td>dataset_3</td>\n",
       "      <td>test1</td>\n",
       "    </tr>\n",
       "    <tr>\n",
       "      <th>426</th>\n",
       "      <td>True</td>\n",
       "      <td>True</td>\n",
       "      <td>True</td>\n",
       "      <td>19</td>\n",
       "      <td>2</td>\n",
       "      <td>0c13b055b51564143a2c52b8558a37888bc45625966fc0...</td>\n",
       "      <td>5.0</td>\n",
       "      <td>2.0</td>\n",
       "      <td>NaN</td>\n",
       "      <td>NaN</td>\n",
       "      <td>5.0</td>\n",
       "      <td>2.0</td>\n",
       "      <td>180.jpeg</td>\n",
       "      <td>dataset_3</td>\n",
       "      <td>test1</td>\n",
       "    </tr>\n",
       "  </tbody>\n",
       "</table>\n",
       "</div>"
      ],
      "text/plain": [
       "     v_annots_present  f_annots_present  edges_present f_annots_rows  \\\n",
       "266              True              True           True            19   \n",
       "335              True              True           True            19   \n",
       "384              True              True           True            19   \n",
       "426              True              True           True            19   \n",
       "\n",
       "    f_annots_cols                                      harmonized_id  \\\n",
       "266             2  d7fc3b01b39c52636257e70c66aadbfac93e06bee24874...   \n",
       "335             2  a07a5a11953b5895737cf2073715be2bb15411bd45ff91...   \n",
       "384             2  2231a08c6ea2c6d93e7706f7ed51710a039e53203b0d9d...   \n",
       "426             2  0c13b055b51564143a2c52b8558a37888bc45625966fc0...   \n",
       "\n",
       "     v_annots_2_rows  v_annots_2_cols  v_annots_3_rows  v_annots_3_cols  \\\n",
       "266              5.0              2.0              NaN              NaN   \n",
       "335              NaN              NaN              5.0              2.0   \n",
       "384              NaN              NaN              5.0              2.0   \n",
       "426              5.0              2.0              NaN              NaN   \n",
       "\n",
       "     v_annots_4_rows  v_annots_4_cols source_image_filename    dataset  \\\n",
       "266              5.0              2.0              054.jpeg  dataset_3   \n",
       "335              5.0              2.0              115.jpeg  dataset_3   \n",
       "384              5.0              2.0              271.jpeg  dataset_3   \n",
       "426              5.0              2.0              180.jpeg  dataset_3   \n",
       "\n",
       "      dev_set  \n",
       "266  training  \n",
       "335  training  \n",
       "384     test1  \n",
       "426     test1  "
      ]
     },
     "execution_count": 11,
     "metadata": {},
     "output_type": "execute_result"
    }
   ],
   "source": [
    "invalid_rows"
   ]
  },
  {
   "cell_type": "code",
   "execution_count": 12,
   "metadata": {},
   "outputs": [
    {
     "data": {
      "text/plain": [
       "(array([False,  True]), array([  4, 617]))"
      ]
     },
     "execution_count": 12,
     "metadata": {},
     "output_type": "execute_result"
    }
   ],
   "source": [
    "np.unique(validty_arr, return_counts=True)"
   ]
  },
  {
   "cell_type": "code",
   "execution_count": 13,
   "metadata": {},
   "outputs": [],
   "source": [
    "metadata_table_all['valid'] = validty_arr"
   ]
  },
  {
   "cell_type": "code",
   "execution_count": 14,
   "metadata": {},
   "outputs": [
    {
     "data": {
      "text/plain": [
       "valid  dataset  \n",
       "True   dataset_3    396\n",
       "       dataset_1    142\n",
       "       dataset_2     79\n",
       "False  dataset_3      4\n",
       "dtype: int64"
      ]
     },
     "execution_count": 14,
     "metadata": {},
     "output_type": "execute_result"
    }
   ],
   "source": [
    "metadata_table_all.loc[:,['valid', 'dataset',]].value_counts()"
   ]
  },
  {
   "cell_type": "markdown",
   "metadata": {},
   "source": [
    "## write to disk"
   ]
  },
  {
   "cell_type": "code",
   "execution_count": 20,
   "metadata": {},
   "outputs": [
    {
     "name": "stderr",
     "output_type": "stream",
     "text": [
      "/tmp/ipykernel_9363/1661456841.py:1: PerformanceWarning: \n",
      "your performance may suffer as PyTables will pickle object types that it cannot\n",
      "map directly to c-types [inferred_type->mixed-integer,key->block2_values] [items->Index(['f_annots_rows', 'f_annots_cols', 'harmonized_id',\n",
      "       'source_image_filename', 'dataset', 'dev_set'],\n",
      "      dtype='object')]\n",
      "\n",
      "  metadata_table_all.to_hdf(\n"
     ]
    }
   ],
   "source": [
    "metadata_table_all.to_hdf(\n",
    "    os.path.join(\"../..\", params['PRIMARY_DATA_DIRECTORY'], 'metadata.hdf5'),\n",
    "    key='df',\n",
    "    index=False,\n",
    "    mode='w',\n",
    ")"
   ]
  },
  {
   "cell_type": "code",
   "execution_count": 23,
   "metadata": {},
   "outputs": [],
   "source": [
    "metadata_table_read = pd.read_hdf(\n",
    "    os.path.join(\"../..\", params['PRIMARY_DATA_DIRECTORY'], 'metadata.hdf5'),\n",
    "    key='df',\n",
    ")"
   ]
  },
  {
   "cell_type": "code",
   "execution_count": 24,
   "metadata": {},
   "outputs": [
    {
     "data": {
      "text/html": [
       "<div>\n",
       "<style scoped>\n",
       "    .dataframe tbody tr th:only-of-type {\n",
       "        vertical-align: middle;\n",
       "    }\n",
       "\n",
       "    .dataframe tbody tr th {\n",
       "        vertical-align: top;\n",
       "    }\n",
       "\n",
       "    .dataframe thead th {\n",
       "        text-align: right;\n",
       "    }\n",
       "</style>\n",
       "<table border=\"1\" class=\"dataframe\">\n",
       "  <thead>\n",
       "    <tr style=\"text-align: right;\">\n",
       "      <th></th>\n",
       "      <th>v_annots_present</th>\n",
       "      <th>f_annots_present</th>\n",
       "      <th>edges_present</th>\n",
       "      <th>f_annots_rows</th>\n",
       "      <th>f_annots_cols</th>\n",
       "      <th>harmonized_id</th>\n",
       "      <th>v_annots_2_rows</th>\n",
       "      <th>v_annots_2_cols</th>\n",
       "      <th>v_annots_3_rows</th>\n",
       "      <th>v_annots_3_cols</th>\n",
       "      <th>v_annots_4_rows</th>\n",
       "      <th>v_annots_4_cols</th>\n",
       "      <th>source_image_filename</th>\n",
       "      <th>dataset</th>\n",
       "      <th>dev_set</th>\n",
       "      <th>valid</th>\n",
       "      <th>split</th>\n",
       "    </tr>\n",
       "  </thead>\n",
       "  <tbody>\n",
       "    <tr>\n",
       "      <th>0</th>\n",
       "      <td>True</td>\n",
       "      <td>False</td>\n",
       "      <td>True</td>\n",
       "      <td>NaN</td>\n",
       "      <td>NaN</td>\n",
       "      <td>a13c641c61fbc7a1d6b23688f266f351a4b1c9d9262d57...</td>\n",
       "      <td>3.0</td>\n",
       "      <td>2.0</td>\n",
       "      <td>5.0</td>\n",
       "      <td>2.0</td>\n",
       "      <td>5.0</td>\n",
       "      <td>2.0</td>\n",
       "      <td>45.jpg</td>\n",
       "      <td>dataset_1</td>\n",
       "      <td>NaN</td>\n",
       "      <td>True</td>\n",
       "      <td>undefined</td>\n",
       "    </tr>\n",
       "    <tr>\n",
       "      <th>1</th>\n",
       "      <td>True</td>\n",
       "      <td>False</td>\n",
       "      <td>True</td>\n",
       "      <td>NaN</td>\n",
       "      <td>NaN</td>\n",
       "      <td>5b23c67b51e8b636a429f2870579e65b18ada7080ef7e5...</td>\n",
       "      <td>3.0</td>\n",
       "      <td>2.0</td>\n",
       "      <td>5.0</td>\n",
       "      <td>2.0</td>\n",
       "      <td>5.0</td>\n",
       "      <td>2.0</td>\n",
       "      <td>92.jpg</td>\n",
       "      <td>dataset_1</td>\n",
       "      <td>NaN</td>\n",
       "      <td>True</td>\n",
       "      <td>undefined</td>\n",
       "    </tr>\n",
       "    <tr>\n",
       "      <th>2</th>\n",
       "      <td>True</td>\n",
       "      <td>False</td>\n",
       "      <td>True</td>\n",
       "      <td>NaN</td>\n",
       "      <td>NaN</td>\n",
       "      <td>d67f0e19e65f4c61c61a9e9b08bbd965397f3e75f2448d...</td>\n",
       "      <td>3.0</td>\n",
       "      <td>2.0</td>\n",
       "      <td>5.0</td>\n",
       "      <td>2.0</td>\n",
       "      <td>5.0</td>\n",
       "      <td>2.0</td>\n",
       "      <td>43.jpg</td>\n",
       "      <td>dataset_1</td>\n",
       "      <td>NaN</td>\n",
       "      <td>True</td>\n",
       "      <td>undefined</td>\n",
       "    </tr>\n",
       "    <tr>\n",
       "      <th>3</th>\n",
       "      <td>True</td>\n",
       "      <td>False</td>\n",
       "      <td>True</td>\n",
       "      <td>NaN</td>\n",
       "      <td>NaN</td>\n",
       "      <td>755e78fe07a2002857807d61ec89168e1b706eb14ee586...</td>\n",
       "      <td>3.0</td>\n",
       "      <td>2.0</td>\n",
       "      <td>5.0</td>\n",
       "      <td>2.0</td>\n",
       "      <td>5.0</td>\n",
       "      <td>2.0</td>\n",
       "      <td>7.jpg</td>\n",
       "      <td>dataset_1</td>\n",
       "      <td>NaN</td>\n",
       "      <td>True</td>\n",
       "      <td>undefined</td>\n",
       "    </tr>\n",
       "    <tr>\n",
       "      <th>4</th>\n",
       "      <td>True</td>\n",
       "      <td>False</td>\n",
       "      <td>True</td>\n",
       "      <td>NaN</td>\n",
       "      <td>NaN</td>\n",
       "      <td>e7898849fc17cc500d0a75439b267cef0cf8d098753d08...</td>\n",
       "      <td>3.0</td>\n",
       "      <td>2.0</td>\n",
       "      <td>5.0</td>\n",
       "      <td>2.0</td>\n",
       "      <td>5.0</td>\n",
       "      <td>2.0</td>\n",
       "      <td>121.jpg</td>\n",
       "      <td>dataset_1</td>\n",
       "      <td>NaN</td>\n",
       "      <td>True</td>\n",
       "      <td>undefined</td>\n",
       "    </tr>\n",
       "  </tbody>\n",
       "</table>\n",
       "</div>"
      ],
      "text/plain": [
       "   v_annots_present  f_annots_present  edges_present f_annots_rows  \\\n",
       "0              True             False           True           NaN   \n",
       "1              True             False           True           NaN   \n",
       "2              True             False           True           NaN   \n",
       "3              True             False           True           NaN   \n",
       "4              True             False           True           NaN   \n",
       "\n",
       "  f_annots_cols                                      harmonized_id  \\\n",
       "0           NaN  a13c641c61fbc7a1d6b23688f266f351a4b1c9d9262d57...   \n",
       "1           NaN  5b23c67b51e8b636a429f2870579e65b18ada7080ef7e5...   \n",
       "2           NaN  d67f0e19e65f4c61c61a9e9b08bbd965397f3e75f2448d...   \n",
       "3           NaN  755e78fe07a2002857807d61ec89168e1b706eb14ee586...   \n",
       "4           NaN  e7898849fc17cc500d0a75439b267cef0cf8d098753d08...   \n",
       "\n",
       "   v_annots_2_rows  v_annots_2_cols  v_annots_3_rows  v_annots_3_cols  \\\n",
       "0              3.0              2.0              5.0              2.0   \n",
       "1              3.0              2.0              5.0              2.0   \n",
       "2              3.0              2.0              5.0              2.0   \n",
       "3              3.0              2.0              5.0              2.0   \n",
       "4              3.0              2.0              5.0              2.0   \n",
       "\n",
       "   v_annots_4_rows  v_annots_4_cols source_image_filename    dataset dev_set  \\\n",
       "0              5.0              2.0                45.jpg  dataset_1     NaN   \n",
       "1              5.0              2.0                92.jpg  dataset_1     NaN   \n",
       "2              5.0              2.0                43.jpg  dataset_1     NaN   \n",
       "3              5.0              2.0                 7.jpg  dataset_1     NaN   \n",
       "4              5.0              2.0               121.jpg  dataset_1     NaN   \n",
       "\n",
       "   valid      split  \n",
       "0   True  undefined  \n",
       "1   True  undefined  \n",
       "2   True  undefined  \n",
       "3   True  undefined  \n",
       "4   True  undefined  "
      ]
     },
     "execution_count": 24,
     "metadata": {},
     "output_type": "execute_result"
    }
   ],
   "source": [
    "metadata_table_read.head()"
   ]
  },
  {
   "cell_type": "code",
   "execution_count": 25,
   "metadata": {},
   "outputs": [
    {
     "data": {
      "text/html": [
       "<div>\n",
       "<style scoped>\n",
       "    .dataframe tbody tr th:only-of-type {\n",
       "        vertical-align: middle;\n",
       "    }\n",
       "\n",
       "    .dataframe tbody tr th {\n",
       "        vertical-align: top;\n",
       "    }\n",
       "\n",
       "    .dataframe thead th {\n",
       "        text-align: right;\n",
       "    }\n",
       "</style>\n",
       "<table border=\"1\" class=\"dataframe\">\n",
       "  <thead>\n",
       "    <tr style=\"text-align: right;\">\n",
       "      <th></th>\n",
       "      <th>v_annots_2_rows</th>\n",
       "      <th>v_annots_2_cols</th>\n",
       "      <th>v_annots_3_rows</th>\n",
       "      <th>v_annots_3_cols</th>\n",
       "      <th>v_annots_4_rows</th>\n",
       "      <th>v_annots_4_cols</th>\n",
       "    </tr>\n",
       "  </thead>\n",
       "  <tbody>\n",
       "    <tr>\n",
       "      <th>count</th>\n",
       "      <td>576.000000</td>\n",
       "      <td>576.0</td>\n",
       "      <td>576.0</td>\n",
       "      <td>576.0</td>\n",
       "      <td>578.0</td>\n",
       "      <td>578.0</td>\n",
       "    </tr>\n",
       "    <tr>\n",
       "      <th>mean</th>\n",
       "      <td>3.006944</td>\n",
       "      <td>2.0</td>\n",
       "      <td>5.0</td>\n",
       "      <td>2.0</td>\n",
       "      <td>5.0</td>\n",
       "      <td>2.0</td>\n",
       "    </tr>\n",
       "    <tr>\n",
       "      <th>std</th>\n",
       "      <td>0.117749</td>\n",
       "      <td>0.0</td>\n",
       "      <td>0.0</td>\n",
       "      <td>0.0</td>\n",
       "      <td>0.0</td>\n",
       "      <td>0.0</td>\n",
       "    </tr>\n",
       "    <tr>\n",
       "      <th>min</th>\n",
       "      <td>3.000000</td>\n",
       "      <td>2.0</td>\n",
       "      <td>5.0</td>\n",
       "      <td>2.0</td>\n",
       "      <td>5.0</td>\n",
       "      <td>2.0</td>\n",
       "    </tr>\n",
       "    <tr>\n",
       "      <th>25%</th>\n",
       "      <td>3.000000</td>\n",
       "      <td>2.0</td>\n",
       "      <td>5.0</td>\n",
       "      <td>2.0</td>\n",
       "      <td>5.0</td>\n",
       "      <td>2.0</td>\n",
       "    </tr>\n",
       "    <tr>\n",
       "      <th>50%</th>\n",
       "      <td>3.000000</td>\n",
       "      <td>2.0</td>\n",
       "      <td>5.0</td>\n",
       "      <td>2.0</td>\n",
       "      <td>5.0</td>\n",
       "      <td>2.0</td>\n",
       "    </tr>\n",
       "    <tr>\n",
       "      <th>75%</th>\n",
       "      <td>3.000000</td>\n",
       "      <td>2.0</td>\n",
       "      <td>5.0</td>\n",
       "      <td>2.0</td>\n",
       "      <td>5.0</td>\n",
       "      <td>2.0</td>\n",
       "    </tr>\n",
       "    <tr>\n",
       "      <th>max</th>\n",
       "      <td>5.000000</td>\n",
       "      <td>2.0</td>\n",
       "      <td>5.0</td>\n",
       "      <td>2.0</td>\n",
       "      <td>5.0</td>\n",
       "      <td>2.0</td>\n",
       "    </tr>\n",
       "  </tbody>\n",
       "</table>\n",
       "</div>"
      ],
      "text/plain": [
       "       v_annots_2_rows  v_annots_2_cols  v_annots_3_rows  v_annots_3_cols  \\\n",
       "count       576.000000            576.0            576.0            576.0   \n",
       "mean          3.006944              2.0              5.0              2.0   \n",
       "std           0.117749              0.0              0.0              0.0   \n",
       "min           3.000000              2.0              5.0              2.0   \n",
       "25%           3.000000              2.0              5.0              2.0   \n",
       "50%           3.000000              2.0              5.0              2.0   \n",
       "75%           3.000000              2.0              5.0              2.0   \n",
       "max           5.000000              2.0              5.0              2.0   \n",
       "\n",
       "       v_annots_4_rows  v_annots_4_cols  \n",
       "count            578.0            578.0  \n",
       "mean               5.0              2.0  \n",
       "std                0.0              0.0  \n",
       "min                5.0              2.0  \n",
       "25%                5.0              2.0  \n",
       "50%                5.0              2.0  \n",
       "75%                5.0              2.0  \n",
       "max                5.0              2.0  "
      ]
     },
     "execution_count": 25,
     "metadata": {},
     "output_type": "execute_result"
    }
   ],
   "source": [
    "metadata_table_read.describe()"
   ]
  },
  {
   "cell_type": "code",
   "execution_count": null,
   "metadata": {},
   "outputs": [],
   "source": []
  }
 ],
 "metadata": {
  "kernelspec": {
   "display_name": ".venv",
   "language": "python",
   "name": "python3"
  },
  "language_info": {
   "codemirror_mode": {
    "name": "ipython",
    "version": 3
   },
   "file_extension": ".py",
   "mimetype": "text/x-python",
   "name": "python",
   "nbconvert_exporter": "python",
   "pygments_lexer": "ipython3",
   "version": "3.8.10"
  },
  "orig_nbformat": 4
 },
 "nbformat": 4,
 "nbformat_minor": 2
}
