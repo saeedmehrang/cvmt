{
 "cells": [
  {
   "cell_type": "code",
   "execution_count": 1,
   "id": "fdf6cbde-3843-45bf-a26e-0b24d6085f5c",
   "metadata": {},
   "outputs": [],
   "source": [
    "%load_ext autoreload\n",
    "%autoreload 2"
   ]
  },
  {
   "cell_type": "code",
   "execution_count": 2,
   "id": "4a74ecde-1633-4273-8b66-2f79ea378ba4",
   "metadata": {},
   "outputs": [
    {
     "name": "stderr",
     "output_type": "stream",
     "text": [
      "/home/samehr/Desktop/cephal/cvmt/venv/lib/python3.8/site-packages/tqdm/auto.py:21: TqdmWarning: IProgress not found. Please update jupyter and ipywidgets. See https://ipywidgets.readthedocs.io/en/stable/user_install.html\n",
      "  from .autonotebook import tqdm as notebook_tqdm\n"
     ]
    }
   ],
   "source": [
    "import os\n",
    "import sys\n",
    "\n",
    "import wandb\n",
    "from easydict import EasyDict\n",
    "from cvmt.ml.trainer import create_dataloader, SingletaskTrainLandmarks, mean_radial_error\n",
    "from cvmt.utils import (load_yaml_params, nested_dict_to_easydict)\n",
    "\n",
    "from cvmt.ml.models import MultiTaskLandmarkUNetCustom\n",
    "\n",
    "import torch\n"
   ]
  },
  {
   "cell_type": "code",
   "execution_count": 3,
   "id": "440bc898-fe8d-44bf-b375-9e6162f76c61",
   "metadata": {},
   "outputs": [],
   "source": [
    "os.chdir(\"../../\")"
   ]
  },
  {
   "cell_type": "code",
   "execution_count": 4,
   "id": "9f1be818-80fb-48fa-ae21-045dd926e73e",
   "metadata": {},
   "outputs": [],
   "source": [
    "CONFIG_PARAMS_PATH = \"configs/params.yaml\""
   ]
  },
  {
   "cell_type": "code",
   "execution_count": 5,
   "id": "fd8c54bf-2b30-4b63-85a9-452d8c0999cc",
   "metadata": {},
   "outputs": [],
   "source": [
    "params: EasyDict = nested_dict_to_easydict(\n",
    "    load_yaml_params(CONFIG_PARAMS_PATH)\n",
    ")"
   ]
  },
  {
   "cell_type": "code",
   "execution_count": 6,
   "id": "fb2be4d9-fe34-45fc-aee6-99cb139be7fb",
   "metadata": {},
   "outputs": [],
   "source": [
    "task_config = params.TRAIN.SINGLE_TASK\n",
    "task_id = task_config.TASK_ID\n",
    "batch_size = task_config.BATCH_SIZE\n",
    "shuffle = task_config.SHUFFLE"
   ]
  },
  {
   "cell_type": "code",
   "execution_count": 7,
   "id": "f02f64ae-edd3-45c9-83d9-08fbd5016f5b",
   "metadata": {},
   "outputs": [],
   "source": [
    "# val dataloader\n",
    "val_dataloader = create_dataloader(\n",
    "    task_id=task_id,\n",
    "    batch_size=batch_size,\n",
    "    split='val',\n",
    "    shuffle=shuffle,\n",
    "    params=params,\n",
    ")"
   ]
  },
  {
   "cell_type": "code",
   "execution_count": 8,
   "id": "b52374b6-9264-4658-891c-6021182e464a",
   "metadata": {},
   "outputs": [],
   "source": [
    "user = \"sm-data-science\"\n",
    "project = params.WANDB.INIT.project"
   ]
  },
  {
   "cell_type": "code",
   "execution_count": 9,
   "id": "762edf72-f6b9-4de0-8e02-5e51cc178a1d",
   "metadata": {},
   "outputs": [],
   "source": [
    "# load the best model\n",
    "api = wandb.Api()\n",
    "path = f'{user}/{project}'\n",
    "runs = api.runs(path=path)\n",
    "latest_run = runs[0]"
   ]
  },
  {
   "cell_type": "code",
   "execution_count": 10,
   "id": "5e3ceb95-c01a-4fa7-b984-1a45710d3145",
   "metadata": {},
   "outputs": [
    {
     "data": {
      "text/plain": [
       "'6gvcg0xa'"
      ]
     },
     "execution_count": 10,
     "metadata": {},
     "output_type": "execute_result"
    }
   ],
   "source": [
    "latest_run.id"
   ]
  },
  {
   "cell_type": "code",
   "execution_count": 11,
   "id": "e92a1ed3-36ce-4dea-ad75-c22e22fb27b3",
   "metadata": {},
   "outputs": [],
   "source": [
    "checkpoint_reference = \"sm-data-science/cephal-landmark-detection/model-6gvcg0xa:v2\""
   ]
  },
  {
   "cell_type": "code",
   "execution_count": 12,
   "id": "2319eb22-4f7e-41bf-b899-74f5995f914f",
   "metadata": {},
   "outputs": [],
   "source": [
    "artifact = api.artifact(checkpoint_reference)"
   ]
  },
  {
   "cell_type": "code",
   "execution_count": 13,
   "id": "4f5e3e8c-5e95-4ea5-a4b5-2cd895089a5b",
   "metadata": {},
   "outputs": [
    {
     "name": "stderr",
     "output_type": "stream",
     "text": [
      "\u001b[34m\u001b[1mwandb\u001b[0m:   1 of 1 files downloaded.  \n"
     ]
    }
   ],
   "source": [
    "artifact_dir = artifact.download()"
   ]
  },
  {
   "cell_type": "code",
   "execution_count": 14,
   "id": "27700e06-60fe-4d35-b58d-997c77cd02df",
   "metadata": {},
   "outputs": [
    {
     "data": {
      "text/plain": [
       "'./artifacts/model-6gvcg0xa:v2'"
      ]
     },
     "execution_count": 14,
     "metadata": {},
     "output_type": "execute_result"
    }
   ],
   "source": [
    "artifact_dir"
   ]
  },
  {
   "cell_type": "code",
   "execution_count": 15,
   "id": "7d3fd270-c6bd-41ef-b3d7-c60212705d3b",
   "metadata": {},
   "outputs": [
    {
     "name": "stdout",
     "output_type": "stream",
     "text": [
      "./artifacts/model-6gvcg0xa:v2/model.ckpt\n"
     ]
    }
   ],
   "source": [
    "checkpoint_path = artifact_dir+\"/model.ckpt\"\n",
    "print(checkpoint_path)"
   ]
  },
  {
   "cell_type": "markdown",
   "id": "835de696-5d97-4da0-8860-874cc4ea0c7b",
   "metadata": {},
   "source": [
    "### use a pytorch lighning module for model class mother"
   ]
  },
  {
   "cell_type": "markdown",
   "id": "e831b0a2-6de1-49ab-9cf8-7c5cc11c6c81",
   "metadata": {},
   "source": [
    "See the issue below for why a pytorch lightning model cannot be loaded from checkpoint with hparams saved\n",
    "and how to use pytorch lighning module to enable using a model that is defined outside a pl module.\n",
    "\n",
    "https://github.com/Lightning-AI/lightning/issues/3629#issue-707536217"
   ]
  },
  {
   "cell_type": "code",
   "execution_count": 16,
   "id": "e4a58eca-5cd3-4633-8a58-24cb54236f67",
   "metadata": {},
   "outputs": [
    {
     "name": "stderr",
     "output_type": "stream",
     "text": [
      "/home/samehr/Desktop/cephal/cvmt/venv/lib/python3.8/site-packages/pytorch_lightning/utilities/parsing.py:196: UserWarning: Attribute 'model' is an instance of `nn.Module` and is already saved during checkpointing. It is recommended to ignore them using `self.save_hyperparameters(ignore=['model'])`.\n",
      "  rank_zero_warn(\n"
     ]
    },
    {
     "name": "stdout",
     "output_type": "stream",
     "text": [
      "357.91337534914555\n",
      "382.03686157416655\n",
      "385.4165009602833\n",
      "382.36701108210025\n",
      "378.38431261992946\n",
      "372.00592946383875\n"
     ]
    }
   ],
   "source": [
    "use_pretrain = True\n",
    "\n",
    "model_params = params.MODEL.PARAMS\n",
    "model = MultiTaskLandmarkUNetCustom(**model_params)\n",
    "pl_model = SingletaskTrainLandmarks(model=model,)\n",
    "\n",
    "if use_pretrain:\n",
    "    model = pl_model.load_from_checkpoint(checkpoint_path,).model\n",
    "\n",
    "model.eval()\n",
    "model.double()\n",
    "\n",
    "for batch in val_dataloader:\n",
    "    images, labels = batch['image'], batch['v_landmarks']\n",
    "    task_id = 3\n",
    "    images.double()\n",
    "    # Pass images through the model\n",
    "    with torch.no_grad():\n",
    "        predictions = model(images, task_id=task_id)\n",
    "        \n",
    "    print(mean_radial_error(preds=predictions, targets=labels))"
   ]
  },
  {
   "cell_type": "code",
   "execution_count": 17,
   "id": "7ba4d1d6-5ab1-47e1-8338-d1bd02afd5b8",
   "metadata": {},
   "outputs": [
    {
     "name": "stdout",
     "output_type": "stream",
     "text": [
      "428.2069990576174\n",
      "418.47022914944444\n",
      "398.7372133209992\n",
      "412.6866796642769\n",
      "410.0188256831929\n",
      "364.20077849558703\n"
     ]
    }
   ],
   "source": [
    "use_pretrain = False\n",
    "\n",
    "model_params = params.MODEL.PARAMS\n",
    "model = MultiTaskLandmarkUNetCustom(**model_params)\n",
    "pl_model = SingletaskTrainLandmarks(\n",
    "    model=model,\n",
    ")\n",
    "\n",
    "if use_pretrain:\n",
    "    model = pl_model.load_from_checkpoint(checkpoint_path, ).model\n",
    "\n",
    "model.eval()\n",
    "model.double()\n",
    "\n",
    "for batch in val_dataloader:\n",
    "    images, labels = batch['image'], batch['v_landmarks']\n",
    "    task_id = 3\n",
    "    images.double()\n",
    "    # Pass images through the model\n",
    "    with torch.no_grad():\n",
    "        predictions = model(images, task_id=task_id)\n",
    "        \n",
    "    print(mean_radial_error(preds=predictions, targets=labels))"
   ]
  },
  {
   "cell_type": "markdown",
   "id": "f5bd5550-0898-4825-9537-168673aee6c7",
   "metadata": {},
   "source": [
    "## check data"
   ]
  },
  {
   "cell_type": "code",
   "execution_count": 18,
   "id": "050aed88-a724-493c-b800-651d09ca2b26",
   "metadata": {},
   "outputs": [],
   "source": [
    "for batch in val_dataloader:\n",
    "    images, labels = batch['image'], batch['v_landmarks']\n",
    "    break"
   ]
  },
  {
   "cell_type": "code",
   "execution_count": 19,
   "id": "efcca76e-24e8-4ef3-8954-bb2a18f708f7",
   "metadata": {},
   "outputs": [],
   "source": [
    "sample = images[0,...]"
   ]
  },
  {
   "cell_type": "code",
   "execution_count": 20,
   "id": "80ac32da-3ba3-44ed-aa11-9783cc0fc7ce",
   "metadata": {},
   "outputs": [
    {
     "data": {
      "text/plain": [
       "torch.Size([1, 256, 256])"
      ]
     },
     "execution_count": 20,
     "metadata": {},
     "output_type": "execute_result"
    }
   ],
   "source": [
    "sample.shape"
   ]
  },
  {
   "cell_type": "code",
   "execution_count": 21,
   "id": "d5680363-d5c3-41ed-97dd-95de23b5df5b",
   "metadata": {},
   "outputs": [
    {
     "data": {
      "text/plain": [
       "tensor(83.6887, dtype=torch.float64)"
      ]
     },
     "execution_count": 21,
     "metadata": {},
     "output_type": "execute_result"
    }
   ],
   "source": [
    "sample.mean()"
   ]
  },
  {
   "cell_type": "code",
   "execution_count": 22,
   "id": "a05154f4-e0fc-4776-87d2-69f1b559a790",
   "metadata": {},
   "outputs": [
    {
     "data": {
      "text/plain": [
       "tensor(40.9124, dtype=torch.float64)"
      ]
     },
     "execution_count": 22,
     "metadata": {},
     "output_type": "execute_result"
    }
   ],
   "source": [
    "sample.std()"
   ]
  },
  {
   "cell_type": "code",
   "execution_count": null,
   "id": "2b55d874-dbdb-4bd9-a381-c3804ec89412",
   "metadata": {},
   "outputs": [],
   "source": []
  }
 ],
 "metadata": {
  "kernelspec": {
   "display_name": "Python 3 (ipykernel)",
   "language": "python",
   "name": "python3"
  },
  "language_info": {
   "codemirror_mode": {
    "name": "ipython",
    "version": 3
   },
   "file_extension": ".py",
   "mimetype": "text/x-python",
   "name": "python",
   "nbconvert_exporter": "python",
   "pygments_lexer": "ipython3",
   "version": "3.8.10"
  }
 },
 "nbformat": 4,
 "nbformat_minor": 5
}
