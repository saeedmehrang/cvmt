{
 "cells": [
  {
   "cell_type": "code",
   "execution_count": 1,
   "id": "e478cbbb-9d4b-4a07-b08f-a98a37b95794",
   "metadata": {},
   "outputs": [],
   "source": [
    "DATASET = \"dataset_2\""
   ]
  },
  {
   "cell_type": "markdown",
   "id": "1f3eedd3-76bc-44e4-b502-2c5c6fabe394",
   "metadata": {},
   "source": [
    "# Introduction and objective\n",
    "\n",
    "In this notebooks we would like to read the image and annotations data of dataset 1 and save them into a high performance data structure which allows fast write/read at the time of training a deep neural network"
   ]
  },
  {
   "cell_type": "code",
   "execution_count": 2,
   "id": "f762a514-baa5-4bf8-8a2b-651e3090a606",
   "metadata": {},
   "outputs": [],
   "source": [
    "%load_ext autoreload\n",
    "%autoreload 2"
   ]
  },
  {
   "cell_type": "code",
   "execution_count": 3,
   "id": "3479f9fb-8713-48a3-9b7c-a13f00d3b66f",
   "metadata": {},
   "outputs": [],
   "source": [
    "import json\n",
    "import os\n",
    "import yaml\n",
    "import shutil\n",
    "import glob\n",
    "from typing import List, Dict, Tuple, Union, Any\n",
    "from numbers import Number\n",
    "import h5py\n",
    "from PIL import Image\n",
    "import numpy as np\n",
    "import pandas as pd"
   ]
  },
  {
   "cell_type": "code",
   "execution_count": 4,
   "id": "2911d77e-3e04-4810-8032-6a76c5c405cd",
   "metadata": {},
   "outputs": [],
   "source": [
    "from utils import harmonize_hdf5, read_harmonized_hdf5"
   ]
  },
  {
   "cell_type": "markdown",
   "id": "28fd6cbe-4cb3-4387-91ff-36a5a066f2e1",
   "metadata": {},
   "source": [
    "## current directory"
   ]
  },
  {
   "cell_type": "code",
   "execution_count": 5,
   "id": "d7de3874-4525-41c8-b73b-3f6f5bc711d6",
   "metadata": {},
   "outputs": [
    {
     "name": "stdout",
     "output_type": "stream",
     "text": [
      "/home/samehr/Desktop/cephal/cvmt/notebooks/prep_intermediate\n"
     ]
    }
   ],
   "source": [
    "print(os.getcwd())"
   ]
  },
  {
   "cell_type": "markdown",
   "id": "eb11444b-546b-441a-942d-ec61868bdc54",
   "metadata": {},
   "source": [
    "## load parameters"
   ]
  },
  {
   "cell_type": "code",
   "execution_count": 6,
   "id": "6f89b419-1157-4fab-bcda-f0cedbdf51a0",
   "metadata": {},
   "outputs": [],
   "source": [
    "with open(\"../../code_configs/params.yaml\") as f:\n",
    "    params = yaml.safe_load(f)"
   ]
  },
  {
   "cell_type": "code",
   "execution_count": 7,
   "id": "333f7b0c-0f14-4181-8d7f-5bd62157867a",
   "metadata": {},
   "outputs": [
    {
     "name": "stdout",
     "output_type": "stream",
     "text": [
      "{'RAW_DATA_DIRECTORY': '../../data/raw', 'INTERMEDIATE_DATA_DIRECTORY': '../../data/intermediate', 'PRIMARY_DATA_DIRECTORY': '../../data/primary', 'DATASET_1_RAW_ZIP_FILE_NAME': 'radiography-20221212T190109Z-001.zip', 'DATASET_1_RAW_ZIP_NEW_ANNOT_FILE_NAME': 'label_edited-20230122T143005Z-001.zip', 'DATASET_1_INTERMEDIATE_DIR_NAME': 'dataset_1', 'DATASET_1_UNWANTED_JSON_FIELDS': ['imageData'], 'DATASET_3_RAW_RAR_FILE_NAME': 'RawImage.rar', 'DATASET_3_RAW_DIR_NAME_TEMP': 'dataset_3_bmp', 'DATASET_3_RAW_DIR_NAME': 'dataset_3_raw_data', 'UNWANTED_JSON_FIELDS': ['imageData', 'imagePath'], 'DATASET_1_INTERM_DIR_NAME': 'dataset_1_interm_data-20230304T160341Z-001', 'DATASET_1_INTERM_IMG_DIR_NAME': ['image'], 'DATASET_1_INTERM_V_LANDMARKS_DIR_NAME': ['label'], 'DATASET_1_INTERM_F_LANDMARKS_DIR_NAME': None, 'DATASET_2_INTERM_DIR_NAME': 'dataset_2_interm_data-20230304T160421Z-001', 'DATASET_2_INTERM_IMG_DIR_NAME': ['image'], 'DATASET_2_INTERM_V_LANDMARKS_DIR_NAME': ['label'], 'DATASET_2_INTERM_F_LANDMARKS_DIR_NAME': None, 'DATASET_3_INTERM_DIR_NAME': 'dataset_3_interm_data-20230304T160433Z-001', 'DATASET_3_INTERM_IMG_DIR_NAME': ['training/image', 'test1/image', 'test2/image'], 'DATASET_3_INTERM_V_LANDMARKS_DIR_NAME': ['training/label', 'test1/label', 'test2/label'], 'DATASET_3_INTERM_F_LANDMARKS_DIR_NAME': 'AnnotationsByMD/400_senior'}\n"
     ]
    }
   ],
   "source": [
    "print(params)"
   ]
  },
  {
   "cell_type": "code",
   "execution_count": 8,
   "id": "50adacf4-d7cf-4085-b779-57af75c1c384",
   "metadata": {},
   "outputs": [],
   "source": [
    "metadata = []\n",
    "\n",
    "for i in range(len(params['DATASET_2_INTERM_IMG_DIR_NAME'])):\n",
    "    # create the directory paths\n",
    "    img_foldername = params['DATASET_2_INTERM_IMG_DIR_NAME'][i]\n",
    "    image_dir = os.path.join(\n",
    "        params['INTERMEDIATE_DATA_DIRECTORY'],\n",
    "        params['DATASET_2_INTERM_DIR_NAME'],\n",
    "        img_foldername,\n",
    "    )\n",
    "    v_landmarks_foldername = params['DATASET_2_INTERM_V_LANDMARKS_DIR_NAME'][i]\n",
    "    v_landmarks_dir = os.path.join(\n",
    "        params['INTERMEDIATE_DATA_DIRECTORY'],\n",
    "        params['DATASET_2_INTERM_DIR_NAME'],\n",
    "        v_landmarks_foldername,\n",
    "    )\n",
    "\n",
    "    f_landmarks_dir = None\n",
    "    if params['DATASET_2_INTERM_F_LANDMARKS_DIR_NAME'] is not None:\n",
    "        f_landmarks_dir = os.path.join(\n",
    "            params['INTERMEDIATE_DATA_DIRECTORY'],\n",
    "            params['DATASET_2_INTERM_DIR_NAME'],\n",
    "            params['DATASET_2_INTERM_F_LANDMARKS_DIR_NAME'],\n",
    "        )\n",
    "\n",
    "    # parse the directory\n",
    "    image_filenames = os.listdir(image_dir)\n",
    "    \n",
    "    # harmonize all the images and annotations\n",
    "    if len(params['DATASET_2_INTERM_IMG_DIR_NAME']) > 1:\n",
    "        dev_set = img_foldername.split('/')[0]\n",
    "    else:\n",
    "        dev_set = None\n",
    "    # Traverse the images and harmonize them one by one\n",
    "    for image_filename in image_filenames:\n",
    "        harmonized_id, v_landmarks_present, f_landmarks_present = harmonize_hdf5(\n",
    "            image_filename=image_filename,\n",
    "            image_dir=image_dir,\n",
    "            v_annot_dir=v_landmarks_dir,\n",
    "            f_annot_dir=f_landmarks_dir,\n",
    "        )\n",
    "        metadata.append(\n",
    "            {\n",
    "                'source_image_filename': image_filename,\n",
    "                'harmonized_id': harmonized_id,\n",
    "                'dataset': DATASET,\n",
    "                'dev_set': dev_set,\n",
    "                'v_annots_present': v_landmarks_present,\n",
    "                'f_annots_present': f_landmarks_present,\n",
    "            }\n",
    "        )\n",
    "\n",
    "metadata = pd.DataFrame(metadata)"
   ]
  },
  {
   "cell_type": "markdown",
   "id": "39c38f63-681f-42f8-9a06-2c321d681299",
   "metadata": {},
   "source": [
    "### write the metadata table to disk"
   ]
  },
  {
   "cell_type": "code",
   "execution_count": 9,
   "id": "04dc4549-b1ce-4cd7-8c62-9a6dd43cddcf",
   "metadata": {},
   "outputs": [],
   "source": [
    "metadata.to_hdf(\n",
    "    os.path.join(params['PRIMARY_DATA_DIRECTORY'], 'metadata.hdf5'),\n",
    "    key='df',\n",
    "    index=False,\n",
    "    mode='a',\n",
    "    append=True,\n",
    "    format='table',\n",
    ")"
   ]
  },
  {
   "cell_type": "markdown",
   "id": "a3921d79-c6bf-4551-ab6a-535c0a1427bd",
   "metadata": {},
   "source": [
    "## sanity check some of them"
   ]
  },
  {
   "cell_type": "code",
   "execution_count": 10,
   "id": "6109f666-bf24-4a35-ae56-baebca0ca62c",
   "metadata": {
    "tags": []
   },
   "outputs": [
    {
     "name": "stdout",
     "output_type": "stream",
     "text": [
      "6b6eb1ef2f932309f31699914007ba0e39a36318977367bca5a875dfb1697aaa.hdf5\n",
      "image.shape  (1940, 1256)\n",
      "vertebrate_ids:  ['2', '3', '4']\n",
      "vertebral landmarks:  [array([[ 141, 1314],\n",
      "       [ 166, 1315],\n",
      "       [ 222, 1355]]), array([[ 143, 1339],\n",
      "       [ 103, 1431],\n",
      "       [ 128, 1435],\n",
      "       [ 184, 1478],\n",
      "       [ 212, 1385]]), array([[ 100, 1460],\n",
      "       [  52, 1549],\n",
      "       [  86, 1561],\n",
      "       [ 133, 1597],\n",
      "       [ 169, 1510]])]\n",
      "facial landmarks:  None\n",
      "\n",
      "0c2430029f8d223ba4a7e4db3692cff160b29bb4678a97b0d3e86c2e22efe12e.hdf5\n",
      "image.shape  (2600, 1696, 3)\n",
      "vertebrate_ids:  ['2', '3', '4']\n",
      "vertebral landmarks:  [array([[ 189, 1922],\n",
      "       [ 272, 1926],\n",
      "       [ 302, 1954]]), array([[ 148, 2070],\n",
      "       [ 237, 2097],\n",
      "       [ 264, 2126],\n",
      "       [ 297, 1997],\n",
      "       [ 191, 1937]]), array([[  83, 2210],\n",
      "       [ 162, 2237],\n",
      "       [ 194, 2285],\n",
      "       [ 245, 2166],\n",
      "       [ 151, 2093]])]\n",
      "facial landmarks:  None\n",
      "\n",
      "753790f56c2e488b26711c710dfab3e078fad0f3076a8ba7855f1825b44ce250.hdf5\n",
      "image.shape  (2600, 1680, 3)\n",
      "vertebrate_ids:  ['2', '3', '4']\n",
      "vertebral landmarks:  [array([[ 180, 1916],\n",
      "       [ 217, 1910],\n",
      "       [ 293, 1940]]), array([[ 183, 1937],\n",
      "       [ 166, 2054],\n",
      "       [ 203, 2053],\n",
      "       [ 283, 2085],\n",
      "       [ 297, 2006]]), array([[ 166, 2087],\n",
      "       [ 142, 2204],\n",
      "       [ 178, 2207],\n",
      "       [ 260, 2230],\n",
      "       [ 276, 2154]])]\n",
      "facial landmarks:  None\n",
      "\n",
      "92db2ebc862c97c0bdb3009fce7d3df5f7850c013c68baf9cf1e4fa9d820a7d4.hdf5\n",
      "image.shape  (1940, 1255)\n",
      "vertebrate_ids:  ['2', '3', '4']\n",
      "vertebral landmarks:  [array([[ 154, 1464],\n",
      "       [ 197, 1460],\n",
      "       [ 254, 1508]]), array([[ 161, 1486],\n",
      "       [ 119, 1599],\n",
      "       [ 162, 1598],\n",
      "       [ 217, 1641],\n",
      "       [ 252, 1541]]), array([[ 118, 1617],\n",
      "       [  70, 1731],\n",
      "       [ 115, 1729],\n",
      "       [ 176, 1768],\n",
      "       [ 209, 1677]])]\n",
      "facial landmarks:  None\n",
      "\n",
      "5a9aa83a482c63bd9a24b56d9964c16bf2f2bfb5ea5809f36213d21316e2c404.hdf5\n",
      "image.shape  (1940, 1256)\n",
      "vertebrate_ids:  ['2', '3', '4']\n",
      "vertebral landmarks:  [array([[ 169, 1406],\n",
      "       [ 194, 1396],\n",
      "       [ 270, 1426]]), array([[ 175, 1433],\n",
      "       [ 180, 1540],\n",
      "       [ 206, 1530],\n",
      "       [ 273, 1553],\n",
      "       [ 273, 1458]]), array([[ 175, 1562],\n",
      "       [ 172, 1660],\n",
      "       [ 197, 1654],\n",
      "       [ 259, 1680],\n",
      "       [ 270, 1582]])]\n",
      "facial landmarks:  None\n",
      "\n",
      "2e6884a649676ce53e00f59d8c0442482775b2bf4958ad319caedaa97b7b6c33.hdf5\n",
      "image.shape  (1940, 1256)\n",
      "vertebrate_ids:  None\n",
      "vertebral landmarks:  None\n",
      "facial landmarks:  None\n",
      "\n",
      "9f4ae1eb3e2bbba78dfbcf61010e806b1b17347c2073c0a8fdd283cb6d56a25f.hdf5\n",
      "image.shape  (1940, 1256)\n",
      "vertebrate_ids:  ['2', '3', '4']\n",
      "vertebral landmarks:  [array([[ 115, 1460],\n",
      "       [ 156, 1467],\n",
      "       [ 195, 1509]]), array([[  60, 1574],\n",
      "       [ 115, 1585],\n",
      "       [ 145, 1629],\n",
      "       [ 176, 1529],\n",
      "       [ 102, 1476]]), array([[   9, 1687],\n",
      "       [  70, 1705],\n",
      "       [  97, 1743],\n",
      "       [ 128, 1658],\n",
      "       [  54, 1588]])]\n",
      "facial landmarks:  None\n",
      "\n",
      "46f50ffe4249f374371f7c56eb8d53852ac30515f8561bcd4efac0289e112b40.hdf5\n",
      "image.shape  (1940, 1256)\n",
      "vertebrate_ids:  None\n",
      "vertebral landmarks:  None\n",
      "facial landmarks:  None\n",
      "\n"
     ]
    }
   ],
   "source": [
    "i = 0\n",
    "harmonized_ids = metadata.loc[metadata['dataset'] == DATASET,['harmonized_id']].to_numpy().ravel()\n",
    "for harmonized_id in harmonized_ids:\n",
    "    if i % 10 == 0:\n",
    "        filename = harmonized_id+'.hdf5'\n",
    "        image, v_landmarks, f_landmarks = read_harmonized_hdf5(\n",
    "            h5py_filename=filename,\n",
    "        )\n",
    "        print(filename)\n",
    "        print(\"image.shape \", image.shape)\n",
    "        print(\"vertebrate_ids: \", v_landmarks['vertebrate_ids'])\n",
    "        print(\"vertebral landmarks: \", v_landmarks['v_landmarks'])\n",
    "        print(\"facial landmarks: \", f_landmarks['f_landmarks'])\n",
    "        print()\n",
    "    i += 1"
   ]
  },
  {
   "cell_type": "code",
   "execution_count": 11,
   "id": "06d7310a-1c74-4bea-9ecb-b762db87bdbf",
   "metadata": {},
   "outputs": [],
   "source": [
    "metadata_table = pd.read_hdf(\n",
    "    os.path.join(params['PRIMARY_DATA_DIRECTORY'], 'metadata.hdf5'),\n",
    "    key='df',\n",
    ")"
   ]
  },
  {
   "cell_type": "code",
   "execution_count": 12,
   "id": "8b7215c8-8033-40dd-baeb-2e6c3d86b376",
   "metadata": {},
   "outputs": [
    {
     "data": {
      "text/html": [
       "<div>\n",
       "<style scoped>\n",
       "    .dataframe tbody tr th:only-of-type {\n",
       "        vertical-align: middle;\n",
       "    }\n",
       "\n",
       "    .dataframe tbody tr th {\n",
       "        vertical-align: top;\n",
       "    }\n",
       "\n",
       "    .dataframe thead th {\n",
       "        text-align: right;\n",
       "    }\n",
       "</style>\n",
       "<table border=\"1\" class=\"dataframe\">\n",
       "  <thead>\n",
       "    <tr style=\"text-align: right;\">\n",
       "      <th></th>\n",
       "      <th>source_image_filename</th>\n",
       "      <th>harmonized_id</th>\n",
       "      <th>dataset</th>\n",
       "      <th>dev_set</th>\n",
       "      <th>v_annots_present</th>\n",
       "      <th>f_annots_present</th>\n",
       "    </tr>\n",
       "  </thead>\n",
       "  <tbody>\n",
       "    <tr>\n",
       "      <th>0</th>\n",
       "      <td>45.jpg</td>\n",
       "      <td>71657ae53721e50ca772d387bd284b4dd58247893bdf4a...</td>\n",
       "      <td>dataset_1</td>\n",
       "      <td>NaN</td>\n",
       "      <td>True</td>\n",
       "      <td>False</td>\n",
       "    </tr>\n",
       "    <tr>\n",
       "      <th>1</th>\n",
       "      <td>92.jpg</td>\n",
       "      <td>9b252d975480242e836e274ae0e6204e84a7f0f524666c...</td>\n",
       "      <td>dataset_1</td>\n",
       "      <td>NaN</td>\n",
       "      <td>True</td>\n",
       "      <td>False</td>\n",
       "    </tr>\n",
       "    <tr>\n",
       "      <th>2</th>\n",
       "      <td>43.jpg</td>\n",
       "      <td>5ea321c4f7f4aa923eb7a41f73f356a9bb3162da92a632...</td>\n",
       "      <td>dataset_1</td>\n",
       "      <td>NaN</td>\n",
       "      <td>True</td>\n",
       "      <td>False</td>\n",
       "    </tr>\n",
       "    <tr>\n",
       "      <th>3</th>\n",
       "      <td>7.jpg</td>\n",
       "      <td>4d97e213be2aeabc3e45d9d36eb0a82df8b48d93f9ee6a...</td>\n",
       "      <td>dataset_1</td>\n",
       "      <td>NaN</td>\n",
       "      <td>True</td>\n",
       "      <td>False</td>\n",
       "    </tr>\n",
       "    <tr>\n",
       "      <th>4</th>\n",
       "      <td>121.jpg</td>\n",
       "      <td>b0a2bcc695bf95ab5e88953a753b33446930251b80cced...</td>\n",
       "      <td>dataset_1</td>\n",
       "      <td>NaN</td>\n",
       "      <td>True</td>\n",
       "      <td>False</td>\n",
       "    </tr>\n",
       "  </tbody>\n",
       "</table>\n",
       "</div>"
      ],
      "text/plain": [
       "  source_image_filename                                      harmonized_id  \\\n",
       "0                45.jpg  71657ae53721e50ca772d387bd284b4dd58247893bdf4a...   \n",
       "1                92.jpg  9b252d975480242e836e274ae0e6204e84a7f0f524666c...   \n",
       "2                43.jpg  5ea321c4f7f4aa923eb7a41f73f356a9bb3162da92a632...   \n",
       "3                 7.jpg  4d97e213be2aeabc3e45d9d36eb0a82df8b48d93f9ee6a...   \n",
       "4               121.jpg  b0a2bcc695bf95ab5e88953a753b33446930251b80cced...   \n",
       "\n",
       "     dataset dev_set  v_annots_present  f_annots_present  \n",
       "0  dataset_1     NaN              True             False  \n",
       "1  dataset_1     NaN              True             False  \n",
       "2  dataset_1     NaN              True             False  \n",
       "3  dataset_1     NaN              True             False  \n",
       "4  dataset_1     NaN              True             False  "
      ]
     },
     "execution_count": 12,
     "metadata": {},
     "output_type": "execute_result"
    }
   ],
   "source": [
    "metadata_table.head()"
   ]
  },
  {
   "cell_type": "code",
   "execution_count": 13,
   "id": "847cfc5c-d323-4847-bdc9-19222afebd23",
   "metadata": {},
   "outputs": [
    {
     "data": {
      "text/plain": [
       "(221, 6)"
      ]
     },
     "execution_count": 13,
     "metadata": {},
     "output_type": "execute_result"
    }
   ],
   "source": [
    "metadata_table.shape"
   ]
  },
  {
   "cell_type": "code",
   "execution_count": 14,
   "id": "02a2e0fe-ef5b-4286-b44d-e58810c72449",
   "metadata": {},
   "outputs": [
    {
     "data": {
      "text/html": [
       "<div>\n",
       "<style scoped>\n",
       "    .dataframe tbody tr th:only-of-type {\n",
       "        vertical-align: middle;\n",
       "    }\n",
       "\n",
       "    .dataframe tbody tr th {\n",
       "        vertical-align: top;\n",
       "    }\n",
       "\n",
       "    .dataframe thead th {\n",
       "        text-align: right;\n",
       "    }\n",
       "</style>\n",
       "<table border=\"1\" class=\"dataframe\">\n",
       "  <thead>\n",
       "    <tr style=\"text-align: right;\">\n",
       "      <th></th>\n",
       "      <th>source_image_filename</th>\n",
       "      <th>harmonized_id</th>\n",
       "      <th>dataset</th>\n",
       "      <th>dev_set</th>\n",
       "      <th>v_annots_present</th>\n",
       "      <th>f_annots_present</th>\n",
       "    </tr>\n",
       "  </thead>\n",
       "  <tbody>\n",
       "    <tr>\n",
       "      <th>count</th>\n",
       "      <td>221</td>\n",
       "      <td>221</td>\n",
       "      <td>221</td>\n",
       "      <td>0</td>\n",
       "      <td>221</td>\n",
       "      <td>221</td>\n",
       "    </tr>\n",
       "    <tr>\n",
       "      <th>unique</th>\n",
       "      <td>221</td>\n",
       "      <td>221</td>\n",
       "      <td>2</td>\n",
       "      <td>0</td>\n",
       "      <td>2</td>\n",
       "      <td>1</td>\n",
       "    </tr>\n",
       "    <tr>\n",
       "      <th>top</th>\n",
       "      <td>45.jpg</td>\n",
       "      <td>71657ae53721e50ca772d387bd284b4dd58247893bdf4a...</td>\n",
       "      <td>dataset_1</td>\n",
       "      <td>NaN</td>\n",
       "      <td>True</td>\n",
       "      <td>False</td>\n",
       "    </tr>\n",
       "    <tr>\n",
       "      <th>freq</th>\n",
       "      <td>1</td>\n",
       "      <td>1</td>\n",
       "      <td>142</td>\n",
       "      <td>NaN</td>\n",
       "      <td>200</td>\n",
       "      <td>221</td>\n",
       "    </tr>\n",
       "  </tbody>\n",
       "</table>\n",
       "</div>"
      ],
      "text/plain": [
       "       source_image_filename  \\\n",
       "count                    221   \n",
       "unique                   221   \n",
       "top                   45.jpg   \n",
       "freq                       1   \n",
       "\n",
       "                                            harmonized_id    dataset dev_set  \\\n",
       "count                                                 221        221       0   \n",
       "unique                                                221          2       0   \n",
       "top     71657ae53721e50ca772d387bd284b4dd58247893bdf4a...  dataset_1     NaN   \n",
       "freq                                                    1        142     NaN   \n",
       "\n",
       "       v_annots_present f_annots_present  \n",
       "count               221              221  \n",
       "unique                2                1  \n",
       "top                True            False  \n",
       "freq                200              221  "
      ]
     },
     "execution_count": 14,
     "metadata": {},
     "output_type": "execute_result"
    }
   ],
   "source": [
    "metadata_table.describe()"
   ]
  }
 ],
 "metadata": {
  "kernelspec": {
   "display_name": "Python 3 (ipykernel)",
   "language": "python",
   "name": "python3"
  },
  "language_info": {
   "codemirror_mode": {
    "name": "ipython",
    "version": 3
   },
   "file_extension": ".py",
   "mimetype": "text/x-python",
   "name": "python",
   "nbconvert_exporter": "python",
   "pygments_lexer": "ipython3",
   "version": "3.8.0"
  }
 },
 "nbformat": 4,
 "nbformat_minor": 5
}
