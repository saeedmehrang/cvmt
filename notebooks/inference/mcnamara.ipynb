{
 "cells": [
  {
   "cell_type": "code",
   "execution_count": 1,
   "id": "33bf9cf4-0ac1-40b4-b85a-87212eda5d47",
   "metadata": {},
   "outputs": [],
   "source": [
    "%load_ext autoreload\n",
    "%autoreload 2"
   ]
  },
  {
   "cell_type": "code",
   "execution_count": 2,
   "id": "9bf5af60-490f-4395-b7e9-e6a4f23ad56e",
   "metadata": {},
   "outputs": [
    {
     "name": "stderr",
     "output_type": "stream",
     "text": [
      "/home/samehr/miniconda3/envs/cephal/lib/python3.10/site-packages/tqdm/auto.py:21: TqdmWarning: IProgress not found. Please update jupyter and ipywidgets. See https://ipywidgets.readthedocs.io/en/stable/user_install.html\n",
      "  from .autonotebook import tqdm as notebook_tqdm\n"
     ]
    }
   ],
   "source": [
    "import os\n",
    "import sys\n",
    "\n",
    "import wandb\n",
    "from easydict import EasyDict\n",
    "from cvmt.utils import (load_yaml_params, nested_dict_to_easydict)\n",
    "\n",
    "from cvmt.inference.inference import (load_pretrained_model_eval_mode, predict_image,\n",
    "                                      img_coord_2_cartesian_coord, translate_landmarks,\n",
    "                                      rotate_landmarks, plot_landmarks,\n",
    "                                      classify_by_mcnamara_and_franchi,\n",
    "                                      plot_image_and_vertebral_landmarks,\n",
    "                                     )\n",
    "from cvmt.ml.utils import download_wandb_model_checkpoint\n",
    "\n",
    "import torch\n",
    "from typing import *\n",
    "import numpy as np\n",
    "import pandas as pd\n",
    "import random\n",
    "\n",
    "from PIL import Image\n",
    "\n",
    "import glob\n"
   ]
  },
  {
   "cell_type": "code",
   "execution_count": 3,
   "id": "a1704890-9ca4-4409-ad97-eefd6ab9113f",
   "metadata": {},
   "outputs": [],
   "source": [
    "os.chdir(\"../../\")"
   ]
  },
  {
   "cell_type": "code",
   "execution_count": 4,
   "id": "67566e2a-6da9-4637-9f3b-0884093ab16f",
   "metadata": {},
   "outputs": [],
   "source": [
    "!source configs/.env"
   ]
  },
  {
   "cell_type": "markdown",
   "id": "468f014a-b3e2-45fc-973c-fc2e0b613c35",
   "metadata": {},
   "source": [
    "## Read params"
   ]
  },
  {
   "cell_type": "code",
   "execution_count": 5,
   "id": "37e31bd3-0b67-4496-9f22-22797c941d2f",
   "metadata": {},
   "outputs": [],
   "source": [
    "CONFIG_PARAMS_PATH = \"configs/params.yaml\""
   ]
  },
  {
   "cell_type": "code",
   "execution_count": 6,
   "id": "396555ab-9a4c-4117-8d5a-4b67e4b51c87",
   "metadata": {},
   "outputs": [],
   "source": [
    "params: EasyDict = nested_dict_to_easydict(\n",
    "    load_yaml_params(CONFIG_PARAMS_PATH)\n",
    ")"
   ]
  },
  {
   "cell_type": "markdown",
   "id": "7b0f0a9c-29b8-4b12-9d3d-9068ac4e1f01",
   "metadata": {},
   "source": [
    "## Download the checkpoint of the model"
   ]
  },
  {
   "cell_type": "code",
   "execution_count": 7,
   "id": "b40ea349-c089-4176-8894-d209b9285da6",
   "metadata": {},
   "outputs": [
    {
     "name": "stderr",
     "output_type": "stream",
     "text": [
      "\u001b[34m\u001b[1mwandb\u001b[0m: Downloading large artifact model-lmbw0bqa:v69, 100.36MB. 1 files... \n",
      "\u001b[34m\u001b[1mwandb\u001b[0m:   1 of 1 files downloaded.  \n",
      "Done. 0:0:0.4\n"
     ]
    },
    {
     "name": "stdout",
     "output_type": "stream",
     "text": [
      "./artifacts/model-lmbw0bqa:v69/model.ckpt\n"
     ]
    }
   ],
   "source": [
    "checkpoint_path, model_id = download_wandb_model_checkpoint(\n",
    "    wandb_checkpoint_uri= params.VERIFY.WANDB_CHECKPOINT_REFERENCE_NAME\n",
    ")\n",
    "print(checkpoint_path)"
   ]
  },
  {
   "cell_type": "markdown",
   "id": "3147812f-dcad-4b28-902f-dd6563f2e31e",
   "metadata": {},
   "source": [
    "## Load Model"
   ]
  },
  {
   "cell_type": "code",
   "execution_count": 8,
   "id": "b5ecb1f7-7d14-4193-b040-bd1a92953822",
   "metadata": {},
   "outputs": [],
   "source": [
    "use_pretrain = True\n",
    "\n",
    "task_config = params.TRAIN.V_LANDMARK_TASK\n",
    "task_id = task_config.TASK_ID\n",
    "\n",
    "loss_name = params.TRAIN.LOSS_NAME\n",
    "model_params = params.MODEL.PARAMS\n",
    "transforms_params = params.INFERENCE.TRANSFORMS\n",
    "\n",
    "mcnamara_args = params.INFERENCE.MCNAMARA.ARGS\n",
    "concavity_thresh = mcnamara_args.concavity_thresh\n",
    "ant_pos_thresh = mcnamara_args.ant_pos_thresh\n",
    "sup_inf_thresh = mcnamara_args.sup_inf_thresh\n",
    "rect_thresh_min = mcnamara_args.rect_thresh_min\n",
    "rect_thresh_max = mcnamara_args.rect_thresh_max"
   ]
  },
  {
   "cell_type": "code",
   "execution_count": 9,
   "id": "1470a998-ae82-4b8e-8665-ec27f7a5e40a",
   "metadata": {},
   "outputs": [
    {
     "data": {
      "text/plain": [
       "{'concavity_thresh': 1.0,\n",
       " 'ant_pos_thresh': 0.95,\n",
       " 'sup_inf_thresh': 0.95,\n",
       " 'rect_thresh_min': 0.95,\n",
       " 'rect_thresh_max': 1.05}"
      ]
     },
     "execution_count": 9,
     "metadata": {},
     "output_type": "execute_result"
    }
   ],
   "source": [
    "mcnamara_args"
   ]
  },
  {
   "cell_type": "code",
   "execution_count": 10,
   "id": "d692dbdf-82c1-458d-93b5-0b986d871076",
   "metadata": {
    "scrolled": true,
    "tags": []
   },
   "outputs": [
    {
     "name": "stderr",
     "output_type": "stream",
     "text": [
      "/home/samehr/miniconda3/envs/cephal/lib/python3.10/site-packages/pytorch_lightning/utilities/parsing.py:197: UserWarning: Attribute 'model' is an instance of `nn.Module` and is already saved during checkpointing. It is recommended to ignore them using `self.save_hyperparameters(ignore=['model'])`.\n",
      "  rank_zero_warn(\n"
     ]
    }
   ],
   "source": [
    "model, device = load_pretrained_model_eval_mode(\n",
    "    model_params=model_params,\n",
    "    use_pretrain=use_pretrain,\n",
    "    checkpoint_path=checkpoint_path,\n",
    "    task_id=task_id,\n",
    "    loss_name=loss_name,\n",
    ")"
   ]
  },
  {
   "cell_type": "markdown",
   "id": "6ccbba4e-5aa0-4eba-9ab1-6f1573535eee",
   "metadata": {},
   "source": [
    "## Load the table for pixel to cm ratios"
   ]
  },
  {
   "cell_type": "code",
   "execution_count": 11,
   "id": "8e249942-400a-47d3-b061-e4bbd88d8268",
   "metadata": {},
   "outputs": [],
   "source": [
    "pixel_to_cm_ratio_table = pd.read_csv(\n",
    "    \"data/test_dataset/pixel_to_cm_ratios.csv\",\n",
    "    delimiter=\";\",\n",
    "    header=None,\n",
    "    names=['ratio'],\n",
    ")\n",
    "\n",
    "pixel_to_cm_ratio_table['filename'] = [str(i)+'.jpg' for i in np.arange(1, len(pixel_to_cm_ratio_table)+1)]"
   ]
  },
  {
   "cell_type": "markdown",
   "id": "b41e57b4-7701-4474-b6f1-e668c80ab810",
   "metadata": {},
   "source": [
    "## Load input and pass to model"
   ]
  },
  {
   "cell_type": "code",
   "execution_count": 12,
   "id": "7041e469-73dd-4e2f-aa8e-a5121e5d77c5",
   "metadata": {},
   "outputs": [],
   "source": [
    "img_dir = \"data/test_dataset\"\n",
    "stages = []\n",
    "\n",
    "for row in pixel_to_cm_ratio_table.to_dict('records'):\n",
    "    # read the pixel to cm ratio and the filename\n",
    "    pixel_to_cm_ratio = row['ratio']\n",
    "    filename = row['filename']\n",
    "    # open the image\n",
    "    image = Image.open(os.path.join(img_dir, filename))\n",
    "    # get the landmarks using the model\n",
    "    rescaled_landmarks_coords = predict_image(\n",
    "        image=image,\n",
    "        model=model,\n",
    "        task_id=task_id,\n",
    "        transforms_params=transforms_params,\n",
    "        device=device,\n",
    "    )\n",
    "    # get the bine age maturity class\n",
    "    stage = classify_by_mcnamara_and_franchi(\n",
    "        rescaled_landmarks_coords,\n",
    "        pixel_to_cm_ratio,\n",
    "        concavity_thresh,\n",
    "        ant_pos_thresh,\n",
    "        sup_inf_thresh,\n",
    "        rect_thresh_min,\n",
    "        rect_thresh_max,\n",
    "    )\n",
    "    # store in a list\n",
    "    stages.append(\n",
    "        {\n",
    "            'filename': filename,\n",
    "            'stage': stage,\n",
    "        }\n",
    "    )\n",
    "\n",
    "\n",
    "stages = pd.DataFrame(stages)"
   ]
  },
  {
   "cell_type": "code",
   "execution_count": 13,
   "id": "e31a1e81-16c0-4e8b-ae1d-7d18781811bc",
   "metadata": {
    "scrolled": true,
    "tags": []
   },
   "outputs": [
    {
     "data": {
      "text/html": [
       "<div>\n",
       "<style scoped>\n",
       "    .dataframe tbody tr th:only-of-type {\n",
       "        vertical-align: middle;\n",
       "    }\n",
       "\n",
       "    .dataframe tbody tr th {\n",
       "        vertical-align: top;\n",
       "    }\n",
       "\n",
       "    .dataframe thead th {\n",
       "        text-align: right;\n",
       "    }\n",
       "</style>\n",
       "<table border=\"1\" class=\"dataframe\">\n",
       "  <thead>\n",
       "    <tr style=\"text-align: right;\">\n",
       "      <th></th>\n",
       "      <th>filename</th>\n",
       "      <th>stage</th>\n",
       "    </tr>\n",
       "  </thead>\n",
       "  <tbody>\n",
       "    <tr>\n",
       "      <th>0</th>\n",
       "      <td>1.jpg</td>\n",
       "      <td>cs4</td>\n",
       "    </tr>\n",
       "    <tr>\n",
       "      <th>1</th>\n",
       "      <td>2.jpg</td>\n",
       "      <td>undefined</td>\n",
       "    </tr>\n",
       "    <tr>\n",
       "      <th>2</th>\n",
       "      <td>3.jpg</td>\n",
       "      <td>cs5</td>\n",
       "    </tr>\n",
       "    <tr>\n",
       "      <th>3</th>\n",
       "      <td>4.jpg</td>\n",
       "      <td>cs3</td>\n",
       "    </tr>\n",
       "    <tr>\n",
       "      <th>4</th>\n",
       "      <td>5.jpg</td>\n",
       "      <td>cs6</td>\n",
       "    </tr>\n",
       "    <tr>\n",
       "      <th>5</th>\n",
       "      <td>6.jpg</td>\n",
       "      <td>cs5</td>\n",
       "    </tr>\n",
       "    <tr>\n",
       "      <th>6</th>\n",
       "      <td>7.jpg</td>\n",
       "      <td>cs1</td>\n",
       "    </tr>\n",
       "    <tr>\n",
       "      <th>7</th>\n",
       "      <td>8.jpg</td>\n",
       "      <td>cs4</td>\n",
       "    </tr>\n",
       "    <tr>\n",
       "      <th>8</th>\n",
       "      <td>9.jpg</td>\n",
       "      <td>cs4</td>\n",
       "    </tr>\n",
       "    <tr>\n",
       "      <th>9</th>\n",
       "      <td>10.jpg</td>\n",
       "      <td>cs4</td>\n",
       "    </tr>\n",
       "    <tr>\n",
       "      <th>10</th>\n",
       "      <td>11.jpg</td>\n",
       "      <td>cs6</td>\n",
       "    </tr>\n",
       "    <tr>\n",
       "      <th>11</th>\n",
       "      <td>12.jpg</td>\n",
       "      <td>cs6</td>\n",
       "    </tr>\n",
       "    <tr>\n",
       "      <th>12</th>\n",
       "      <td>13.jpg</td>\n",
       "      <td>cs5</td>\n",
       "    </tr>\n",
       "    <tr>\n",
       "      <th>13</th>\n",
       "      <td>14.jpg</td>\n",
       "      <td>cs1</td>\n",
       "    </tr>\n",
       "    <tr>\n",
       "      <th>14</th>\n",
       "      <td>15.jpg</td>\n",
       "      <td>cs5</td>\n",
       "    </tr>\n",
       "    <tr>\n",
       "      <th>15</th>\n",
       "      <td>16.jpg</td>\n",
       "      <td>cs6</td>\n",
       "    </tr>\n",
       "    <tr>\n",
       "      <th>16</th>\n",
       "      <td>17.jpg</td>\n",
       "      <td>cs1</td>\n",
       "    </tr>\n",
       "    <tr>\n",
       "      <th>17</th>\n",
       "      <td>18.jpg</td>\n",
       "      <td>cs4</td>\n",
       "    </tr>\n",
       "    <tr>\n",
       "      <th>18</th>\n",
       "      <td>19.jpg</td>\n",
       "      <td>cs3</td>\n",
       "    </tr>\n",
       "    <tr>\n",
       "      <th>19</th>\n",
       "      <td>20.jpg</td>\n",
       "      <td>cs4</td>\n",
       "    </tr>\n",
       "    <tr>\n",
       "      <th>20</th>\n",
       "      <td>21.jpg</td>\n",
       "      <td>cs6</td>\n",
       "    </tr>\n",
       "    <tr>\n",
       "      <th>21</th>\n",
       "      <td>22.jpg</td>\n",
       "      <td>cs6</td>\n",
       "    </tr>\n",
       "    <tr>\n",
       "      <th>22</th>\n",
       "      <td>23.jpg</td>\n",
       "      <td>cs4</td>\n",
       "    </tr>\n",
       "    <tr>\n",
       "      <th>23</th>\n",
       "      <td>24.jpg</td>\n",
       "      <td>cs4</td>\n",
       "    </tr>\n",
       "    <tr>\n",
       "      <th>24</th>\n",
       "      <td>25.jpg</td>\n",
       "      <td>cs5</td>\n",
       "    </tr>\n",
       "    <tr>\n",
       "      <th>25</th>\n",
       "      <td>26.jpg</td>\n",
       "      <td>cs3</td>\n",
       "    </tr>\n",
       "    <tr>\n",
       "      <th>26</th>\n",
       "      <td>27.jpg</td>\n",
       "      <td>cs4</td>\n",
       "    </tr>\n",
       "    <tr>\n",
       "      <th>27</th>\n",
       "      <td>28.jpg</td>\n",
       "      <td>cs2</td>\n",
       "    </tr>\n",
       "    <tr>\n",
       "      <th>28</th>\n",
       "      <td>29.jpg</td>\n",
       "      <td>cs1</td>\n",
       "    </tr>\n",
       "    <tr>\n",
       "      <th>29</th>\n",
       "      <td>30.jpg</td>\n",
       "      <td>cs5</td>\n",
       "    </tr>\n",
       "    <tr>\n",
       "      <th>30</th>\n",
       "      <td>31.jpg</td>\n",
       "      <td>cs5</td>\n",
       "    </tr>\n",
       "    <tr>\n",
       "      <th>31</th>\n",
       "      <td>32.jpg</td>\n",
       "      <td>cs3</td>\n",
       "    </tr>\n",
       "    <tr>\n",
       "      <th>32</th>\n",
       "      <td>33.jpg</td>\n",
       "      <td>cs3</td>\n",
       "    </tr>\n",
       "    <tr>\n",
       "      <th>33</th>\n",
       "      <td>34.jpg</td>\n",
       "      <td>cs3</td>\n",
       "    </tr>\n",
       "    <tr>\n",
       "      <th>34</th>\n",
       "      <td>35.jpg</td>\n",
       "      <td>cs4</td>\n",
       "    </tr>\n",
       "    <tr>\n",
       "      <th>35</th>\n",
       "      <td>36.jpg</td>\n",
       "      <td>cs3</td>\n",
       "    </tr>\n",
       "    <tr>\n",
       "      <th>36</th>\n",
       "      <td>37.jpg</td>\n",
       "      <td>cs1</td>\n",
       "    </tr>\n",
       "    <tr>\n",
       "      <th>37</th>\n",
       "      <td>38.jpg</td>\n",
       "      <td>cs4</td>\n",
       "    </tr>\n",
       "    <tr>\n",
       "      <th>38</th>\n",
       "      <td>39.jpg</td>\n",
       "      <td>cs2</td>\n",
       "    </tr>\n",
       "    <tr>\n",
       "      <th>39</th>\n",
       "      <td>40.jpg</td>\n",
       "      <td>cs3</td>\n",
       "    </tr>\n",
       "    <tr>\n",
       "      <th>40</th>\n",
       "      <td>41.jpg</td>\n",
       "      <td>cs2</td>\n",
       "    </tr>\n",
       "    <tr>\n",
       "      <th>41</th>\n",
       "      <td>42.jpg</td>\n",
       "      <td>cs3</td>\n",
       "    </tr>\n",
       "    <tr>\n",
       "      <th>42</th>\n",
       "      <td>43.jpg</td>\n",
       "      <td>cs4</td>\n",
       "    </tr>\n",
       "    <tr>\n",
       "      <th>43</th>\n",
       "      <td>44.jpg</td>\n",
       "      <td>cs1</td>\n",
       "    </tr>\n",
       "    <tr>\n",
       "      <th>44</th>\n",
       "      <td>45.jpg</td>\n",
       "      <td>cs1</td>\n",
       "    </tr>\n",
       "    <tr>\n",
       "      <th>45</th>\n",
       "      <td>46.jpg</td>\n",
       "      <td>cs2</td>\n",
       "    </tr>\n",
       "    <tr>\n",
       "      <th>46</th>\n",
       "      <td>47.jpg</td>\n",
       "      <td>cs3</td>\n",
       "    </tr>\n",
       "    <tr>\n",
       "      <th>47</th>\n",
       "      <td>48.jpg</td>\n",
       "      <td>cs1</td>\n",
       "    </tr>\n",
       "    <tr>\n",
       "      <th>48</th>\n",
       "      <td>49.jpg</td>\n",
       "      <td>cs1</td>\n",
       "    </tr>\n",
       "    <tr>\n",
       "      <th>49</th>\n",
       "      <td>50.jpg</td>\n",
       "      <td>cs3</td>\n",
       "    </tr>\n",
       "    <tr>\n",
       "      <th>50</th>\n",
       "      <td>51.jpg</td>\n",
       "      <td>cs1</td>\n",
       "    </tr>\n",
       "    <tr>\n",
       "      <th>51</th>\n",
       "      <td>52.jpg</td>\n",
       "      <td>cs1</td>\n",
       "    </tr>\n",
       "  </tbody>\n",
       "</table>\n",
       "</div>"
      ],
      "text/plain": [
       "   filename      stage\n",
       "0     1.jpg        cs4\n",
       "1     2.jpg  undefined\n",
       "2     3.jpg        cs5\n",
       "3     4.jpg        cs3\n",
       "4     5.jpg        cs6\n",
       "5     6.jpg        cs5\n",
       "6     7.jpg        cs1\n",
       "7     8.jpg        cs4\n",
       "8     9.jpg        cs4\n",
       "9    10.jpg        cs4\n",
       "10   11.jpg        cs6\n",
       "11   12.jpg        cs6\n",
       "12   13.jpg        cs5\n",
       "13   14.jpg        cs1\n",
       "14   15.jpg        cs5\n",
       "15   16.jpg        cs6\n",
       "16   17.jpg        cs1\n",
       "17   18.jpg        cs4\n",
       "18   19.jpg        cs3\n",
       "19   20.jpg        cs4\n",
       "20   21.jpg        cs6\n",
       "21   22.jpg        cs6\n",
       "22   23.jpg        cs4\n",
       "23   24.jpg        cs4\n",
       "24   25.jpg        cs5\n",
       "25   26.jpg        cs3\n",
       "26   27.jpg        cs4\n",
       "27   28.jpg        cs2\n",
       "28   29.jpg        cs1\n",
       "29   30.jpg        cs5\n",
       "30   31.jpg        cs5\n",
       "31   32.jpg        cs3\n",
       "32   33.jpg        cs3\n",
       "33   34.jpg        cs3\n",
       "34   35.jpg        cs4\n",
       "35   36.jpg        cs3\n",
       "36   37.jpg        cs1\n",
       "37   38.jpg        cs4\n",
       "38   39.jpg        cs2\n",
       "39   40.jpg        cs3\n",
       "40   41.jpg        cs2\n",
       "41   42.jpg        cs3\n",
       "42   43.jpg        cs4\n",
       "43   44.jpg        cs1\n",
       "44   45.jpg        cs1\n",
       "45   46.jpg        cs2\n",
       "46   47.jpg        cs3\n",
       "47   48.jpg        cs1\n",
       "48   49.jpg        cs1\n",
       "49   50.jpg        cs3\n",
       "50   51.jpg        cs1\n",
       "51   52.jpg        cs1"
      ]
     },
     "execution_count": 13,
     "metadata": {},
     "output_type": "execute_result"
    }
   ],
   "source": [
    "stages"
   ]
  },
  {
   "cell_type": "code",
   "execution_count": 14,
   "id": "8b863976-cf63-4681-ad7e-4d554dbf40ca",
   "metadata": {},
   "outputs": [
    {
     "data": {
      "text/plain": [
       "cs4          12\n",
       "cs3          11\n",
       "cs1          11\n",
       "cs5           7\n",
       "cs6           6\n",
       "cs2           4\n",
       "undefined     1\n",
       "Name: stage, dtype: int64"
      ]
     },
     "execution_count": 14,
     "metadata": {},
     "output_type": "execute_result"
    }
   ],
   "source": [
    "stages['stage'].value_counts()"
   ]
  },
  {
   "cell_type": "markdown",
   "id": "4df0dc97-bde7-40c0-8098-a726815afec3",
   "metadata": {},
   "source": [
    "# write stages to disk"
   ]
  },
  {
   "cell_type": "code",
   "execution_count": 15,
   "id": "7290b414-92e2-4a44-ae6e-66842bda1c2f",
   "metadata": {},
   "outputs": [],
   "source": [
    "stages.to_csv(\"artifacts/stages.csv\", sep=';')"
   ]
  },
  {
   "cell_type": "code",
   "execution_count": null,
   "id": "0ab2c443-11e8-44f5-b638-ff8932226e86",
   "metadata": {},
   "outputs": [],
   "source": []
  }
 ],
 "metadata": {
  "kernelspec": {
   "display_name": "Python 3 (ipykernel)",
   "language": "python",
   "name": "python3"
  },
  "language_info": {
   "codemirror_mode": {
    "name": "ipython",
    "version": 3
   },
   "file_extension": ".py",
   "mimetype": "text/x-python",
   "name": "python",
   "nbconvert_exporter": "python",
   "pygments_lexer": "ipython3",
   "version": "3.10.13"
  }
 },
 "nbformat": 4,
 "nbformat_minor": 5
}
