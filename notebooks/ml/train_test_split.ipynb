{
 "cells": [
  {
   "cell_type": "code",
   "execution_count": 1,
   "id": "eb14a0c7-c665-4671-bc71-508a1999b7cc",
   "metadata": {},
   "outputs": [],
   "source": [
    "%load_ext autoreload\n",
    "%autoreload 2"
   ]
  },
  {
   "cell_type": "markdown",
   "id": "d97e649b-5579-438f-8743-826c94356990",
   "metadata": {},
   "source": [
    "# Introduction and Objective\n",
    "## Splitting the data into train, val, and test\n",
    "\n",
    "Note! the Isfahan Uni of Med Science data (dataset_1) are excluded from this round of analysis. We include that \n",
    "dataset when we have their metadata avilable so that we can split them by stratification on the subjects' age."
   ]
  },
  {
   "cell_type": "code",
   "execution_count": 2,
   "id": "9ac9eb5f-e4f7-4a51-ad13-637b556c0bde",
   "metadata": {},
   "outputs": [],
   "source": [
    "import numpy as np\n",
    "import yaml\n",
    "import os\n",
    "import matplotlib.pyplot as plt\n",
    "import matplotlib.ticker as ticker\n",
    "import pandas as pd"
   ]
  },
  {
   "cell_type": "code",
   "execution_count": 3,
   "id": "2d821050-b28a-464b-8246-722f02532cc4",
   "metadata": {},
   "outputs": [
    {
     "name": "stderr",
     "output_type": "stream",
     "text": [
      "/home/samehr/Desktop/cephal/cvmt/.venv/lib/python3.8/site-packages/tqdm/auto.py:21: TqdmWarning: IProgress not found. Please update jupyter and ipywidgets. See https://ipywidgets.readthedocs.io/en/stable/user_install.html\n",
      "  from .autonotebook import tqdm as notebook_tqdm\n"
     ]
    }
   ],
   "source": [
    "from utils import split_filenames, nested_dict_to_easydict"
   ]
  },
  {
   "cell_type": "code",
   "execution_count": 4,
   "id": "f1189e53-3665-4c31-b101-71fde8a57767",
   "metadata": {},
   "outputs": [],
   "source": [
    "pd.set_option('display.max_rows', 2000)\n",
    "pd.set_option('display.max_columns', None)"
   ]
  },
  {
   "cell_type": "markdown",
   "id": "07021848-d7f9-4539-bc5d-1666e39b68c8",
   "metadata": {},
   "source": [
    "# load parameters"
   ]
  },
  {
   "cell_type": "code",
   "execution_count": 5,
   "id": "738e8cbe-ee09-49d4-8322-ad992a984885",
   "metadata": {},
   "outputs": [],
   "source": [
    "with open(\"../../code_configs/params.yaml\") as f:\n",
    "    PARAMS = yaml.safe_load(f)\n",
    "    PARAMS = nested_dict_to_easydict(PARAMS)"
   ]
  },
  {
   "cell_type": "code",
   "execution_count": 6,
   "id": "c5cec521-f139-4359-9400-fe0b1fe6cf64",
   "metadata": {},
   "outputs": [
    {
     "name": "stdout",
     "output_type": "stream",
     "text": [
      "{'RAW_DATA_DIRECTORY': '../../data/raw', 'INTERMEDIATE_DATA_DIRECTORY': '../../data/intermediate', 'PRIMARY_DATA_DIRECTORY': '../../data/primary', 'ARTIFACTS_DATA_DIRECTORY': '../../artifacts', 'DATASET_1_RAW_ZIP_FILE_NAME': 'radiography-20221212T190109Z-001.zip', 'DATASET_1_RAW_ZIP_NEW_ANNOT_FILE_NAME': 'label_edited-20230122T143005Z-001.zip', 'DATASET_1_INTERMEDIATE_DIR_NAME': 'dataset_1', 'DATASET_1_UNWANTED_JSON_FIELDS': ['imageData'], 'DATASET_3_RAW_RAR_FILE_NAME': 'RawImage.rar', 'DATASET_3_RAW_DIR_NAME_TEMP': 'dataset_3_bmp', 'DATASET_3_RAW_DIR_NAME': 'dataset_3_raw_data', 'UNWANTED_JSON_FIELDS': ['imageData', 'imagePath'], 'DATASET_1_INTERM_DIR_NAME': 'dataset_1_interm_data-20230513T084705Z-001', 'DATASET_1_INTERM_IMG_DIR_NAME': ['image'], 'DATASET_1_INTERM_V_LANDMARKS_DIR_NAME': ['label'], 'DATASET_1_INTERM_F_LANDMARKS_DIR_NAME': None, 'DATASET_2_INTERM_DIR_NAME': 'dataset_2_interm_data-20230304T160421Z-001', 'DATASET_2_INTERM_IMG_DIR_NAME': ['image'], 'DATASET_2_INTERM_V_LANDMARKS_DIR_NAME': ['label'], 'DATASET_2_INTERM_F_LANDMARKS_DIR_NAME': None, 'DATASET_3_INTERM_DIR_NAME': 'dataset_3_interm_data-20230304T160433Z-001', 'DATASET_3_INTERM_IMG_DIR_NAME': ['training/image', 'test1/image', 'test2/image'], 'DATASET_3_INTERM_V_LANDMARKS_DIR_NAME': ['training/label', 'test1/label', 'test2/label'], 'DATASET_3_INTERM_F_LANDMARKS_DIR_NAME': 'AnnotationsByMD/400_senior', 'DATASET_1_EDGE_DETECT_SIGMA': 3, 'DATASET_2_EDGE_DETECT_SIGMA': 3, 'DATASET_3_EDGE_DETECT_SIGMA': 3, 'ARTIFACTS_GRAPHS_DIR_NAME': 'sample_graphs', 'TRAIN': {'METADATA_TABLE_NAME': 'metadata.hdf5', 'DATASETS_TO_INCLUDE': ['dataset_2', 'dataset_3'], 'TARGET_IMAGE_SIZE': [256, 256], 'GAUSSIAN_COORD2HEATMAP_STD': 3, 'MULTIPLE_TASKS': [{'TASK_ID': 3, 'BATCH_SIZE': 16}, {'TASK_ID': 4, 'BATCH_SIZE': 16}], 'SINGLE_TASK': {'TASK_ID': 3, 'BATCH_SIZE': 16}, 'MAX_EPOCHS': 10}, 'MODEL': {'DEVICE': 'cuda', 'PARAMS': {'backbone_encoder': 'efficientnet-b4', 'backbone_weights': 'imagenet', 'freeze_backbone': True, 'enc_chan_multiplier': 1, 'dec_chan_multiplier': 1, 'enc_out_chans': [4, 8, 16, 32, 64], 'dec_out_chans': [64, 32, 16, 8, 4], 'in_channels': 1, 'out_channels1': 1, 'out_channels2': 1, 'out_channels3': 13, 'out_channels4': 19}}}\n"
     ]
    }
   ],
   "source": [
    "print(PARAMS)"
   ]
  },
  {
   "cell_type": "markdown",
   "id": "8217ec1b-27c1-4a4c-9f3a-eef6d4cf369e",
   "metadata": {},
   "source": [
    "# load the metadata table and perform the splitting"
   ]
  },
  {
   "cell_type": "code",
   "execution_count": 7,
   "id": "bf6c585d-316f-4489-9821-f864f594bcb3",
   "metadata": {},
   "outputs": [],
   "source": [
    "store = pd.HDFStore(\n",
    "    os.path.join(PARAMS.PRIMARY_DATA_DIRECTORY, PARAMS.TRAIN.METADATA_TABLE_NAME),\n",
    "    mode='a',\n",
    ")\n",
    "# read the table into a pandas DataFrame\n",
    "metadata_table = store.select('df')"
   ]
  },
  {
   "cell_type": "code",
   "execution_count": 8,
   "id": "c729de7a",
   "metadata": {},
   "outputs": [
    {
     "data": {
      "text/plain": [
       "(621, 16)"
      ]
     },
     "execution_count": 8,
     "metadata": {},
     "output_type": "execute_result"
    }
   ],
   "source": [
    "metadata_table.shape"
   ]
  },
  {
   "cell_type": "code",
   "execution_count": 9,
   "id": "90a98de8-e50c-4d13-8cfb-7b063c97c510",
   "metadata": {},
   "outputs": [
    {
     "data": {
      "text/html": [
       "<div>\n",
       "<style scoped>\n",
       "    .dataframe tbody tr th:only-of-type {\n",
       "        vertical-align: middle;\n",
       "    }\n",
       "\n",
       "    .dataframe tbody tr th {\n",
       "        vertical-align: top;\n",
       "    }\n",
       "\n",
       "    .dataframe thead th {\n",
       "        text-align: right;\n",
       "    }\n",
       "</style>\n",
       "<table border=\"1\" class=\"dataframe\">\n",
       "  <thead>\n",
       "    <tr style=\"text-align: right;\">\n",
       "      <th></th>\n",
       "      <th>v_annots_present</th>\n",
       "      <th>f_annots_present</th>\n",
       "      <th>edges_present</th>\n",
       "      <th>f_annots_rows</th>\n",
       "      <th>f_annots_cols</th>\n",
       "      <th>harmonized_id</th>\n",
       "      <th>v_annots_2_rows</th>\n",
       "      <th>v_annots_2_cols</th>\n",
       "      <th>v_annots_3_rows</th>\n",
       "      <th>v_annots_3_cols</th>\n",
       "      <th>v_annots_4_rows</th>\n",
       "      <th>v_annots_4_cols</th>\n",
       "      <th>source_image_filename</th>\n",
       "      <th>dataset</th>\n",
       "      <th>dev_set</th>\n",
       "      <th>valid</th>\n",
       "    </tr>\n",
       "  </thead>\n",
       "  <tbody>\n",
       "    <tr>\n",
       "      <th>0</th>\n",
       "      <td>True</td>\n",
       "      <td>False</td>\n",
       "      <td>True</td>\n",
       "      <td>NaN</td>\n",
       "      <td>NaN</td>\n",
       "      <td>041281ee7fb89f6835a71c309b3b503e3d5a68fc46a608...</td>\n",
       "      <td>3.0</td>\n",
       "      <td>2.0</td>\n",
       "      <td>5.0</td>\n",
       "      <td>2.0</td>\n",
       "      <td>5.0</td>\n",
       "      <td>2.0</td>\n",
       "      <td>45.jpg</td>\n",
       "      <td>dataset_1</td>\n",
       "      <td>NaN</td>\n",
       "      <td>True</td>\n",
       "    </tr>\n",
       "    <tr>\n",
       "      <th>1</th>\n",
       "      <td>True</td>\n",
       "      <td>False</td>\n",
       "      <td>True</td>\n",
       "      <td>NaN</td>\n",
       "      <td>NaN</td>\n",
       "      <td>2cfa37a69916c8a45a51bb8beeb04425e07d2a22f694e0...</td>\n",
       "      <td>3.0</td>\n",
       "      <td>2.0</td>\n",
       "      <td>5.0</td>\n",
       "      <td>2.0</td>\n",
       "      <td>5.0</td>\n",
       "      <td>2.0</td>\n",
       "      <td>92.jpg</td>\n",
       "      <td>dataset_1</td>\n",
       "      <td>NaN</td>\n",
       "      <td>True</td>\n",
       "    </tr>\n",
       "    <tr>\n",
       "      <th>2</th>\n",
       "      <td>True</td>\n",
       "      <td>False</td>\n",
       "      <td>True</td>\n",
       "      <td>NaN</td>\n",
       "      <td>NaN</td>\n",
       "      <td>7201dc2be0b97f59a7901004d6496bbe84c440530776db...</td>\n",
       "      <td>3.0</td>\n",
       "      <td>2.0</td>\n",
       "      <td>5.0</td>\n",
       "      <td>2.0</td>\n",
       "      <td>5.0</td>\n",
       "      <td>2.0</td>\n",
       "      <td>43.jpg</td>\n",
       "      <td>dataset_1</td>\n",
       "      <td>NaN</td>\n",
       "      <td>True</td>\n",
       "    </tr>\n",
       "    <tr>\n",
       "      <th>3</th>\n",
       "      <td>True</td>\n",
       "      <td>False</td>\n",
       "      <td>True</td>\n",
       "      <td>NaN</td>\n",
       "      <td>NaN</td>\n",
       "      <td>2cd4487c03c72d1016ea0a72d1b21eb987878c90ae9eff...</td>\n",
       "      <td>3.0</td>\n",
       "      <td>2.0</td>\n",
       "      <td>5.0</td>\n",
       "      <td>2.0</td>\n",
       "      <td>5.0</td>\n",
       "      <td>2.0</td>\n",
       "      <td>7.jpg</td>\n",
       "      <td>dataset_1</td>\n",
       "      <td>NaN</td>\n",
       "      <td>True</td>\n",
       "    </tr>\n",
       "    <tr>\n",
       "      <th>4</th>\n",
       "      <td>True</td>\n",
       "      <td>False</td>\n",
       "      <td>True</td>\n",
       "      <td>NaN</td>\n",
       "      <td>NaN</td>\n",
       "      <td>27624a6eb37bbc8aafabe2075f423d573b189eae6f23fb...</td>\n",
       "      <td>3.0</td>\n",
       "      <td>2.0</td>\n",
       "      <td>5.0</td>\n",
       "      <td>2.0</td>\n",
       "      <td>5.0</td>\n",
       "      <td>2.0</td>\n",
       "      <td>121.jpg</td>\n",
       "      <td>dataset_1</td>\n",
       "      <td>NaN</td>\n",
       "      <td>True</td>\n",
       "    </tr>\n",
       "  </tbody>\n",
       "</table>\n",
       "</div>"
      ],
      "text/plain": [
       "   v_annots_present  f_annots_present  edges_present f_annots_rows  \\\n",
       "0              True             False           True           NaN   \n",
       "1              True             False           True           NaN   \n",
       "2              True             False           True           NaN   \n",
       "3              True             False           True           NaN   \n",
       "4              True             False           True           NaN   \n",
       "\n",
       "  f_annots_cols                                      harmonized_id  \\\n",
       "0           NaN  041281ee7fb89f6835a71c309b3b503e3d5a68fc46a608...   \n",
       "1           NaN  2cfa37a69916c8a45a51bb8beeb04425e07d2a22f694e0...   \n",
       "2           NaN  7201dc2be0b97f59a7901004d6496bbe84c440530776db...   \n",
       "3           NaN  2cd4487c03c72d1016ea0a72d1b21eb987878c90ae9eff...   \n",
       "4           NaN  27624a6eb37bbc8aafabe2075f423d573b189eae6f23fb...   \n",
       "\n",
       "   v_annots_2_rows  v_annots_2_cols  v_annots_3_rows  v_annots_3_cols  \\\n",
       "0              3.0              2.0              5.0              2.0   \n",
       "1              3.0              2.0              5.0              2.0   \n",
       "2              3.0              2.0              5.0              2.0   \n",
       "3              3.0              2.0              5.0              2.0   \n",
       "4              3.0              2.0              5.0              2.0   \n",
       "\n",
       "   v_annots_4_rows  v_annots_4_cols source_image_filename    dataset dev_set  \\\n",
       "0              5.0              2.0                45.jpg  dataset_1     NaN   \n",
       "1              5.0              2.0                92.jpg  dataset_1     NaN   \n",
       "2              5.0              2.0                43.jpg  dataset_1     NaN   \n",
       "3              5.0              2.0                 7.jpg  dataset_1     NaN   \n",
       "4              5.0              2.0               121.jpg  dataset_1     NaN   \n",
       "\n",
       "   valid  \n",
       "0   True  \n",
       "1   True  \n",
       "2   True  \n",
       "3   True  \n",
       "4   True  "
      ]
     },
     "execution_count": 9,
     "metadata": {},
     "output_type": "execute_result"
    }
   ],
   "source": [
    "metadata_table.head(5)"
   ]
  },
  {
   "cell_type": "code",
   "execution_count": 10,
   "id": "a791d96e-cec3-4b9d-8cbf-8d9dd4731183",
   "metadata": {},
   "outputs": [],
   "source": [
    "selected_samples = metadata_table.loc[\n",
    "    (metadata_table['dataset'].isin(PARAMS.TRAIN.DATASETS_TO_INCLUDE)) & (\n",
    "        metadata_table['valid'] == True\n",
    "    ),\n",
    "    ['harmonized_id', 'dataset']\n",
    "]"
   ]
  },
  {
   "cell_type": "code",
   "execution_count": 11,
   "id": "67f3e332-0c43-45f5-9ad0-8f2d0b1a3d89",
   "metadata": {},
   "outputs": [
    {
     "data": {
      "text/plain": [
       "(475, 2)"
      ]
     },
     "execution_count": 11,
     "metadata": {},
     "output_type": "execute_result"
    }
   ],
   "source": [
    "selected_samples.shape"
   ]
  },
  {
   "cell_type": "markdown",
   "id": "6921b57c-28fe-44c7-afe3-31678ca58984",
   "metadata": {},
   "source": [
    "# Perform the splitting"
   ]
  },
  {
   "cell_type": "code",
   "execution_count": 12,
   "id": "2e107853-e5fd-476a-904c-79808cbbd306",
   "metadata": {},
   "outputs": [],
   "source": [
    "train_files, val_files, test_files = split_filenames(    \n",
    "    filenames=selected_samples['harmonized_id'].tolist(), \n",
    "    train_ratio=0.6,\n",
    "    val_ratio=0.2,\n",
    "    test_ratio=0.2,\n",
    "    seed=100,\n",
    "    grouping_factor=selected_samples['dataset'].tolist(),\n",
    ")"
   ]
  },
  {
   "cell_type": "markdown",
   "id": "5ec428ef-3662-4584-afbd-16760806bfcd",
   "metadata": {},
   "source": [
    "# store the splits into a table"
   ]
  },
  {
   "cell_type": "code",
   "execution_count": 13,
   "id": "d3d7ab15-617b-4b7c-b963-eca69d03b402",
   "metadata": {},
   "outputs": [],
   "source": [
    "indices_train = np.where(\n",
    "    np.isin(\n",
    "        metadata_table['harmonized_id'].to_numpy(), \n",
    "        train_files,\n",
    "    )\n",
    ")[0]"
   ]
  },
  {
   "cell_type": "code",
   "execution_count": 14,
   "id": "2ecc0cbd-a58e-4f51-8011-d859836eed59",
   "metadata": {},
   "outputs": [],
   "source": [
    "indices_val = np.where(\n",
    "    np.isin(\n",
    "        metadata_table['harmonized_id'].to_numpy(), \n",
    "        val_files,\n",
    "    )\n",
    ")[0]"
   ]
  },
  {
   "cell_type": "code",
   "execution_count": 15,
   "id": "4d89dd2e-97f9-40d7-977c-ad2821e6908c",
   "metadata": {},
   "outputs": [],
   "source": [
    "indices_test = np.where(\n",
    "    np.isin(\n",
    "        metadata_table['harmonized_id'].to_numpy(), \n",
    "        test_files,\n",
    "    )\n",
    ")[0]"
   ]
  },
  {
   "cell_type": "code",
   "execution_count": 16,
   "id": "882acd9f-6211-4569-869f-51af728fafa7",
   "metadata": {},
   "outputs": [],
   "source": [
    "split_arr = np.repeat('undefined', metadata_table.shape[0],)"
   ]
  },
  {
   "cell_type": "code",
   "execution_count": 17,
   "id": "efd6738e-b1d3-4f53-bf9b-ab01d4171511",
   "metadata": {},
   "outputs": [],
   "source": [
    "split_arr[indices_train] = np.repeat('train', indices_train.shape)\n",
    "split_arr[indices_val] = np.repeat('val', indices_val.shape)\n",
    "split_arr[indices_test] = np.repeat('test', indices_test.shape)"
   ]
  },
  {
   "cell_type": "code",
   "execution_count": 18,
   "id": "4d386523-80a2-420c-82f4-d73181f233dd",
   "metadata": {},
   "outputs": [],
   "source": [
    "metadata_table['split'] = split_arr"
   ]
  },
  {
   "cell_type": "code",
   "execution_count": 19,
   "id": "569b2872-bd89-4ace-8bd3-b823c7303772",
   "metadata": {},
   "outputs": [
    {
     "data": {
      "text/plain": [
       "split      dataset  \n",
       "train      dataset_3    237\n",
       "undefined  dataset_1    142\n",
       "test       dataset_3     80\n",
       "val        dataset_3     79\n",
       "train      dataset_2     47\n",
       "test       dataset_2     17\n",
       "val        dataset_2     15\n",
       "undefined  dataset_3      4\n",
       "dtype: int64"
      ]
     },
     "execution_count": 19,
     "metadata": {},
     "output_type": "execute_result"
    }
   ],
   "source": [
    "metadata_table.loc[:,['split', 'dataset']].value_counts()"
   ]
  },
  {
   "cell_type": "code",
   "execution_count": 20,
   "id": "1731bbfc",
   "metadata": {},
   "outputs": [
    {
     "data": {
      "text/html": [
       "<div>\n",
       "<style scoped>\n",
       "    .dataframe tbody tr th:only-of-type {\n",
       "        vertical-align: middle;\n",
       "    }\n",
       "\n",
       "    .dataframe tbody tr th {\n",
       "        vertical-align: top;\n",
       "    }\n",
       "\n",
       "    .dataframe thead th {\n",
       "        text-align: right;\n",
       "    }\n",
       "</style>\n",
       "<table border=\"1\" class=\"dataframe\">\n",
       "  <thead>\n",
       "    <tr style=\"text-align: right;\">\n",
       "      <th></th>\n",
       "      <th>v_annots_present</th>\n",
       "      <th>f_annots_present</th>\n",
       "      <th>edges_present</th>\n",
       "      <th>f_annots_rows</th>\n",
       "      <th>f_annots_cols</th>\n",
       "      <th>harmonized_id</th>\n",
       "      <th>v_annots_2_rows</th>\n",
       "      <th>v_annots_2_cols</th>\n",
       "      <th>v_annots_3_rows</th>\n",
       "      <th>v_annots_3_cols</th>\n",
       "      <th>v_annots_4_rows</th>\n",
       "      <th>v_annots_4_cols</th>\n",
       "      <th>source_image_filename</th>\n",
       "      <th>dataset</th>\n",
       "      <th>dev_set</th>\n",
       "      <th>valid</th>\n",
       "      <th>split</th>\n",
       "    </tr>\n",
       "  </thead>\n",
       "  <tbody>\n",
       "    <tr>\n",
       "      <th>266</th>\n",
       "      <td>True</td>\n",
       "      <td>True</td>\n",
       "      <td>True</td>\n",
       "      <td>19</td>\n",
       "      <td>2</td>\n",
       "      <td>d7fc3b01b39c52636257e70c66aadbfac93e06bee24874...</td>\n",
       "      <td>5.0</td>\n",
       "      <td>2.0</td>\n",
       "      <td>NaN</td>\n",
       "      <td>NaN</td>\n",
       "      <td>5.0</td>\n",
       "      <td>2.0</td>\n",
       "      <td>054.jpeg</td>\n",
       "      <td>dataset_3</td>\n",
       "      <td>training</td>\n",
       "      <td>False</td>\n",
       "      <td>undefined</td>\n",
       "    </tr>\n",
       "    <tr>\n",
       "      <th>335</th>\n",
       "      <td>True</td>\n",
       "      <td>True</td>\n",
       "      <td>True</td>\n",
       "      <td>19</td>\n",
       "      <td>2</td>\n",
       "      <td>a07a5a11953b5895737cf2073715be2bb15411bd45ff91...</td>\n",
       "      <td>NaN</td>\n",
       "      <td>NaN</td>\n",
       "      <td>5.0</td>\n",
       "      <td>2.0</td>\n",
       "      <td>5.0</td>\n",
       "      <td>2.0</td>\n",
       "      <td>115.jpeg</td>\n",
       "      <td>dataset_3</td>\n",
       "      <td>training</td>\n",
       "      <td>False</td>\n",
       "      <td>undefined</td>\n",
       "    </tr>\n",
       "    <tr>\n",
       "      <th>384</th>\n",
       "      <td>True</td>\n",
       "      <td>True</td>\n",
       "      <td>True</td>\n",
       "      <td>19</td>\n",
       "      <td>2</td>\n",
       "      <td>2231a08c6ea2c6d93e7706f7ed51710a039e53203b0d9d...</td>\n",
       "      <td>NaN</td>\n",
       "      <td>NaN</td>\n",
       "      <td>5.0</td>\n",
       "      <td>2.0</td>\n",
       "      <td>5.0</td>\n",
       "      <td>2.0</td>\n",
       "      <td>271.jpeg</td>\n",
       "      <td>dataset_3</td>\n",
       "      <td>test1</td>\n",
       "      <td>False</td>\n",
       "      <td>undefined</td>\n",
       "    </tr>\n",
       "    <tr>\n",
       "      <th>426</th>\n",
       "      <td>True</td>\n",
       "      <td>True</td>\n",
       "      <td>True</td>\n",
       "      <td>19</td>\n",
       "      <td>2</td>\n",
       "      <td>0c13b055b51564143a2c52b8558a37888bc45625966fc0...</td>\n",
       "      <td>5.0</td>\n",
       "      <td>2.0</td>\n",
       "      <td>NaN</td>\n",
       "      <td>NaN</td>\n",
       "      <td>5.0</td>\n",
       "      <td>2.0</td>\n",
       "      <td>180.jpeg</td>\n",
       "      <td>dataset_3</td>\n",
       "      <td>test1</td>\n",
       "      <td>False</td>\n",
       "      <td>undefined</td>\n",
       "    </tr>\n",
       "  </tbody>\n",
       "</table>\n",
       "</div>"
      ],
      "text/plain": [
       "     v_annots_present  f_annots_present  edges_present f_annots_rows  \\\n",
       "266              True              True           True            19   \n",
       "335              True              True           True            19   \n",
       "384              True              True           True            19   \n",
       "426              True              True           True            19   \n",
       "\n",
       "    f_annots_cols                                      harmonized_id  \\\n",
       "266             2  d7fc3b01b39c52636257e70c66aadbfac93e06bee24874...   \n",
       "335             2  a07a5a11953b5895737cf2073715be2bb15411bd45ff91...   \n",
       "384             2  2231a08c6ea2c6d93e7706f7ed51710a039e53203b0d9d...   \n",
       "426             2  0c13b055b51564143a2c52b8558a37888bc45625966fc0...   \n",
       "\n",
       "     v_annots_2_rows  v_annots_2_cols  v_annots_3_rows  v_annots_3_cols  \\\n",
       "266              5.0              2.0              NaN              NaN   \n",
       "335              NaN              NaN              5.0              2.0   \n",
       "384              NaN              NaN              5.0              2.0   \n",
       "426              5.0              2.0              NaN              NaN   \n",
       "\n",
       "     v_annots_4_rows  v_annots_4_cols source_image_filename    dataset  \\\n",
       "266              5.0              2.0              054.jpeg  dataset_3   \n",
       "335              5.0              2.0              115.jpeg  dataset_3   \n",
       "384              5.0              2.0              271.jpeg  dataset_3   \n",
       "426              5.0              2.0              180.jpeg  dataset_3   \n",
       "\n",
       "      dev_set  valid      split  \n",
       "266  training  False  undefined  \n",
       "335  training  False  undefined  \n",
       "384     test1  False  undefined  \n",
       "426     test1  False  undefined  "
      ]
     },
     "execution_count": 20,
     "metadata": {},
     "output_type": "execute_result"
    }
   ],
   "source": [
    "metadata_table.loc[metadata_table['valid']==False,]"
   ]
  },
  {
   "cell_type": "markdown",
   "id": "8e772e53-9c52-4b92-9db8-f96e155aa227",
   "metadata": {},
   "source": [
    "# write the new column to the metadata table"
   ]
  },
  {
   "cell_type": "code",
   "execution_count": 21,
   "id": "9bf0c7bc-fe16-463b-b1e8-1be413c04043",
   "metadata": {},
   "outputs": [],
   "source": [
    "metadata_table.reset_index(drop=True, inplace=True)"
   ]
  },
  {
   "cell_type": "code",
   "execution_count": 22,
   "id": "9e06999d-18d0-43c5-86a6-4f6068c7d375",
   "metadata": {},
   "outputs": [
    {
     "name": "stderr",
     "output_type": "stream",
     "text": [
      "/tmp/ipykernel_10140/2697669934.py:2: PerformanceWarning: \n",
      "your performance may suffer as PyTables will pickle object types that it cannot\n",
      "map directly to c-types [inferred_type->mixed-integer,key->block2_values] [items->Index(['f_annots_rows', 'f_annots_cols', 'harmonized_id',\n",
      "       'source_image_filename', 'dataset', 'dev_set', 'split'],\n",
      "      dtype='object')]\n",
      "\n",
      "  store.put('df', metadata_table, data_columns=True)\n"
     ]
    }
   ],
   "source": [
    "# write the modified DataFrame back to the HDF5 file\n",
    "store.put('df', metadata_table, data_columns=True)\n",
    "store.close()"
   ]
  }
 ],
 "metadata": {
  "kernelspec": {
   "display_name": "Python 3 (ipykernel)",
   "language": "python",
   "name": "python3"
  },
  "language_info": {
   "codemirror_mode": {
    "name": "ipython",
    "version": 3
   },
   "file_extension": ".py",
   "mimetype": "text/x-python",
   "name": "python",
   "nbconvert_exporter": "python",
   "pygments_lexer": "ipython3",
   "version": "3.8.10"
  }
 },
 "nbformat": 4,
 "nbformat_minor": 5
}
